{
 "cells": [
  {
   "cell_type": "code",
   "execution_count": 1,
   "id": "95e75d2f",
   "metadata": {},
   "outputs": [],
   "source": [
    "import numpy as np\n",
    "from numpy.random import randn\n",
    "import matplotlib.pyplot as plt\n",
    "import pandas as pd\n",
    "from pandas import Series, DataFrame,date_range\n",
    "from matplotlib import cm\n",
    "import seaborn as sns\n",
    "import scipy as sp\n",
    "import math\n",
    "import warnings\n",
    "import glob,os\n",
    "from scipy.stats import kstest\n",
    "\n",
    "warnings.filterwarnings('ignore')"
   ]
  },
  {
   "cell_type": "code",
   "execution_count": 42,
   "id": "922c8553",
   "metadata": {},
   "outputs": [
    {
     "name": "stdout",
     "output_type": "stream",
     "text": [
      "['bwa.indel' 'minimap.indel' 'minimap.mappersamtovcf' 'minimap.bcfdefault'\n",
      " 'bwa' 'bowtie.indel' 'bowtie.mappersamtovcf' 'bwa.mappersamtovcf'\n",
      " 'bowtie' 'bowtie.bcfdefault' 'minimap' 'bwa.bcfdefault']\n",
      "['AkMu' 'BiAd' 'BaFr' 'BaOv' 'BaVu' 'PaDi' 'BaFa' 'EsCo' 'BaXy']\n",
      "['bowtie2' 'bwa' 'minimap2'] ['QuickVariants' 'bcftools Mul-ALT' 'bcftools default' 'bcftools indel']\n"
     ]
    },
    {
     "data": {
      "text/html": [
       "<div>\n",
       "<style scoped>\n",
       "    .dataframe tbody tr th:only-of-type {\n",
       "        vertical-align: middle;\n",
       "    }\n",
       "\n",
       "    .dataframe tbody tr th {\n",
       "        vertical-align: top;\n",
       "    }\n",
       "\n",
       "    .dataframe thead th {\n",
       "        text-align: right;\n",
       "    }\n",
       "</style>\n",
       "<table border=\"1\" class=\"dataframe\">\n",
       "  <thead>\n",
       "    <tr style=\"text-align: right;\">\n",
       "      <th></th>\n",
       "      <th>sample</th>\n",
       "      <th>FP</th>\n",
       "      <th>FN</th>\n",
       "      <th>total_refSNP</th>\n",
       "      <th>Genome</th>\n",
       "      <th>Tool</th>\n",
       "      <th>tooldetauls</th>\n",
       "      <th>total SNPs</th>\n",
       "      <th>VCF caller</th>\n",
       "      <th>FPrate</th>\n",
       "      <th>FNrate</th>\n",
       "      <th>Tool VCF caller</th>\n",
       "    </tr>\n",
       "  </thead>\n",
       "  <tbody>\n",
       "    <tr>\n",
       "      <th>64</th>\n",
       "      <td>am_AkMu_g0002.fasta.corrected.1e-06.SNP.fasta....</td>\n",
       "      <td>7</td>\n",
       "      <td>0</td>\n",
       "      <td>0.000001</td>\n",
       "      <td>AkMu</td>\n",
       "      <td>bowtie2</td>\n",
       "      <td>bowtie.mappersamtovcf.vcf.final.vcf</td>\n",
       "      <td>24</td>\n",
       "      <td>QuickVariants</td>\n",
       "      <td>0.291667</td>\n",
       "      <td>0.000000</td>\n",
       "      <td>bowtie2-QuickVariants</td>\n",
       "    </tr>\n",
       "    <tr>\n",
       "      <th>99</th>\n",
       "      <td>am_AkMu_g0002.fasta.corrected.2e-06.SNP.fasta....</td>\n",
       "      <td>0</td>\n",
       "      <td>0</td>\n",
       "      <td>0.000002</td>\n",
       "      <td>AkMu</td>\n",
       "      <td>bowtie2</td>\n",
       "      <td>bowtie.mappersamtovcf.vcf.final.vcf</td>\n",
       "      <td>24</td>\n",
       "      <td>QuickVariants</td>\n",
       "      <td>0.000000</td>\n",
       "      <td>0.000000</td>\n",
       "      <td>bowtie2-QuickVariants</td>\n",
       "    </tr>\n",
       "    <tr>\n",
       "      <th>142</th>\n",
       "      <td>am_AkMu_g0002.fasta.corrected.3e-06.SNP.fasta....</td>\n",
       "      <td>0</td>\n",
       "      <td>0</td>\n",
       "      <td>0.000003</td>\n",
       "      <td>AkMu</td>\n",
       "      <td>bowtie2</td>\n",
       "      <td>bowtie.mappersamtovcf.vcf.final.vcf</td>\n",
       "      <td>27</td>\n",
       "      <td>QuickVariants</td>\n",
       "      <td>0.000000</td>\n",
       "      <td>0.000000</td>\n",
       "      <td>bowtie2-QuickVariants</td>\n",
       "    </tr>\n",
       "    <tr>\n",
       "      <th>173</th>\n",
       "      <td>am_AkMu_g0002.fasta.corrected.4e-06.SNP.fasta....</td>\n",
       "      <td>0</td>\n",
       "      <td>0</td>\n",
       "      <td>0.000004</td>\n",
       "      <td>AkMu</td>\n",
       "      <td>bowtie2</td>\n",
       "      <td>bowtie.mappersamtovcf.vcf.final.vcf</td>\n",
       "      <td>29</td>\n",
       "      <td>QuickVariants</td>\n",
       "      <td>0.000000</td>\n",
       "      <td>0.000000</td>\n",
       "      <td>bowtie2-QuickVariants</td>\n",
       "    </tr>\n",
       "    <tr>\n",
       "      <th>229</th>\n",
       "      <td>am_AkMu_g0002.fasta.corrected.5e-06.SNP.fasta....</td>\n",
       "      <td>0</td>\n",
       "      <td>1</td>\n",
       "      <td>0.000005</td>\n",
       "      <td>AkMu</td>\n",
       "      <td>bowtie2</td>\n",
       "      <td>bowtie.mappersamtovcf.vcf.final.vcf</td>\n",
       "      <td>30</td>\n",
       "      <td>QuickVariants</td>\n",
       "      <td>0.000000</td>\n",
       "      <td>0.033333</td>\n",
       "      <td>bowtie2-QuickVariants</td>\n",
       "    </tr>\n",
       "  </tbody>\n",
       "</table>\n",
       "</div>"
      ],
      "text/plain": [
       "                                                sample  FP  FN  total_refSNP  \\\n",
       "64   am_AkMu_g0002.fasta.corrected.1e-06.SNP.fasta....   7   0      0.000001   \n",
       "99   am_AkMu_g0002.fasta.corrected.2e-06.SNP.fasta....   0   0      0.000002   \n",
       "142  am_AkMu_g0002.fasta.corrected.3e-06.SNP.fasta....   0   0      0.000003   \n",
       "173  am_AkMu_g0002.fasta.corrected.4e-06.SNP.fasta....   0   0      0.000004   \n",
       "229  am_AkMu_g0002.fasta.corrected.5e-06.SNP.fasta....   0   1      0.000005   \n",
       "\n",
       "    Genome     Tool                          tooldetauls  total SNPs  \\\n",
       "64    AkMu  bowtie2  bowtie.mappersamtovcf.vcf.final.vcf          24   \n",
       "99    AkMu  bowtie2  bowtie.mappersamtovcf.vcf.final.vcf          24   \n",
       "142   AkMu  bowtie2  bowtie.mappersamtovcf.vcf.final.vcf          27   \n",
       "173   AkMu  bowtie2  bowtie.mappersamtovcf.vcf.final.vcf          29   \n",
       "229   AkMu  bowtie2  bowtie.mappersamtovcf.vcf.final.vcf          30   \n",
       "\n",
       "        VCF caller    FPrate    FNrate        Tool VCF caller  \n",
       "64   QuickVariants  0.291667  0.000000  bowtie2-QuickVariants  \n",
       "99   QuickVariants  0.000000  0.000000  bowtie2-QuickVariants  \n",
       "142  QuickVariants  0.000000  0.000000  bowtie2-QuickVariants  \n",
       "173  QuickVariants  0.000000  0.000000  bowtie2-QuickVariants  \n",
       "229  QuickVariants  0.000000  0.033333  bowtie2-QuickVariants  "
      ]
     },
     "execution_count": 42,
     "metadata": {},
     "output_type": "execute_result"
    }
   ],
   "source": [
    "# SNPs\n",
    "folder = 'samtovcf/new//'\n",
    "SNP=pd.read_csv('%s/model.sum..txt'%(folder), sep='\\t')\n",
    "SNP['Genome']=[x.split('.')[0] for x in SNP['sample']]\n",
    "\n",
    "if 'covid' in folder:\n",
    "    SNP['total_refSNP'] = [float(x.split('.fasta.')[1].split('.')[0]) for x in SNP['sample']]\n",
    "    SNP['total SNPs'] = [int(x) for x in SNP['total_refSNP']]\n",
    "    SNP['Tool']=[x.split('.fasta.')[2].split('.flt')[0].split('.vcf')[0] for x in SNP['sample']]\n",
    "    SNP['tooldetauls'] = [x.split('.fasta.')[2] for x in SNP['sample']]\n",
    "else:\n",
    "    SNP['total_refSNP'] = [float(x.split('.corrected.')[1].split('.')[0]) for x in SNP['sample']]\n",
    "    SNP['Tool']=[x.split('SNP.fasta.')[1].split('.flt')[0].split('.vcf')[0] for x in SNP['sample']]\n",
    "    SNP['tooldetauls'] = [x.split('SNP.fasta.')[1] for x in SNP['sample']]\n",
    "    ref_snp = pd.read_csv('%s/../ref_snp.txt'%(folder),sep='\\t',header=None)\n",
    "    ref_snp.columns=['total SNPs','sample']\n",
    "    ref_snp['total SNPs'] = [int(x) for x in ref_snp['total SNPs']]\n",
    "    SNP['sample'] = [x.split('.SNP.fasta')[0] + '.SNP.fasta.snp.txt' for x in SNP['sample']]\n",
    "    SNP = SNP.merge(ref_snp,left_on = 'sample',right_on = 'sample',how = 'left')\n",
    "    \n",
    "print(SNP['Tool'].unique())\n",
    "SNP['VCF caller'] = ''\n",
    "SNP['VCF caller']=[x.replace('bowtie','').replace('minimap','').replace('bwa','').replace('.mappersamtovcf','Variant identifier').replace('.bcfdefault','bcftools default').replace('.indel','bcftools indel') for x in SNP['Tool']]\n",
    "SNP['VCF caller']=[x.replace('Variant identifier','VARIANTS').replace('VARIANTS','QuickVariants') for x in SNP['VCF caller']]\n",
    "SNP.loc[SNP['Tool'].isin(['bowtie','bwa','minimap']),'VCF caller'] = 'bcftools Mul-ALT'\n",
    "SNP['Tool'] = [x.split('.')[0].replace('bowtie','bowtie2').replace('minimap','minimap2') for x in SNP['Tool']]\n",
    "# filter by duplicate kmers > 10000\n",
    "SNP = SNP[~SNP['Genome'].isin(['am_BaFr_gS1T203',\n",
    "                               'H20_BA_g0002',\n",
    "                               'P63_BA_01','an_EsCo_g0001','cx_BaTh_g0001',\n",
    "                               'bq_BaTh_g0001'])]\n",
    "genome_set = {'am_BA_g0003':'BiAd',\n",
    "                 'am_BaFr_g0050':'BaFr',\n",
    "                 'am_BaSa_g0015':'BaSa',\n",
    "             'am_AkMu_g0002':'AkMu','am_BaOv_g0001':'BaOv',\n",
    "              'am_BaVu_g0002':'BaVu','am_EsCo_g0005':'EsCo',\n",
    "             'am_PaDi_g0001':'PaDi','SRR2842672':'human',\n",
    "             'aa_BaFa_g0001':'BaFa-aa','bf_BaFa_g0001':'BaFa',\n",
    "              'bj_EsCo_g0001':'EsCo','cx_BaXy_g0001':'BaXy','SRR10971381':'SARS-COV-2'}\n",
    "\n",
    "SNP['Genome'] = [genome_set.get(x,x) for x in SNP['Genome']]\n",
    "SNP['FPrate']=SNP['FP']/SNP['total SNPs']\n",
    "SNP['FNrate']=SNP['FN']/SNP['total SNPs']\n",
    "allgenome = SNP['Genome'].unique()\n",
    "print(allgenome)\n",
    "SNP['Tool VCF caller'] = SNP['Tool'] + '-' + SNP['VCF caller']\n",
    "SNP = SNP.sort_values(['Genome','Tool','VCF caller','total_refSNP'])\n",
    "SNP=SNP[SNP['total_refSNP']!=0]\n",
    "print(SNP['Tool'].unique(),SNP['VCF caller'].unique())\n",
    "SNP.head()\n"
   ]
  },
  {
   "cell_type": "code",
   "execution_count": 43,
   "id": "61ee2189",
   "metadata": {},
   "outputs": [
    {
     "name": "stderr",
     "output_type": "stream",
     "text": [
      "The PostScript backend does not support transparency; partially transparent artists will be rendered opaque.\n",
      "The PostScript backend does not support transparency; partially transparent artists will be rendered opaque.\n"
     ]
    },
    {
     "data": {
      "image/png": "[encoded data removed]",
      "text/plain": [
       "<Figure size 504x432 with 2 Axes>"
      ]
     },
     "metadata": {
      "needs_background": "light"
     },
     "output_type": "display_data"
    },
    {
     "data": {
      "image/png": "[encoded data removed]",
      "text/plain": [
       "<Figure size 504x432 with 2 Axes>"
      ]
     },
     "metadata": {
      "needs_background": "light"
     },
     "output_type": "display_data"
    },
    {
     "data": {
      "image/png": "[encoded data removed]",
      "text/plain": [
       "<Figure size 144x432 with 1 Axes>"
      ]
     },
     "metadata": {
      "needs_background": "light"
     },
     "output_type": "display_data"
    },
    {
     "data": {
      "image/png": "[encoded data removed]",
      "text/plain": [
       "<Figure size 144x432 with 1 Axes>"
      ]
     },
     "metadata": {
      "needs_background": "light"
     },
     "output_type": "display_data"
    },
    {
     "data": {
      "image/png": "[encoded data removed]",
      "text/plain": [
       "<Figure size 216x432 with 1 Axes>"
      ]
     },
     "metadata": {
      "needs_background": "light"
     },
     "output_type": "display_data"
    },
    {
     "data": {
      "image/png": "[encoded data removed]",
      "text/plain": [
       "<Figure size 216x432 with 1 Axes>"
      ]
     },
     "metadata": {
      "needs_background": "light"
     },
     "output_type": "display_data"
    }
   ],
   "source": [
    "# plot FP\n",
    "pallete_set = {\n",
    "        'QuickVariants':'#ca0020','bcftools Mul-ALT':'#4d4d4d','bcftools default':'#e0e0e0','bcftools indel':'#878787'}\n",
    "\n",
    "\n",
    "for genome in allgenome:\n",
    "    SNPsub = SNP[SNP['Genome']==genome]\n",
    "# plot FN sum for mutations and genomes\n",
    "if 'covid' not in folder:\n",
    "    SNP['total_refSNP']=['%.0e'%(x) for x in SNP['total_refSNP']]\n",
    "    fig, axs = plt.subplots(nrows=2,ncols = 1,figsize=(7, 6))\n",
    "    plt.subplots_adjust(hspace=0.4)\n",
    "    sns.pointplot(x='total_refSNP', y='FP', data=SNP,ax=axs[0],hue = 'VCF caller',palette=pallete_set)\n",
    "    axs[0].set_xlabel('Mutation rate') \n",
    "    axs[0].set_ylabel('FP SNPs')\n",
    "    plt.sca(axs[0])\n",
    "    plt.legend(bbox_to_anchor=(1.35, 1.0))\n",
    "    sns.boxplot(x='Genome', y='FP', data=SNP,ax=axs[1],hue = 'VCF caller',palette=pallete_set)\n",
    "    axs[1].set_xlabel('Mutated genomes') \n",
    "    axs[1].set_ylabel('FP SNPs')\n",
    "    axs[1].get_legend().remove()\n",
    "    plt.xticks(rotation=90)\n",
    "    plt.savefig('%s/Figure 3a.pdf'%(folder),bbox_inches='tight')\n",
    "    # plot FP sum for mutations and genomes\n",
    "    fig, axs = plt.subplots(nrows=2,ncols = 1,figsize=(7, 6))\n",
    "    plt.subplots_adjust(hspace=0.4)\n",
    "    sns.pointplot(x='total_refSNP', y='FNrate', data=SNP,ax=axs[0],hue = 'VCF caller',palette=pallete_set)\n",
    "    axs[0].set_xlabel('Mutation rate') \n",
    "    axs[0].set_ylabel('FN SNP rate')\n",
    "    #axs[0].set(yscale=\"log\")\n",
    "    plt.sca(axs[0])\n",
    "    plt.legend(bbox_to_anchor=(1.35, 1.0))\n",
    "    sns.boxplot(x='Genome', y='FNrate', data=SNP,ax=axs[1],hue = 'VCF caller',palette=pallete_set)\n",
    "    axs[1].set_xlabel('Mutated genomes') \n",
    "    axs[1].set_ylabel('FN SNP rate')\n",
    "    axs[1].set(yscale=\"log\")\n",
    "    axs[1].get_legend().remove()\n",
    "    plt.xticks(rotation=90)\n",
    "    plt.savefig('%s/Figure 3b.eps'%(folder),bbox_inches='tight',format='eps')\n",
    "    # plot FP sum for mutations and genomes\n",
    "    fig, axs = plt.subplots(nrows=1,ncols = 1,figsize=(2, 6))\n",
    "    sns.boxplot(x='VCF caller', y='FP', notch = True, data=SNP,ax=axs,hue = 'VCF caller',dodge=False,palette = pallete_set)\n",
    "    axs.set_xlabel('Variant identifier') \n",
    "    axs.set_ylabel('FP SNPs')\n",
    "    plt.xticks(rotation=90)\n",
    "    axs.get_legend().remove()\n",
    "    #plt.sca(axs)\n",
    "    #plt.legend(bbox_to_anchor=(1.4, 1.0))\n",
    "    plt.savefig('%s/Figure 3c.pdf'%(folder),bbox_inches='tight')\n",
    "    fig, axs = plt.subplots(nrows=1,ncols = 1,figsize=(2, 6))\n",
    "    sns.boxplot(x='VCF caller', y='FNrate', notch = True, data=SNP,ax=axs,hue = 'VCF caller',dodge=False,palette=pallete_set)\n",
    "    axs.set_xlabel('Variant identifier') \n",
    "    axs.set_ylabel('FN SNP rate')\n",
    "    axs.set(yscale=\"log\")\n",
    "    plt.xticks(rotation=90)\n",
    "    axs.get_legend().remove()\n",
    "    plt.savefig('%s/Figure 3d.eps'%(folder),bbox_inches='tight',format='eps')\n",
    "    # plot FP sum for mutations and genomes\n",
    "    fig, axs = plt.subplots(nrows=1,ncols = 1,figsize=(3, 6))\n",
    "    sns.boxplot(x='Tool VCF caller', y='FP', notch = True, data=SNP,ax=axs,hue = 'VCF caller',dodge=False,palette = pallete_set)\n",
    "    axs.set_xlabel('Tool-Variant identifier') \n",
    "    axs.set_ylabel('FP SNPs')\n",
    "    plt.xticks(rotation=90)\n",
    "    axs.get_legend().remove()\n",
    "    #plt.sca(axs)\n",
    "    #plt.legend(bbox_to_anchor=(1.4, 1.0))\n",
    "    plt.savefig('%s/Figure S3a.pdf'%(folder),bbox_inches='tight')\n",
    "    fig, axs = plt.subplots(nrows=1,ncols = 1,figsize=(3, 6))\n",
    "    sns.boxplot(x='Tool VCF caller', y='FNrate', notch = True, data=SNP,ax=axs,hue = 'VCF caller',dodge=False,palette=pallete_set)\n",
    "    axs.set_xlabel('Tool-Variant identifier') \n",
    "    axs.set_ylabel('FN SNP rate')\n",
    "    axs.set(yscale=\"log\")\n",
    "    plt.xticks(rotation=90)\n",
    "    axs.get_legend().remove()\n",
    "    plt.savefig('%s/Figure S3b.eps'%(folder),bbox_inches='tight',format='eps')\n",
    "else:\n",
    "    # plot FP\n",
    "    SNP['FPrate'] = SNP['FP']/SNP['total_refSNP']\n",
    "    SNP['FNrate'] = SNP['FN']/SNP['total_refSNP']\n",
    "    SNP = SNP[SNP['total_refSNP']!=0]\n",
    "    SNP['total_refSNP']=[int(x) for x in SNP['total_refSNP']]\n",
    "    # plot FP sum for mutations and genomes\n",
    "    fig, axs = plt.subplots(nrows=1,ncols = 2,figsize=(5,2),gridspec_kw={'width_ratios': [1, 2]})\n",
    "    plt.subplots_adjust(wspace=0.3)\n",
    "    sns.boxplot(x='VCF caller', y='FP',notch = True,  data=SNP,ax=axs[0],hue = 'VCF caller',dodge=False,palette=pallete_set)\n",
    "    axs[0].set_xlabel('Variant identifier') \n",
    "    axs[0].set_ylabel('FP SNPs')\n",
    "    axs[0].get_legend().remove()\n",
    "    sns.pointplot(x='total_refSNP', y='FP', data=SNP,ax=axs[1],hue = 'VCF caller',palette=pallete_set)\n",
    "    axs[1].set_xlabel('No. mutations') \n",
    "    axs[1].set_ylabel('FP SNPs')\n",
    "    plt.sca(axs[1])\n",
    "    plt.legend(bbox_to_anchor=(1.1, 1.0))\n",
    "    plt.xticks(rotation=90)\n",
    "    plt.sca(axs[0])\n",
    "    plt.xticks(rotation=90)\n",
    "    plt.savefig('%s/Figure 4c.pdf'%(folder),bbox_inches='tight')\n",
    "\n",
    "    # plot FN sum for mutations and genomes\n",
    "    fig, axs = plt.subplots(nrows=1,ncols = 2,figsize=(5,2),gridspec_kw={'width_ratios': [1, 2]})\n",
    "    plt.subplots_adjust(wspace=0.3)\n",
    "    sns.boxplot(x='VCF caller', y='FN',notch = True,  data=SNP,ax=axs[0],hue = 'VCF caller',dodge=False,palette=pallete_set)\n",
    "    axs[0].set_xlabel('Variant identifier') \n",
    "    axs[0].set_ylabel('FN SNPs')\n",
    "    axs[0].get_legend().remove()\n",
    "    sns.pointplot(x='total_refSNP', y='FN', data=SNP,ax=axs[1],hue = 'VCF caller',palette=pallete_set)\n",
    "    axs[1].set_xlabel('No. mutations') \n",
    "    axs[1].set_ylabel('FN SNPs')\n",
    "    plt.sca(axs[0])\n",
    "    plt.xticks(rotation=90)\n",
    "    plt.sca(axs[1])\n",
    "    plt.legend(bbox_to_anchor=(1.1, 1.0))\n",
    "    plt.xticks(rotation=90)\n",
    "    plt.savefig('%s/Figure 4d.eps'%(folder),bbox_inches='tight',format='eps')\n"
   ]
  },
  {
   "cell_type": "code",
   "execution_count": 134,
   "id": "cb569596",
   "metadata": {},
   "outputs": [
    {
     "name": "stdout",
     "output_type": "stream",
     "text": [
      "KstestResult(statistic=0.21052631578947367, pvalue=0.808061649945869)\n",
      "VARIANTS [0.         0.00216294 0.01750656] 0.005135305202625477 0.00791363856190319\n",
      "bcftools Mul-ALT [0.         0.00271125 0.01750656] 0.0057172392256264635 0.0077795521803778545\n",
      "bcftools default [0.         0.00269663 0.01750656] 0.005760535903396427 0.007760462253023748\n",
      "bcftools indel [0.         0.00271125 0.01750656] 0.0057172392256264635 0.0077795521803778545\n"
     ]
    }
   ],
   "source": [
    "# MO\n",
    "SNPspecies = pd.DataFrame(SNP.groupby(['total_refSNP','VCF caller'])['FNrate'].median())\n",
    "SNPspecies.reset_index(inplace=True)\n",
    "print(kstest(SNPspecies.loc[SNPspecies['VCF caller']=='VARIANTS','FNrate'],\n",
    "      SNPspecies.loc[SNPspecies['VCF caller']=='bcftools Mul-ALT','FNrate'])\n",
    ")\n",
    "for VCFcaller in SNPspecies['VCF caller'].unique():\n",
    "    SNPspeciessub = SNPspecies[SNPspecies['VCF caller']==VCFcaller]\n",
    "    print(VCFcaller,np.quantile(SNPspeciessub['FNrate'],[0.05,0.5,0.95]),\n",
    "          np.mean(SNPspeciessub['FNrate']),np.std(SNPspeciessub['FNrate']))\n",
    "    "
   ]
  },
  {
   "cell_type": "code",
   "execution_count": 414,
   "id": "c0d67e1b",
   "metadata": {},
   "outputs": [
    {
     "name": "stdout",
     "output_type": "stream",
     "text": [
      "KstestResult(statistic=0.21052631578947367, pvalue=0.808061649945869)\n",
      "VARIANTS [0.         0.00216294 0.01750656] 0.005135305202625477 0.00791363856190319\n",
      "bcftools Mul-ALT [0.         0.00271125 0.01750656] 0.0057172392256264635 0.0077795521803778545\n",
      "bcftools default [0.         0.00269663 0.01750656] 0.005760535903396427 0.007760462253023748\n",
      "bcftools indel [0.         0.00271125 0.01750656] 0.0057172392256264635 0.0077795521803778545\n"
     ]
    }
   ],
   "source": [
    "# MO\n",
    "SNPspecies = pd.DataFrame(SNP.groupby(['total_refSNP','VCF caller'])['FNrate'].median())\n",
    "SNPspecies.reset_index(inplace=True)\n",
    "print(kstest(SNPspecies.loc[SNPspecies['VCF caller']=='VARIANTS','FNrate'],\n",
    "      SNPspecies.loc[SNPspecies['VCF caller']=='bcftools Mul-ALT','FNrate'])\n",
    ")\n",
    "for VCFcaller in SNPspecies['VCF caller'].unique():\n",
    "    SNPspeciessub = SNPspecies[SNPspecies['VCF caller']==VCFcaller]\n",
    "    print(VCFcaller,np.quantile(SNPspeciessub['FNrate'],[0.05,0.5,0.95]),\n",
    "          np.mean(SNPspeciessub['FNrate']),np.std(SNPspeciessub['FNrate']))\n",
    "    "
   ]
  },
  {
   "cell_type": "code",
   "execution_count": 135,
   "id": "db135fad",
   "metadata": {},
   "outputs": [
    {
     "name": "stdout",
     "output_type": "stream",
     "text": [
      "KstestResult(statistic=0.6842105263157895, pvalue=0.00015621221647240893)\n",
      "VARIANTS [0.  1.  9.1] 2.0 2.772040859423935\n",
      "bcftools Mul-ALT [2. 4. 7.] 4.315789473684211 1.4528603938781328\n",
      "bcftools default [2.  4.  6.1] 4.2631578947368425 1.331485330597212\n",
      "bcftools indel [2. 4. 7.] 4.315789473684211 1.4528603938781328\n"
     ]
    }
   ],
   "source": [
    "# MO\n",
    "SNPspecies = pd.DataFrame(SNP.groupby(['total_refSNP','VCF caller'])['FP'].median())\n",
    "SNPspecies.reset_index(inplace=True)\n",
    "print(kstest(SNPspecies.loc[SNPspecies['VCF caller']=='VARIANTS','FP'],\n",
    "      SNPspecies.loc[SNPspecies['VCF caller']=='bcftools Mul-ALT','FP'])\n",
    ")\n",
    "for VCFcaller in SNPspecies['VCF caller'].unique():\n",
    "    SNPspeciessub = SNPspecies[SNPspecies['VCF caller']==VCFcaller]\n",
    "    print(VCFcaller,np.quantile(SNPspeciessub['FP'],[0.05,0.5,0.95]),np.mean(SNPspeciessub['FP']),np.std(SNPspeciessub['FP']))\n",
    "    "
   ]
  },
  {
   "cell_type": "code",
   "execution_count": 416,
   "id": "e9a03b9c",
   "metadata": {},
   "outputs": [
    {
     "name": "stdout",
     "output_type": "stream",
     "text": [
      "KstestResult(statistic=0.3586744639376218, pvalue=1.048653561197757e-29)\n",
      "KstestResult(statistic=0.050682261208576995, pvalue=0.5256422817954437)\n",
      "KstestResult(statistic=0.025341130604288498, pvalue=0.9966107799426185)\n",
      "KstestResult(statistic=0.02729044834307992, pvalue=0.9911275456215753)\n"
     ]
    }
   ],
   "source": [
    "# MO\n",
    "print(kstest(SNP.loc[SNP['VCF caller']=='VARIANTS','FP'],\n",
    "      SNP.loc[SNP['VCF caller']=='bcftools Mul-ALT','FP'])\n",
    ")\n",
    "print(kstest(SNP.loc[SNP['VCF caller']=='VARIANTS','FNrate'],\n",
    "      SNP.loc[SNP['VCF caller']=='bcftools Mul-ALT','FNrate'])\n",
    ")\n",
    "print(kstest(SNP.loc[SNP['VCF caller']=='bcftools default','FP'],\n",
    "      SNP.loc[SNP['VCF caller']=='bcftools Mul-ALT','FP'])\n",
    ")\n",
    "print(kstest(SNP.loc[SNP['VCF caller']=='bcftools default','FNrate'],\n",
    "      SNP.loc[SNP['VCF caller']=='bcftools Mul-ALT','FNrate'])\n",
    ")"
   ]
  },
  {
   "cell_type": "code",
   "execution_count": 481,
   "id": "d0d93297",
   "metadata": {},
   "outputs": [
    {
     "name": "stdout",
     "output_type": "stream",
     "text": [
      "[2.] [1.30080557] [1.] [0.97089756]\n",
      "FP [ 0.   2.  12.4] [ 0.  4. 25.] [ 0.  4. 25.] [ 0.  4. 26.]\n",
      "FNrate [ 0.          0.24355042 13.33297367] [ 0.          0.31681175 14.01175602] [ 0.          0.31681175 14.01175602] [ 0.          0.32630811 17.3269541 ]\n"
     ]
    }
   ],
   "source": [
    "# MO\n",
    "print(np.quantile(SNP.loc[SNP['VCF caller']=='bcftools Mul-ALT','FP'],[0.5])/\n",
    "      np.quantile(SNP.loc[SNP['VCF caller']=='VARIANTS','FP'],[0.5]),\n",
    "      np.quantile(SNP.loc[SNP['VCF caller']=='bcftools Mul-ALT','FNrate'],[0.5])/\n",
    "      np.quantile(SNP.loc[SNP['VCF caller']=='VARIANTS','FNrate'],[0.5]),\n",
    "      np.quantile(SNP.loc[SNP['VCF caller']=='bcftools Mul-ALT','FP'],[0.5])/\n",
    "      np.quantile(SNP.loc[SNP['VCF caller']=='bcftools default','FP'],[0.5]),\n",
    "      np.quantile(SNP.loc[SNP['VCF caller']=='bcftools Mul-ALT','FNrate'],[0.5])/\n",
    "      np.quantile(SNP.loc[SNP['VCF caller']=='bcftools default','FNrate'],[0.5]),\n",
    "     )\n",
    "\n",
    "print('FP',np.quantile(SNP.loc[SNP['VCF caller']=='VARIANTS','FP'],[0.05,0.5,0.95]),\n",
    "         np.quantile(SNP.loc[SNP['VCF caller']=='bcftools Mul-ALT','FP'],[0.05,0.5,0.95]),\n",
    "      np.quantile(SNP.loc[SNP['VCF caller']=='bcftools indel','FP'],[0.05,0.5,0.95]),\n",
    "         np.quantile(SNP.loc[SNP['VCF caller']=='bcftools default','FP'],[0.05,0.5,0.95]))\n",
    "print('FNrate',np.quantile(SNP.loc[SNP['VCF caller']=='VARIANTS','FNrate'],[0.05,0.5,0.95])*100,\n",
    "      np.quantile(SNP.loc[SNP['VCF caller']=='bcftools Mul-ALT','FNrate'],[0.05,0.5,0.95])*100,\n",
    "         np.quantile(SNP.loc[SNP['VCF caller']=='bcftools indel','FNrate'],[0.05,0.5,0.95])*100,\n",
    "         np.quantile(SNP.loc[SNP['VCF caller']=='bcftools default','FNrate'],[0.05,0.5,0.95])*100)\n"
   ]
  },
  {
   "cell_type": "code",
   "execution_count": 418,
   "id": "c251c28e",
   "metadata": {},
   "outputs": [
    {
     "data": {
      "text/plain": [
       "array(['1e-06', '2e-06', '3e-06', '4e-06', '5e-06', '1e-05', '2e-05',\n",
       "       '3e-05', '4e-05', '5e-05', '1e-04', '5e-04', '1e-03', '5e-03',\n",
       "       '1e-02', '2e-02', '3e-02', '4e-02', '5e-02'], dtype=object)"
      ]
     },
     "execution_count": 418,
     "metadata": {},
     "output_type": "execute_result"
    }
   ],
   "source": [
    "SNP['total_refSNP'].unique()"
   ]
  },
  {
   "cell_type": "code",
   "execution_count": 419,
   "id": "9c9e46e1",
   "metadata": {},
   "outputs": [
    {
     "name": "stdout",
     "output_type": "stream",
     "text": [
      "FP [0. 1. 8.] [ 0.   4.  25.1]\n",
      "FNrate [ 0.          0.23704406 13.95158515] [ 0.          0.3111824  15.88580825] [ 0.          0.32246919 20.31878848]\n",
      "KstestResult(statistic=0.40522875816993464, pvalue=4.421577674195134e-34)\n",
      "KstestResult(statistic=0.04139433551198257, pvalue=0.8270809328477107)\n"
     ]
    }
   ],
   "source": [
    "# MO\n",
    "SNPsub = SNP[SNP['total_refSNP'].isin(['1e-06', '2e-06', '3e-06', '4e-06', '5e-06', '1e-05', '2e-05',\n",
    "       '3e-05', '4e-05', '5e-05', '1e-04', '5e-04', '1e-03', '5e-03',\n",
    "       '1e-02', '2e-02', '3e-02'])]\n",
    "print('FP',np.quantile(SNPsub.loc[SNPsub['VCF caller']=='VARIANTS','FP'],[0.05,0.5,0.95]),\n",
    "         np.quantile(SNPsub.loc[SNPsub['VCF caller']=='bcftools Mul-ALT','FP'],[0.05,0.5,0.95]))\n",
    "print('FNrate',np.quantile(SNPsub.loc[SNPsub['VCF caller']=='VARIANTS','FNrate'],[0.05,0.5,0.95])*100,\n",
    "         np.quantile(SNPsub.loc[SNPsub['VCF caller']=='bcftools Mul-ALT','FNrate'],[0.05,0.5,0.95])*100,\n",
    "         np.quantile(SNPsub.loc[SNPsub['VCF caller']=='bcftools default','FNrate'],[0.05,0.5,0.95])*100)\n",
    "print(kstest(SNPsub.loc[SNPsub['VCF caller']=='VARIANTS','FP'],\n",
    "      SNPsub.loc[SNPsub['VCF caller']=='bcftools Mul-ALT','FP'])\n",
    ")\n",
    "print(kstest(SNPsub.loc[SNPsub['VCF caller']=='VARIANTS','FNrate'],\n",
    "      SNPsub.loc[SNPsub['VCF caller']=='bcftools Mul-ALT','FNrate'])\n",
    ")"
   ]
  },
  {
   "cell_type": "code",
   "execution_count": 420,
   "id": "89fdeaba",
   "metadata": {},
   "outputs": [
    {
     "name": "stdout",
     "output_type": "stream",
     "text": [
      "FP [0. 1. 5.] [ 0.  4. 25.]\n",
      "FNrate [ 0.          0.53763441 27.06501131] [ 0.          0.72992701 31.03794058] [ 0.          0.72992701 40.36369079]\n",
      "KstestResult(statistic=0.4276094276094276, pvalue=9.609827383444913e-25)\n",
      "KstestResult(statistic=0.026936026936026935, pvalue=0.9999244914859051)\n"
     ]
    }
   ],
   "source": [
    "# MO\n",
    "SNPsub = SNP[SNP['total_refSNP'].isin(['1e-06', '2e-06', '3e-06', '4e-06', '5e-06', '1e-05', '2e-05',\n",
    "       '3e-05', '4e-05', '5e-05', '1e-04'])]\n",
    "print('FP',np.quantile(SNPsub.loc[SNPsub['VCF caller']=='VARIANTS','FP'],[0.05,0.5,0.95]),\n",
    "         np.quantile(SNPsub.loc[SNPsub['VCF caller']=='bcftools Mul-ALT','FP'],[0.05,0.5,0.95]))\n",
    "print('FNrate',np.quantile(SNPsub.loc[SNPsub['VCF caller']=='VARIANTS','FNrate'],[0.05,0.5,0.95])*100,\n",
    "         np.quantile(SNPsub.loc[SNPsub['VCF caller']=='bcftools Mul-ALT','FNrate'],[0.05,0.5,0.95])*100,\n",
    "         np.quantile(SNPsub.loc[SNPsub['VCF caller']=='bcftools default','FNrate'],[0.05,0.5,0.95])*100)\n",
    "print(kstest(SNPsub.loc[SNPsub['VCF caller']=='VARIANTS','FP'],\n",
    "      SNPsub.loc[SNPsub['VCF caller']=='bcftools Mul-ALT','FP'])\n",
    ")\n",
    "print(kstest(SNPsub.loc[SNPsub['VCF caller']=='VARIANTS','FNrate'],\n",
    "      SNPsub.loc[SNPsub['VCF caller']=='bcftools Mul-ALT','FNrate'])\n",
    ")"
   ]
  },
  {
   "cell_type": "code",
   "execution_count": 421,
   "id": "7cfbc81c",
   "metadata": {},
   "outputs": [
    {
     "name": "stdout",
     "output_type": "stream",
     "text": [
      "FP [ 0.  2. 11.] [ 1.    5.   32.65]\n",
      "FNrate [0.05787617 0.20174656 1.08778925] [0.05400523 0.22513429 1.05151328] [0.05381304 0.24041202 1.2247231 ]\n",
      "KstestResult(statistic=0.36419753086419754, pvalue=6.050621933939212e-10)\n",
      "KstestResult(statistic=0.08024691358024691, pvalue=0.6756221846892806)\n"
     ]
    }
   ],
   "source": [
    "# MO\n",
    "SNPsub = SNP[SNP['total_refSNP'].isin(['5e-04', '1e-03', '5e-03',\n",
    "       '1e-02', '2e-02', '3e-02'])]\n",
    "print('FP',np.quantile(SNPsub.loc[SNPsub['VCF caller']=='VARIANTS','FP'],[0.05,0.5,0.95]),\n",
    "         np.quantile(SNPsub.loc[SNPsub['VCF caller']=='bcftools Mul-ALT','FP'],[0.05,0.5,0.95]))\n",
    "print('FNrate',np.quantile(SNPsub.loc[SNPsub['VCF caller']=='VARIANTS','FNrate'],[0.05,0.5,0.95])*100,\n",
    "         np.quantile(SNPsub.loc[SNPsub['VCF caller']=='bcftools Mul-ALT','FNrate'],[0.05,0.5,0.95])*100,\n",
    "         np.quantile(SNPsub.loc[SNPsub['VCF caller']=='bcftools default','FNrate'],[0.05,0.5,0.95])*100)\n",
    "print(kstest(SNPsub.loc[SNPsub['VCF caller']=='VARIANTS','FP'],\n",
    "      SNPsub.loc[SNPsub['VCF caller']=='bcftools Mul-ALT','FP'])\n",
    ")\n",
    "print(kstest(SNPsub.loc[SNPsub['VCF caller']=='VARIANTS','FNrate'],\n",
    "      SNPsub.loc[SNPsub['VCF caller']=='bcftools Mul-ALT','FNrate'])\n",
    ")"
   ]
  },
  {
   "cell_type": "code",
   "execution_count": 422,
   "id": "84d254d0",
   "metadata": {},
   "outputs": [
    {
     "name": "stdout",
     "output_type": "stream",
     "text": [
      "bowtie2 FP [ 0.   2.  15.5] [ 3.  14.  37.5] [ 2. 13. 36.]\n",
      "bowtie2 FNrate [ 0.          0.22550965 13.82477041] [ 0.          0.50038898 16.1855811 ] [ 0.          0.51625239 19.25362933]\n",
      "bwa FP [ 0.  2. 10.] [0.  3.  9.5] [0. 3. 9.]\n",
      "bwa FNrate [ 0.          0.2441682  12.64443277] [ 0.          0.24355042 12.4565649 ] [ 0.          0.24355042 15.39245974]\n",
      "minimap2 FP [ 0.  1. 10.] [ 0.   3.  10.5] [ 0.  3. 10.]\n",
      "minimap2 FNrate [ 0.          0.2768332  12.62254902] [ 0.          0.23931847 12.6483856 ] [ 0.          0.25630389 15.8430161 ]\n"
     ]
    }
   ],
   "source": [
    "for Tool in SNP['Tool'].unique():\n",
    "    SNPsub = SNP[SNP['Tool']==Tool]\n",
    "    print(Tool,'FP',np.quantile(SNPsub.loc[SNPsub['VCF caller']=='VARIANTS','FP'],[0.05,0.5,0.95]),\n",
    "         np.quantile(SNPsub.loc[SNPsub['VCF caller']=='bcftools Mul-ALT','FP'],[0.05,0.5,0.95]),\n",
    "         np.quantile(SNPsub.loc[SNPsub['VCF caller']=='bcftools default','FP'],[0.05,0.5,0.95]))\n",
    "    print(Tool,'FNrate',np.quantile(SNPsub.loc[SNPsub['VCF caller']=='VARIANTS','FNrate'],[0.05,0.5,0.95])*100,\n",
    "             np.quantile(SNPsub.loc[SNPsub['VCF caller']=='bcftools Mul-ALT','FNrate'],[0.05,0.5,0.95])*100,\n",
    "             np.quantile(SNPsub.loc[SNPsub['VCF caller']=='bcftools default','FNrate'],[0.05,0.5,0.95])*100)\n",
    "\n"
   ]
  },
  {
   "cell_type": "code",
   "execution_count": 423,
   "id": "9a62cad2",
   "metadata": {},
   "outputs": [
    {
     "name": "stdout",
     "output_type": "stream",
     "text": [
      "KstestResult(statistic=0.631578947368421, pvalue=1.1102230246251565e-15)\n",
      "KstestResult(statistic=0.05263157894736842, pvalue=0.9725604546148136)\n",
      "KstestResult(statistic=0.11988304093567251, pvalue=0.0734289522037952)\n",
      "KstestResult(statistic=0.15789473684210525, pvalue=0.028006814020783834)\n"
     ]
    }
   ],
   "source": [
    "from scipy.stats import kstest\n",
    "print(kstest(SNP.loc[(SNP['Tool']=='bowtie2') & (SNP['VCF caller']=='bcftools Mul-ALT'),'FP'],\n",
    "      SNP.loc[(SNP['Tool']!='bowtie2') & (SNP['VCF caller']=='bcftools Mul-ALT'),'FP'])\n",
    ")\n",
    "print(kstest(SNP.loc[(SNP['Tool']=='bwa') & (SNP['VCF caller']=='bcftools Mul-ALT'),'FP'],\n",
    "      SNP.loc[(SNP['Tool']=='minimap2') & (SNP['VCF caller']=='bcftools Mul-ALT'),'FP'])\n",
    ")\n",
    "from scipy.stats import kstest\n",
    "print(kstest(SNP.loc[(SNP['Tool']=='bowtie2') & (SNP['VCF caller']=='VARIANTS'),'FP'],\n",
    "      SNP.loc[(SNP['Tool']!='bowtie2') & (SNP['VCF caller']=='VARIANTS'),'FP'])\n",
    ")\n",
    "print(kstest(SNP.loc[(SNP['Tool']=='bwa') & (SNP['VCF caller']=='VARIANTS'),'FP'],\n",
    "      SNP.loc[(SNP['Tool']=='minimap2') & (SNP['VCF caller']=='VARIANTS'),'FP'])\n",
    ")"
   ]
  },
  {
   "cell_type": "code",
   "execution_count": 424,
   "id": "43d1fae9",
   "metadata": {},
   "outputs": [
    {
     "name": "stdout",
     "output_type": "stream",
     "text": [
      "KstestResult(statistic=0.14619883040935672, pvalue=0.01469498215557441)\n",
      "KstestResult(statistic=0.03508771929824561, pvalue=0.9999451670875277)\n",
      "KstestResult(statistic=0.038011695906432746, pvalue=0.9960442783067602)\n",
      "KstestResult(statistic=0.05847953216374269, pvalue=0.932944329455469)\n"
     ]
    }
   ],
   "source": [
    "from scipy.stats import kstest\n",
    "print(kstest(SNP.loc[(SNP['Tool']=='bowtie2') & (SNP['VCF caller']=='bcftools Mul-ALT'),'FNrate'],\n",
    "      SNP.loc[(SNP['Tool']!='bowtie2') & (SNP['VCF caller']=='bcftools Mul-ALT'),'FNrate'])\n",
    ")\n",
    "print(kstest(SNP.loc[(SNP['Tool']=='bwa') & (SNP['VCF caller']=='bcftools Mul-ALT'),'FNrate'],\n",
    "      SNP.loc[(SNP['Tool']=='minimap2') & (SNP['VCF caller']=='bcftools Mul-ALT'),'FNrate'])\n",
    ")\n",
    "from scipy.stats import kstest\n",
    "print(kstest(SNP.loc[(SNP['Tool']=='bowtie2') & (SNP['VCF caller']=='VARIANTS'),'FNrate'],\n",
    "      SNP.loc[(SNP['Tool']!='bowtie2') & (SNP['VCF caller']=='VARIANTS'),'FNrate'])\n",
    ")\n",
    "print(kstest(SNP.loc[(SNP['Tool']=='bwa') & (SNP['VCF caller']=='VARIANTS'),'FNrate'],\n",
    "      SNP.loc[(SNP['Tool']=='minimap2') & (SNP['VCF caller']=='VARIANTS'),'FNrate'])\n",
    ")"
   ]
  },
  {
   "cell_type": "code",
   "execution_count": 425,
   "id": "0addd103",
   "metadata": {},
   "outputs": [
    {
     "name": "stdout",
     "output_type": "stream",
     "text": [
      "VARIANTS [0.         0.18224065 8.42354246] 2.1202024974300975 0.034146812520816174\n",
      "bcftools Mul-ALT [0.         0.20920502 8.97657822] 2.2684471092857206 0.03700442949045097\n",
      "bcftools default [ 0.          0.20751619 10.95264989] 2.700148493492839 0.04525282730764911\n",
      "bcftools indel [0.         0.20920502 8.97657822] 2.2684471092857206 0.03700442949045097\n",
      "VARIANTS [0.  1.  4.8] 1.6666666666666667 1.8257418583505536\n",
      "bcftools Mul-ALT [2.4 4.  7.8] 4.444444444444445 2.006163342807532\n",
      "bcftools default [2.4 4.  7.8] 4.555555555555555 1.9499920860871383\n",
      "bcftools indel [2.4 4.  7.8] 4.444444444444445 2.006163342807532\n"
     ]
    }
   ],
   "source": [
    "# MO\n",
    "SNPspecies = pd.DataFrame(SNP.groupby(['Genome','VCF caller'])['FNrate'].median())\n",
    "SNPspecies.reset_index(inplace=True)\n",
    "for VCFcaller in SNPspecies['VCF caller'].unique():\n",
    "    SNPspeciessub = SNPspecies[SNPspecies['VCF caller']==VCFcaller]\n",
    "    print(VCFcaller,\n",
    "          np.quantile(SNPspeciessub['FNrate'],[0.05,0.5,0.95])*100,\n",
    "          np.mean(SNPspeciessub['FNrate'])*100,\n",
    "          np.std(SNPspeciessub['FNrate'])\n",
    "         )\n",
    "SNPspecies = pd.DataFrame(SNP.groupby(['Genome','VCF caller'])['FP'].median())\n",
    "SNPspecies.reset_index(inplace=True)\n",
    "for VCFcaller in SNPspecies['VCF caller'].unique():\n",
    "    SNPspeciessub = SNPspecies[SNPspecies['VCF caller']==VCFcaller]\n",
    "    print(VCFcaller,\n",
    "         np.quantile(SNPspeciessub['FP'],[0.05,0.5,0.95]),\n",
    "          np.mean(SNPspeciessub['FP']),\n",
    "          np.std(SNPspeciessub['FP'])\n",
    "         )"
   ]
  },
  {
   "cell_type": "code",
   "execution_count": 120,
   "id": "ea27fe8c",
   "metadata": {},
   "outputs": [
    {
     "name": "stdout",
     "output_type": "stream",
     "text": [
      "FP [0. 0. 1.] [0. 0. 4.] [0. 0. 4.] [0. 0. 3.]\n",
      "FN [0. 1. 3.] [0.  0.5 3. ] [0.  0.5 3. ] [0. 0. 3.]\n",
      "KstestResult(statistic=0.19166666666666668, pvalue=0.024139111559378406)\n",
      "KstestResult(statistic=0.025, pvalue=0.9999999999999869)\n"
     ]
    }
   ],
   "source": [
    "# covid\n",
    "\n",
    "print('FP',np.quantile(SNP.loc[SNP['VCF caller']=='VARIANTS','FP'],[0.05,0.5,0.95]),\n",
    "         np.quantile(SNP.loc[SNP['VCF caller']=='bcftools Mul-ALT','FP'],[0.05,0.5,0.95]),\n",
    "     np.quantile(SNP.loc[SNP['VCF caller']=='bcftools indel','FP'],[0.05,0.5,0.95]),\n",
    "     np.quantile(SNP.loc[SNP['VCF caller']=='bcftools default','FP'],[0.05,0.5,0.95]))\n",
    "print('FN',np.quantile(SNP.loc[SNP['VCF caller']=='VARIANTS','FN'],[0.05,0.5,0.95]),\n",
    "         np.quantile(SNP.loc[SNP['VCF caller']=='bcftools Mul-ALT','FN'],[0.05,0.5,0.95]),\n",
    "      np.quantile(SNP.loc[SNP['VCF caller']=='bcftools indel','FN'],[0.05,0.5,0.95]),\n",
    "     np.quantile(SNP.loc[SNP['VCF caller']=='bcftools default','FN'],[0.05,0.5,0.95]))\n",
    "print(kstest(SNP.loc[SNP['VCF caller']=='VARIANTS','FP'],\n",
    "      SNP.loc[SNP['VCF caller']=='bcftools Mul-ALT','FP'])\n",
    ")\n",
    "print(kstest(SNP.loc[SNP['VCF caller']=='VARIANTS','FNrate'],\n",
    "      SNP.loc[SNP['VCF caller']=='bcftools Mul-ALT','FNrate'])\n",
    ")\n"
   ]
  },
  {
   "cell_type": "code",
   "execution_count": 44,
   "id": "e71a6571",
   "metadata": {},
   "outputs": [
    {
     "name": "stdout",
     "output_type": "stream",
     "text": [
      "[0.e+00 5.e-06 1.e-03 1.e-05 5.e-04 5.e-02 2.e-06 3.e-05 3.e-02 4.e-05\n",
      " 1.e-06 3.e-06 2.e-05 1.e-04 4.e-06 2.e-02 5.e-05 5.e-03 1.e-02 4.e-02]\n",
      "['bowtie2' 'bwa' 'minimap2' 'bowtie2 VARIANTS' 'bwa VARIANTS'\n",
      " 'minimap2 VARIANTS' 'bowtie2 bcfdefault' 'bwa bcfdefault'\n",
      " 'minimap2 bcfdefault' 'bowtie2 indel' 'bwa indel' 'minimap2 indel']\n",
      "[0.e+00 1.e-06 2.e-06 3.e-06 4.e-06 5.e-06 1.e-05 2.e-05 3.e-05 4.e-05\n",
      " 5.e-05 1.e-04 5.e-04 1.e-03 5.e-03 1.e-02 2.e-02 3.e-02 4.e-02 5.e-02]\n",
      "['bowtie2' 'bwa' 'minimap2'] ['QuickVariants' 'bcftools Mul-ALT' 'bcftools default' 'bcftools indel']\n",
      "['BaFa' 'PaDi' 'BiAd' 'EsCo' 'BaOv' 'BaXy' 'AkMu' 'BaFr' 'BaVu']\n"
     ]
    },
    {
     "data": {
      "text/html": [
       "<div>\n",
       "<style scoped>\n",
       "    .dataframe tbody tr th:only-of-type {\n",
       "        vertical-align: middle;\n",
       "    }\n",
       "\n",
       "    .dataframe tbody tr th {\n",
       "        vertical-align: top;\n",
       "    }\n",
       "\n",
       "    .dataframe thead th {\n",
       "        text-align: right;\n",
       "    }\n",
       "</style>\n",
       "<table border=\"1\" class=\"dataframe\">\n",
       "  <thead>\n",
       "    <tr style=\"text-align: right;\">\n",
       "      <th></th>\n",
       "      <th>Sample</th>\n",
       "      <th>Tool</th>\n",
       "      <th>FN</th>\n",
       "      <th>TP</th>\n",
       "      <th>FP_samePOS</th>\n",
       "      <th>FP_diffPOS</th>\n",
       "      <th>Genome</th>\n",
       "      <th>total_refSNP</th>\n",
       "      <th>FNrate</th>\n",
       "      <th>VCF caller</th>\n",
       "      <th>Tool VCF caller</th>\n",
       "      <th>total SNPs</th>\n",
       "      <th>sample</th>\n",
       "    </tr>\n",
       "  </thead>\n",
       "  <tbody>\n",
       "    <tr>\n",
       "      <th>75</th>\n",
       "      <td>am_AkMu_g0002.fasta.corrected.0.SNP.fasta.snp.txt</td>\n",
       "      <td>bowtie2</td>\n",
       "      <td>200</td>\n",
       "      <td>0</td>\n",
       "      <td>0</td>\n",
       "      <td>16</td>\n",
       "      <td>AkMu</td>\n",
       "      <td>0.0</td>\n",
       "      <td>1.0</td>\n",
       "      <td>QuickVariants</td>\n",
       "      <td>bowtie2-QuickVariants</td>\n",
       "      <td>0</td>\n",
       "      <td>am_AkMu_g0002.fasta.corrected.0.SNP.fasta.snp.txt</td>\n",
       "    </tr>\n",
       "    <tr>\n",
       "      <th>72</th>\n",
       "      <td>am_AkMu_g0002.fasta.corrected.0.SNP.fasta.snp.txt</td>\n",
       "      <td>bowtie2</td>\n",
       "      <td>200</td>\n",
       "      <td>0</td>\n",
       "      <td>0</td>\n",
       "      <td>1</td>\n",
       "      <td>AkMu</td>\n",
       "      <td>0.0</td>\n",
       "      <td>1.0</td>\n",
       "      <td>bcftools Mul-ALT</td>\n",
       "      <td>bowtie2-bcftools Mul-ALT</td>\n",
       "      <td>0</td>\n",
       "      <td>am_AkMu_g0002.fasta.corrected.0.SNP.fasta.snp.txt</td>\n",
       "    </tr>\n",
       "    <tr>\n",
       "      <th>78</th>\n",
       "      <td>am_AkMu_g0002.fasta.corrected.0.SNP.fasta.snp.txt</td>\n",
       "      <td>bowtie2</td>\n",
       "      <td>200</td>\n",
       "      <td>0</td>\n",
       "      <td>0</td>\n",
       "      <td>2</td>\n",
       "      <td>AkMu</td>\n",
       "      <td>0.0</td>\n",
       "      <td>1.0</td>\n",
       "      <td>bcftools default</td>\n",
       "      <td>bowtie2-bcftools default</td>\n",
       "      <td>0</td>\n",
       "      <td>am_AkMu_g0002.fasta.corrected.0.SNP.fasta.snp.txt</td>\n",
       "    </tr>\n",
       "    <tr>\n",
       "      <th>81</th>\n",
       "      <td>am_AkMu_g0002.fasta.corrected.0.SNP.fasta.snp.txt</td>\n",
       "      <td>bowtie2</td>\n",
       "      <td>200</td>\n",
       "      <td>0</td>\n",
       "      <td>0</td>\n",
       "      <td>33</td>\n",
       "      <td>AkMu</td>\n",
       "      <td>0.0</td>\n",
       "      <td>1.0</td>\n",
       "      <td>bcftools indel</td>\n",
       "      <td>bowtie2-bcftools indel</td>\n",
       "      <td>0</td>\n",
       "      <td>am_AkMu_g0002.fasta.corrected.0.SNP.fasta.snp.txt</td>\n",
       "    </tr>\n",
       "    <tr>\n",
       "      <th>76</th>\n",
       "      <td>am_AkMu_g0002.fasta.corrected.0.SNP.fasta.snp.txt</td>\n",
       "      <td>bwa</td>\n",
       "      <td>200</td>\n",
       "      <td>0</td>\n",
       "      <td>0</td>\n",
       "      <td>0</td>\n",
       "      <td>AkMu</td>\n",
       "      <td>0.0</td>\n",
       "      <td>1.0</td>\n",
       "      <td>QuickVariants</td>\n",
       "      <td>bwa-QuickVariants</td>\n",
       "      <td>0</td>\n",
       "      <td>am_AkMu_g0002.fasta.corrected.0.SNP.fasta.snp.txt</td>\n",
       "    </tr>\n",
       "  </tbody>\n",
       "</table>\n",
       "</div>"
      ],
      "text/plain": [
       "                                               Sample     Tool   FN  TP  \\\n",
       "75  am_AkMu_g0002.fasta.corrected.0.SNP.fasta.snp.txt  bowtie2  200   0   \n",
       "72  am_AkMu_g0002.fasta.corrected.0.SNP.fasta.snp.txt  bowtie2  200   0   \n",
       "78  am_AkMu_g0002.fasta.corrected.0.SNP.fasta.snp.txt  bowtie2  200   0   \n",
       "81  am_AkMu_g0002.fasta.corrected.0.SNP.fasta.snp.txt  bowtie2  200   0   \n",
       "76  am_AkMu_g0002.fasta.corrected.0.SNP.fasta.snp.txt      bwa  200   0   \n",
       "\n",
       "    FP_samePOS  FP_diffPOS Genome  total_refSNP  FNrate        VCF caller  \\\n",
       "75           0          16   AkMu           0.0     1.0     QuickVariants   \n",
       "72           0           1   AkMu           0.0     1.0  bcftools Mul-ALT   \n",
       "78           0           2   AkMu           0.0     1.0  bcftools default   \n",
       "81           0          33   AkMu           0.0     1.0    bcftools indel   \n",
       "76           0           0   AkMu           0.0     1.0     QuickVariants   \n",
       "\n",
       "             Tool VCF caller  total SNPs  \\\n",
       "75     bowtie2-QuickVariants           0   \n",
       "72  bowtie2-bcftools Mul-ALT           0   \n",
       "78  bowtie2-bcftools default           0   \n",
       "81    bowtie2-bcftools indel           0   \n",
       "76         bwa-QuickVariants           0   \n",
       "\n",
       "                                               sample  \n",
       "75  am_AkMu_g0002.fasta.corrected.0.SNP.fasta.snp.txt  \n",
       "72  am_AkMu_g0002.fasta.corrected.0.SNP.fasta.snp.txt  \n",
       "78  am_AkMu_g0002.fasta.corrected.0.SNP.fasta.snp.txt  \n",
       "81  am_AkMu_g0002.fasta.corrected.0.SNP.fasta.snp.txt  \n",
       "76  am_AkMu_g0002.fasta.corrected.0.SNP.fasta.snp.txt  "
      ]
     },
     "execution_count": 44,
     "metadata": {},
     "output_type": "execute_result"
    }
   ],
   "source": [
    "# indels\n",
    "folder = 'samtovcf/new/'\n",
    "SNP=pd.read_csv(glob.glob('%s/modelindelsum*.txt'%(folder))[0], sep='\\t')\n",
    "\n",
    "SNP['Genome']=[x.split('.')[0] for x in SNP['Sample']]\n",
    "SNP = SNP[SNP['Genome'] != 'am_BaFr_gS1T203']\n",
    "SNP = SNP[SNP['Genome'] != 'H20_BA_g0002']\n",
    "if 'covid' in folder:\n",
    "    SNP['total_refSNP'] = [float(x.split('.fasta.')[1].split('.')[0]) for x in SNP['Sample']]\n",
    "    SNP['FNrate']=SNP['FN']/20\n",
    "else:\n",
    "    SNP['total_refSNP'] = [float(x.split('.corrected.')[1].split('.')[0]) for x in SNP['Sample']]\n",
    "    SNP['FN'] = SNP['FN']\n",
    "    SNP['FNrate']=SNP['FN']/200\n",
    "    #SNP = SNP[SNP['total_refSNP']!=4e-02][SNP['total_refSNP']!=1e-02]\n",
    "    print(SNP['total_refSNP'].unique())\n",
    "    ref_snp = pd.read_csv('samtovcf/ref_snp.txt',sep='\\t',header=None)\n",
    "    ref_snp.columns=['total SNPs','sample']\n",
    "    ref_snp['total SNPs'] = [int(x) for x in ref_snp['total SNPs']]\n",
    "#SNP = SNP.sort_values('Tool')\n",
    "genome_set = {'am_BA_g0003':'BiAd',\n",
    "                 'am_BaFr_g0050':'BaFr',\n",
    "                 'am_BaSa_g0015':'BaSa',\n",
    "             'am_AkMu_g0002':'AkMu','am_BaOv_g0001':'BaOv',\n",
    "              'am_BaVu_g0002':'BaVu','am_EsCo_g0005':'EsCo',\n",
    "             'am_PaDi_g0001':'PaDi','SRR2842672':'human',\n",
    "             'aa_BaFa_g0001':'BaFa-aa','bf_BaFa_g0001':'BaFa',\n",
    "              'bj_EsCo_g0001':'EsCo','cx_BaXy_g0001':'BaXy','SRR10971381':'SARS-COV-2'}\n",
    "SNP['Genome'] = [genome_set[x] for x in SNP['Genome']]\n",
    "allgenome = SNP['Genome'].unique()\n",
    "print(SNP['Tool'].unique())\n",
    "SNP['VCF caller'] = ''\n",
    "SNP['Tool'] = [x.replace('bowtie ','bowtie2 ').replace('minimap ','minimap2 ') for x in SNP['Tool']]\n",
    "SNP['VCF caller']=[x.replace('bowtie2 VARIANTS','QuickVariants'\n",
    "                            ).replace('minimap2 VARIANTS','QuickVariants'\n",
    "                                     ).replace('bwa VARIANTS','QuickVariants'\n",
    "                                              ).replace('bowtie2 indel','bcftools indel'\n",
    "                            ).replace('minimap2 indel','bcftools indel'\n",
    "                                     ).replace('bwa indel','bcftools indel'\n",
    "                                              ).replace('bowtie2 bcfdefault','bcftools default'\n",
    "                            ).replace('minimap2 bcfdefault','bcftools default'\n",
    "                                     ).replace('bwa bcfdefault','bcftools default'\n",
    "                                              ).replace('bowtie2','bcftools Mul-ALT'\n",
    "                            ).replace('minimap2','bcftools Mul-ALT'\n",
    "                                     ).replace('bwa','bcftools Mul-ALT'\n",
    "                                              ) for x in SNP['Tool']]\n",
    "SNP['Tool'] = [x.split(' ')[0] for x in SNP['Tool']]\n",
    "SNP['Tool VCF caller'] = SNP['Tool'] + '-' + SNP['VCF caller']\n",
    "SNP['Sample'] = [x.split('.SNP.fasta')[0] + '.SNP.fasta.snp.txt' for x in SNP['Sample']]\n",
    "if 'covid' not in folder:\n",
    "    SNP = SNP.merge(ref_snp,left_on = 'Sample',right_on = 'sample',how = 'left')\n",
    "SNP = SNP.sort_values(['total_refSNP','Genome','Tool','VCF caller'])\n",
    "print(SNP['total_refSNP'].unique())\n",
    "print(SNP['Tool'].unique(),SNP['VCF caller'].unique())\n",
    "print(allgenome)\n",
    "SNP.head()\n"
   ]
  },
  {
   "cell_type": "code",
   "execution_count": 45,
   "id": "411488d6",
   "metadata": {},
   "outputs": [
    {
     "name": "stdout",
     "output_type": "stream",
     "text": [
      "['1e-06' '2e-06' '3e-06' '4e-06' '5e-06' '1e-05' '2e-05' '3e-05' '4e-05'\n",
      " '5e-05' '1e-04' '5e-04' '1e-03' '5e-03' '1e-02' '2e-02' '3e-02' '4e-02'\n",
      " '5e-02']\n"
     ]
    },
    {
     "data": {
      "image/png": "[encoded data removed]",
      "text/plain": [
       "<Figure size 504x432 with 2 Axes>"
      ]
     },
     "metadata": {
      "needs_background": "light"
     },
     "output_type": "display_data"
    },
    {
     "data": {
      "image/png": "[encoded data removed]",
      "text/plain": [
       "<Figure size 504x432 with 2 Axes>"
      ]
     },
     "metadata": {
      "needs_background": "light"
     },
     "output_type": "display_data"
    },
    {
     "data": {
      "image/png": "[encoded data removed]",
      "text/plain": [
       "<Figure size 144x432 with 1 Axes>"
      ]
     },
     "metadata": {
      "needs_background": "light"
     },
     "output_type": "display_data"
    },
    {
     "data": {
      "image/png": "[encoded data removed]",
      "text/plain": [
       "<Figure size 144x432 with 1 Axes>"
      ]
     },
     "metadata": {
      "needs_background": "light"
     },
     "output_type": "display_data"
    },
    {
     "data": {
      "image/png": "[encoded data removed]",
      "text/plain": [
       "<Figure size 216x432 with 1 Axes>"
      ]
     },
     "metadata": {
      "needs_background": "light"
     },
     "output_type": "display_data"
    },
    {
     "data": {
      "image/png": "[encoded data removed]",
      "text/plain": [
       "<Figure size 216x432 with 1 Axes>"
      ]
     },
     "metadata": {
      "needs_background": "light"
     },
     "output_type": "display_data"
    }
   ],
   "source": [
    "# plot FP sum for mutations and genomes\n",
    "pallete_set = {\n",
    "        'QuickVariants':'#ca0020','bcftools Mul-ALT':'#4d4d4d','bcftools default':'#e0e0e0','bcftools indel':'#878787'}\n",
    "\n",
    "if 'covid' not in folder:\n",
    "    SNPsuball = pd.DataFrame()\n",
    "    for genome in allgenome:\n",
    "        SNPsub = SNP[SNP['Genome']==genome]\n",
    "        # correct for FP diff location at 0 SNPs\n",
    "        if True:\n",
    "            SNPsub_0 = SNPsub[SNPsub['total_refSNP']==0].loc[:,['Tool VCF caller','FP_samePOS','FP_diffPOS']]\n",
    "            SNPsub = SNPsub[SNPsub['total_refSNP']!=0]\n",
    "            SNPsub = SNPsub.merge(SNPsub_0,left_on = 'Tool VCF caller',right_on = 'Tool VCF caller',how = 'left')\n",
    "            SNPsub['FP']=SNPsub['FP_diffPOS_x']-SNPsub['FP_diffPOS_y']\n",
    "            SNPsub.loc[SNPsub['FP']<0,'FP'] =0\n",
    "            SNPsuball = SNPsuball.append(SNPsub)\n",
    "    SNP = SNPsuball\n",
    "    SNP = SNP.sort_values(['total_refSNP','Genome','Tool','VCF caller'])\n",
    "    SNP['total_refSNP']=['%.0e'%(x) for x in SNP['total_refSNP']]\n",
    "    print(SNP['total_refSNP'].unique())\n",
    "    fig, axs = plt.subplots(nrows=2,ncols = 1,figsize=(7, 6))\n",
    "    plt.subplots_adjust(hspace=0.4)\n",
    "    sns.pointplot(x='total_refSNP', y='FP', data=SNP,ax=axs[0],hue = 'VCF caller',palette=pallete_set)\n",
    "    axs[0].set_xlabel('Mutation rate') \n",
    "    axs[0].set_ylabel('FP indels')\n",
    "    axs[0].get_legend().remove()\n",
    "    plt.sca(axs[0])\n",
    "    plt.xticks(rotation=90)\n",
    "    plt.legend(bbox_to_anchor=(1.0, 1.0))\n",
    "    sns.boxplot(x='Genome', y='FP', data=SNP,ax=axs[1],hue = 'VCF caller',palette=pallete_set)\n",
    "    axs[1].set_xlabel('Mutated genomes') \n",
    "    axs[1].set_ylabel('FP indels')\n",
    "    axs[1].get_legend().remove()\n",
    "    plt.savefig('%s/Figure 2a.pdf'%(folder))\n",
    "    # FN sum\n",
    "    fig, axs = plt.subplots(nrows=2,ncols = 1,figsize=(7, 6))\n",
    "    plt.subplots_adjust(hspace=0.4)\n",
    "    sns.pointplot(x='total_refSNP', y='FNrate', data=SNP,ax=axs[0],hue = 'VCF caller',palette=pallete_set)\n",
    "    axs[0].set_xlabel('Mutation rate') \n",
    "    axs[0].set_ylabel('FN indel rate')\n",
    "    #axs[0].set(yscale=\"log\")\n",
    "    plt.sca(axs[0])\n",
    "    plt.xticks(rotation=90)\n",
    "    plt.legend(bbox_to_anchor=(1.0, 1.0))\n",
    "    sns.boxplot(x='Genome', y='FNrate', data=SNP,ax=axs[1],hue = 'VCF caller',palette=pallete_set)\n",
    "    axs[1].set_xlabel('Mutated genomes') \n",
    "    axs[1].set_ylabel('FN indel rate')\n",
    "    #axs[1].set(yscale=\"log\")\n",
    "    axs[1].get_legend().remove()\n",
    "    plt.savefig('%s/Figure 2b.pdf'%(folder))\n",
    "    # plot FN sum for mutations and genomes\n",
    "    fig, axs = plt.subplots(nrows=1,ncols = 1,figsize=(2, 6))\n",
    "    sns.boxplot(x='VCF caller', y='FP', notch = True, data=SNP,ax=axs,hue = 'VCF caller',dodge=False,palette=pallete_set)\n",
    "    axs.set_xlabel('Variant identifier') \n",
    "    axs.set_ylabel('FP indels')\n",
    "    axs.get_legend().remove()\n",
    "    plt.xticks(rotation=90)\n",
    "    plt.savefig('%s/Figure 2c.pdf'%(folder),bbox_inches='tight')\n",
    "    # plot FN sum for mutations and genomes\n",
    "    fig, axs = plt.subplots(nrows=1,ncols = 1,figsize=(2, 6))\n",
    "    sns.boxplot(x='VCF caller', y='FNrate',notch = True,  data=SNP,ax=axs,hue = 'VCF caller',dodge=False,palette=pallete_set)\n",
    "    axs.set_xlabel('Variant identifier') \n",
    "    axs.set_ylabel('FN indel rate')\n",
    "    axs.get_legend().remove()\n",
    "    plt.xticks(rotation=90)\n",
    "    plt.savefig('%s/Figure 2d.pdf'%(folder),bbox_inches='tight')\n",
    "    SNP = SNP[SNP['total_refSNP']!=0]\n",
    "    # plot FN sum for mutations and genomes\n",
    "    fig, axs = plt.subplots(nrows=1,ncols = 1,figsize=(3, 6))\n",
    "    sns.boxplot(x='Tool VCF caller', y='FP', notch = True, data=SNP,ax=axs,hue = 'VCF caller',dodge=False,palette=pallete_set)\n",
    "    axs.set_xlabel('Tool-Variant identifier') \n",
    "    axs.set_ylabel('FP indels')\n",
    "    axs.get_legend().remove()\n",
    "    plt.xticks(rotation=90)\n",
    "    plt.savefig('%s/Figure S2c.pdf'%(folder),bbox_inches='tight')\n",
    "    # plot FN sum for mutations and genomes\n",
    "    fig, axs = plt.subplots(nrows=1,ncols = 1,figsize=(3, 6))\n",
    "    sns.boxplot(x='Tool VCF caller', y='FNrate',notch = True,  data=SNP,ax=axs,hue = 'VCF caller',dodge=False,palette=pallete_set)\n",
    "    axs.set_xlabel('Tool-Variant identifier') \n",
    "    axs.set_ylabel('FN indel rate')\n",
    "    axs.get_legend().remove()\n",
    "    plt.xticks(rotation=90)\n",
    "    plt.savefig('%s/Figure S2d.pdf'%(folder),bbox_inches='tight')\n",
    "    SNP = SNP[SNP['total_refSNP']!=0]\n",
    "else:\n",
    "    SNP['sampleshort']=[x.split('.')[0] + '.' + x.split('.SNP')[1].split('.')[0] for x in SNP['Sample']]\n",
    "    allgenome = SNP['sampleshort'].unique()\n",
    "    SNP = SNP.sort_values(['total_refSNP','Genome','Tool','VCF caller'])\n",
    "    fig, axs = plt.subplots(nrows=1,ncols = 2,figsize=(5,2),gridspec_kw={'width_ratios': [1, 2]})\n",
    "    plt.subplots_adjust(wspace=0.4)\n",
    "    sns.boxplot(x='VCF caller', y='FP_diffPOS', notch = True, data=SNP,ax=axs[0],hue = 'VCF caller',dodge=False,palette=pallete_set)\n",
    "    axs[0].set_xlabel('Variant identifier') \n",
    "    axs[0].set_ylabel('FP indels')\n",
    "    axs[0].get_legend().remove()\n",
    "    sns.pointplot(x='total_refSNP', y='FP_diffPOS', data=SNP,ax=axs[1],hue = 'VCF caller',palette=pallete_set)\n",
    "    axs[1].set_xlabel('No. mutations') \n",
    "    axs[1].set_ylabel('FP indels')\n",
    "    plt.sca(axs[0])\n",
    "    plt.xticks(rotation=90)\n",
    "    plt.sca(axs[1])\n",
    "    plt.xticks(rotation=90)\n",
    "    plt.legend(bbox_to_anchor=(1.1, 1.0))\n",
    "    plt.savefig('%s/Figure 4a.pdf'%(folder),bbox_inches='tight')\n",
    "    fig, axs = plt.subplots(nrows=1,ncols = 2,figsize=(5,2),gridspec_kw={'width_ratios': [1, 2]})\n",
    "    plt.subplots_adjust(wspace=0.4)\n",
    "    sns.boxplot(x='VCF caller', y='FNrate',notch = True,  data=SNP,ax=axs[0],hue = 'VCF caller',dodge=False,palette=pallete_set)\n",
    "    axs[0].set_xlabel('Variant identifier') \n",
    "    axs[0].set_ylabel('FN indel rate')\n",
    "    axs[0].get_legend().remove()\n",
    "    sns.pointplot(x='total_refSNP', y='FNrate', data=SNP,ax=axs[1],hue = 'VCF caller',palette=pallete_set)\n",
    "    axs[1].set_xlabel('No. mutations') \n",
    "    axs[1].set_ylabel('FN indel rate')\n",
    "    plt.sca(axs[0])\n",
    "    plt.xticks(rotation=90)\n",
    "    plt.sca(axs[1])\n",
    "    plt.xticks(rotation=90)\n",
    "    plt.legend(bbox_to_anchor=(1.1, 1.0))\n",
    "    plt.savefig('%s/Figure 4b.pdf'%(folder),bbox_inches='tight')\n",
    "    "
   ]
  },
  {
   "cell_type": "code",
   "execution_count": 131,
   "id": "a05f84f9",
   "metadata": {},
   "outputs": [
    {
     "name": "stdout",
     "output_type": "stream",
     "text": [
      "FP [0. 0. 0.] [0. 0. 0.] [0.   0.   1.05] [0. 0. 0.]\n",
      "FN [ 0.  0. 10.] [15. 35. 50.] [50. 70. 85.] [15. 35. 50.]\n",
      "KstestResult(statistic=0.008333333333333333, pvalue=1.0)\n",
      "KstestResult(statistic=0.36666666666666664, pvalue=1.4439886846546988e-07)\n",
      "KstestResult(statistic=0.35833333333333334, pvalue=3.0755083673165016e-07)\n",
      "KstestResult(statistic=0.9666666666666667, pvalue=2.9660071147981457e-63)\n",
      "KstestResult(statistic=1.0, pvalue=2.2001332500149066e-71)\n",
      "KstestResult(statistic=0.85, pvalue=1.247561257832528e-44)\n"
     ]
    }
   ],
   "source": [
    "# covid\n",
    "print('FP',np.quantile(SNP.loc[SNP['VCF caller']=='VARIANTS','FP_diffPOS'],[0.05,0.5,0.95]),\n",
    "         np.quantile(SNP.loc[SNP['VCF caller']=='bcftools Mul-ALT','FP_diffPOS'],[0.05,0.5,0.95]),\n",
    "     np.quantile(SNP.loc[SNP['VCF caller']=='bcftools indel','FP_diffPOS'],[0.05,0.5,0.95]),\n",
    "     np.quantile(SNP.loc[SNP['VCF caller']=='bcftools default','FP_diffPOS'],[0.05,0.5,0.95]))\n",
    "print('FN',np.quantile(SNP.loc[SNP['VCF caller']=='VARIANTS','FNrate'],[0.05,0.5,0.95])*100,\n",
    "         np.quantile(SNP.loc[SNP['VCF caller']=='bcftools Mul-ALT','FNrate'],[0.05,0.5,0.95])*100,\n",
    "      np.quantile(SNP.loc[SNP['VCF caller']=='bcftools indel','FNrate'],[0.05,0.5,0.95])*100,\n",
    "     np.quantile(SNP.loc[SNP['VCF caller']=='bcftools default','FNrate'],[0.05,0.5,0.95])*100)\n",
    "print(kstest(SNP.loc[SNP['VCF caller']=='VARIANTS','FP_diffPOS'],\n",
    "      SNP.loc[SNP['VCF caller']=='bcftools Mul-ALT','FP_diffPOS'])\n",
    ")\n",
    "print(kstest(SNP.loc[SNP['VCF caller']=='VARIANTS','FP_diffPOS'],\n",
    "      SNP.loc[SNP['VCF caller']=='bcftools indel','FP_diffPOS'])\n",
    ")\n",
    "print(kstest(SNP.loc[SNP['VCF caller']=='bcftools Mul-ALT','FP_diffPOS'],\n",
    "      SNP.loc[SNP['VCF caller']=='bcftools indel','FP_diffPOS'])\n",
    ")\n",
    "\n",
    "print(kstest(SNP.loc[SNP['VCF caller']=='VARIANTS','FNrate'],\n",
    "      SNP.loc[SNP['VCF caller']=='bcftools Mul-ALT','FNrate'])\n",
    ")\n",
    "print(kstest(SNP.loc[SNP['VCF caller']=='VARIANTS','FNrate'],\n",
    "      SNP.loc[SNP['VCF caller']=='bcftools indel','FNrate'])\n",
    ")\n",
    "\n",
    "print(kstest(SNP.loc[SNP['VCF caller']=='bcftools Mul-ALT','FNrate'],\n",
    "      SNP.loc[SNP['VCF caller']=='bcftools indel','FNrate'])\n",
    ")"
   ]
  },
  {
   "cell_type": "code",
   "execution_count": 138,
   "id": "fe346f9f",
   "metadata": {},
   "outputs": [
    {
     "name": "stdout",
     "output_type": "stream",
     "text": [
      "2.1937321937321936 2.94359135067377\n",
      "0.9373219373219374 0.4982764023816985\n",
      "2.090909090909091 3.858213616489694\n",
      "[0. 0. 0.] [0. 0. 1.] [0. 0. 0.]\n",
      "FP [0. 0. 2.] [ 0.  0. 10.] [0. 0. 2.] [0. 0. 2.]\n",
      "[0. 1. 6.] [ 0.   2.5 24.5] [ 9. 22. 32.]\n",
      "FNrate [ 0.   1.5 11. ] [ 0.5  3.  28.7] [ 9.  23.5 53.9] [ 8.8 23.5 54. ] [0.03  0.075 0.235] [0.285 0.44  0.66 ]\n",
      "1.0042745006606046\n"
     ]
    }
   ],
   "source": [
    "# MO\n",
    "print(sum(SNP.loc[SNP['VCF caller']=='bcftools indel','FP'])/\n",
    "      sum(SNP.loc[SNP['VCF caller']=='VARIANTS','FP']),\n",
    "      sum(SNP.loc[SNP['VCF caller']=='bcftools indel','FN'])/\n",
    "      sum(SNP.loc[SNP['VCF caller']=='VARIANTS','FN'])\n",
    "     )\n",
    "print(sum(SNP.loc[(SNP['total_refSNP'].isin(['3e-02','4e-02','5e-02']))&(SNP['VCF caller']=='VARIANTS'),'FP'])/\n",
    "      sum(SNP.loc[SNP['VCF caller']=='VARIANTS','FP']),\n",
    "     sum(SNP.loc[(SNP['total_refSNP'].isin(['3e-02','4e-02','5e-02']))&(SNP['VCF caller']=='VARIANTS'),'FN'])/\n",
    "      sum(SNP.loc[SNP['VCF caller']=='VARIANTS','FN']))\n",
    "print(sum(SNP.loc[(~SNP['total_refSNP'].isin(['3e-02','4e-02','5e-02']))&(SNP['VCF caller']=='bcftools indel'),'FP'])/\n",
    "      sum(SNP.loc[(~SNP['total_refSNP'].isin(['3e-02','4e-02','5e-02']))&(SNP['VCF caller']=='VARIANTS'),'FP']),\n",
    "      sum(SNP.loc[(~SNP['total_refSNP'].isin(['3e-02','4e-02','5e-02']))&(SNP['VCF caller']=='bcftools indel'),'FN'])/\n",
    "      sum(SNP.loc[(~SNP['total_refSNP'].isin(['3e-02','4e-02','5e-02']))&(SNP['VCF caller']=='VARIANTS'),'FN'])\n",
    "     )\n",
    "print(np.quantile(SNP.loc[(~SNP['total_refSNP'].isin(['3e-02','4e-02','5e-02']))&(SNP['VCF caller']=='VARIANTS'),'FP'],[0.05,0.5,0.95]),\n",
    "      np.quantile(SNP.loc[(~SNP['total_refSNP'].isin(['3e-02','4e-02','5e-02']))&(SNP['VCF caller']=='bcftools indel'),'FP'],[0.05,0.5,0.95]),\n",
    "     np.quantile(SNP.loc[(~SNP['total_refSNP'].isin(['3e-02','4e-02','5e-02']))&(SNP['VCF caller']=='bcftools Mul-ALT'),'FP'],[0.05,0.5,0.95]))\n",
    "print('FP',\n",
    "      np.quantile(SNP.loc[SNP['VCF caller']=='VARIANTS','FP'],[0.05,0.5,0.95]),\n",
    "      np.quantile(SNP.loc[SNP['VCF caller']=='bcftools indel','FP'],[0.05,0.5,0.95]),\n",
    "         np.quantile(SNP.loc[SNP['VCF caller']=='bcftools Mul-ALT','FP'],[0.05,0.5,0.95]),\n",
    "         np.quantile(SNP.loc[SNP['VCF caller']=='bcftools default','FP'],[0.05,0.5,0.95]))\n",
    "print(np.quantile(SNP.loc[(~SNP['total_refSNP'].isin(['3e-02','4e-02','5e-02']))&(SNP['VCF caller']=='VARIANTS'),'FNrate'],[0.05,0.5,0.95])*100,\n",
    "      np.quantile(SNP.loc[(~SNP['total_refSNP'].isin(['3e-02','4e-02','5e-02']))&(SNP['VCF caller']=='bcftools indel'),'FNrate'],[0.05,0.5,0.95])*100,\n",
    "     np.quantile(SNP.loc[(~SNP['total_refSNP'].isin(['3e-02','4e-02','5e-02']))&(SNP['VCF caller']=='bcftools Mul-ALT'),'FNrate'],[0.05,0.5,0.95])*100)\n",
    "print('FNrate',\n",
    "      np.quantile(SNP.loc[SNP['VCF caller']=='VARIANTS','FNrate'],[0.05,0.5,0.95])*100,\n",
    "      np.quantile(SNP.loc[SNP['VCF caller']=='bcftools indel','FNrate'],[0.05,0.5,0.95])*100,\n",
    "         np.quantile(SNP.loc[SNP['VCF caller']=='bcftools Mul-ALT','FNrate'],[0.05,0.5,0.95])*100,\n",
    "         np.quantile(SNP.loc[SNP['VCF caller']=='bcftools default','FNrate'],[0.05,0.5,0.95])*100,\n",
    "                 np.quantile(SNP.loc[(SNP['total_refSNP'].isin(['3e-02','4e-02','5e-02']))&(SNP['VCF caller']=='VARIANTS'),'FNrate'],[0.05,0.5,0.95]),\n",
    "\n",
    "           np.quantile(SNP.loc[(SNP['total_refSNP'].isin(['3e-02','4e-02','5e-02']))&(SNP['VCF caller']=='bcftools Mul-ALT'),'FNrate'],[0.05,0.5,0.95]),\n",
    ")\n",
    "print(sum(SNP.loc[SNP['VCF caller']=='bcftools Mul-ALT','FN'])/\n",
    "      sum(SNP.loc[SNP['VCF caller']=='bcftools default','FN']))\n"
   ]
  },
  {
   "cell_type": "code",
   "execution_count": 472,
   "id": "38dce046",
   "metadata": {},
   "outputs": [
    {
     "name": "stdout",
     "output_type": "stream",
     "text": [
      "2.1937321937321936 2.94359135067377\n",
      "0.9373219373219374 0.4982764023816985\n",
      "2.090909090909091 3.858213616489694\n",
      "[0. 0. 0.] [0. 0. 1.] [0. 0. 0.]\n",
      "FP [0. 0. 2.] [ 0.  0. 10.] [0. 0. 2.] [0. 0. 2.]\n",
      "[0. 1. 6.] [ 0.   2.5 24.5] [ 9. 22. 32.]\n",
      "FNrate [ 0.   1.5 11. ] [ 0.5  3.  28.7] [ 9.  23.5 53.9] [ 8.8 23.5 54. ] [0.03  0.075 0.235] [0.285 0.44  0.66 ]\n",
      "1.0042745006606046\n"
     ]
    }
   ],
   "source": [
    "# MO\n",
    "print(sum(SNP.loc[SNP['VCF caller']=='bcftools indel','FP'])/\n",
    "      sum(SNP.loc[SNP['VCF caller']=='VARIANTS','FP']),\n",
    "      sum(SNP.loc[SNP['VCF caller']=='bcftools indel','FN'])/\n",
    "      sum(SNP.loc[SNP['VCF caller']=='VARIANTS','FN'])\n",
    "     )\n",
    "print(sum(SNP.loc[(SNP['total_refSNP'].isin(['3e-02','4e-02','5e-02']))&(SNP['VCF caller']=='VARIANTS'),'FP'])/\n",
    "      sum(SNP.loc[SNP['VCF caller']=='VARIANTS','FP']),\n",
    "     sum(SNP.loc[(SNP['total_refSNP'].isin(['3e-02','4e-02','5e-02']))&(SNP['VCF caller']=='VARIANTS'),'FN'])/\n",
    "      sum(SNP.loc[SNP['VCF caller']=='VARIANTS','FN']))\n",
    "print(sum(SNP.loc[(~SNP['total_refSNP'].isin(['3e-02','4e-02','5e-02']))&(SNP['VCF caller']=='bcftools indel'),'FP'])/\n",
    "      sum(SNP.loc[(~SNP['total_refSNP'].isin(['3e-02','4e-02','5e-02']))&(SNP['VCF caller']=='VARIANTS'),'FP']),\n",
    "      sum(SNP.loc[(~SNP['total_refSNP'].isin(['3e-02','4e-02','5e-02']))&(SNP['VCF caller']=='bcftools indel'),'FN'])/\n",
    "      sum(SNP.loc[(~SNP['total_refSNP'].isin(['3e-02','4e-02','5e-02']))&(SNP['VCF caller']=='VARIANTS'),'FN'])\n",
    "     )\n",
    "print(np.quantile(SNP.loc[(~SNP['total_refSNP'].isin(['3e-02','4e-02','5e-02']))&(SNP['VCF caller']=='VARIANTS'),'FP'],[0.05,0.5,0.95]),\n",
    "      np.quantile(SNP.loc[(~SNP['total_refSNP'].isin(['3e-02','4e-02','5e-02']))&(SNP['VCF caller']=='bcftools indel'),'FP'],[0.05,0.5,0.95]),\n",
    "     np.quantile(SNP.loc[(~SNP['total_refSNP'].isin(['3e-02','4e-02','5e-02']))&(SNP['VCF caller']=='bcftools Mul-ALT'),'FP'],[0.05,0.5,0.95]))\n",
    "print('FP',\n",
    "      np.quantile(SNP.loc[SNP['VCF caller']=='VARIANTS','FP'],[0.05,0.5,0.95]),\n",
    "      np.quantile(SNP.loc[SNP['VCF caller']=='bcftools indel','FP'],[0.05,0.5,0.95]),\n",
    "         np.quantile(SNP.loc[SNP['VCF caller']=='bcftools Mul-ALT','FP'],[0.05,0.5,0.95]),\n",
    "         np.quantile(SNP.loc[SNP['VCF caller']=='bcftools default','FP'],[0.05,0.5,0.95]))\n",
    "print(np.quantile(SNP.loc[(~SNP['total_refSNP'].isin(['3e-02','4e-02','5e-02']))&(SNP['VCF caller']=='VARIANTS'),'FNrate'],[0.05,0.5,0.95])*100,\n",
    "      np.quantile(SNP.loc[(~SNP['total_refSNP'].isin(['3e-02','4e-02','5e-02']))&(SNP['VCF caller']=='bcftools indel'),'FNrate'],[0.05,0.5,0.95])*100,\n",
    "     np.quantile(SNP.loc[(~SNP['total_refSNP'].isin(['3e-02','4e-02','5e-02']))&(SNP['VCF caller']=='bcftools Mul-ALT'),'FNrate'],[0.05,0.5,0.95])*100)\n",
    "print('FNrate',\n",
    "      np.quantile(SNP.loc[SNP['VCF caller']=='VARIANTS','FNrate'],[0.05,0.5,0.95])*100,\n",
    "      np.quantile(SNP.loc[SNP['VCF caller']=='bcftools indel','FNrate'],[0.05,0.5,0.95])*100,\n",
    "         np.quantile(SNP.loc[SNP['VCF caller']=='bcftools Mul-ALT','FNrate'],[0.05,0.5,0.95])*100,\n",
    "         np.quantile(SNP.loc[SNP['VCF caller']=='bcftools default','FNrate'],[0.05,0.5,0.95])*100,\n",
    "                 np.quantile(SNP.loc[(SNP['total_refSNP'].isin(['3e-02','4e-02','5e-02']))&(SNP['VCF caller']=='VARIANTS'),'FNrate'],[0.05,0.5,0.95]),\n",
    "\n",
    "           np.quantile(SNP.loc[(SNP['total_refSNP'].isin(['3e-02','4e-02','5e-02']))&(SNP['VCF caller']=='bcftools Mul-ALT'),'FNrate'],[0.05,0.5,0.95]),\n",
    ")\n",
    "print(sum(SNP.loc[SNP['VCF caller']=='bcftools Mul-ALT','FN'])/\n",
    "      sum(SNP.loc[SNP['VCF caller']=='bcftools default','FN']))\n"
   ]
  },
  {
   "cell_type": "code",
   "execution_count": 466,
   "id": "89e9e76c",
   "metadata": {},
   "outputs": [
    {
     "name": "stdout",
     "output_type": "stream",
     "text": [
      "[15.66666667] [2.]\n"
     ]
    }
   ],
   "source": [
    "print(np.quantile(SNP.loc[SNP['VCF caller']=='bcftools Mul-ALT','FNrate'],[\n",
    "    0.5])/np.quantile(SNP.loc[SNP['VCF caller']=='VARIANTS','FNrate'],[0.5\n",
    "                                                                   ]),\n",
    "     np.quantile(SNP.loc[SNP['VCF caller']=='bcftools indel','FNrate'],[\n",
    "    0.5])/np.quantile(SNP.loc[SNP['VCF caller']=='VARIANTS','FNrate'],[0.5\n",
    "                                                                   ]))\n"
   ]
  },
  {
   "cell_type": "code",
   "execution_count": 467,
   "id": "74def5fe",
   "metadata": {},
   "outputs": [
    {
     "data": {
      "text/plain": [
       "array([15.66666667])"
      ]
     },
     "execution_count": 467,
     "metadata": {},
     "output_type": "execute_result"
    }
   ],
   "source": [
    "np.quantile(SNP.loc[SNP['VCF caller']=='bcftools default','FNrate'],[\n",
    "    0.5])/np.quantile(SNP.loc[SNP['VCF caller']=='VARIANTS','FNrate'],[0.5\n",
    "                                                                   ])"
   ]
  },
  {
   "cell_type": "code",
   "execution_count": 401,
   "id": "43b685ba",
   "metadata": {},
   "outputs": [
    {
     "data": {
      "text/plain": [
       "array([1.])"
      ]
     },
     "execution_count": 401,
     "metadata": {},
     "output_type": "execute_result"
    }
   ],
   "source": [
    "np.quantile(SNP.loc[SNP['VCF caller']=='bcftools Mul-ALT','FNrate'],[\n",
    "    0.5])/np.quantile(SNP.loc[SNP['VCF caller']=='bcftools default','FNrate'],[0.5\n",
    "                                                                   ])"
   ]
  },
  {
   "cell_type": "code",
   "execution_count": 484,
   "id": "877ba390",
   "metadata": {},
   "outputs": [
    {
     "name": "stdout",
     "output_type": "stream",
     "text": [
      "[0.    0.015 0.11 ] [0.09  0.235 0.539] [0.005 0.03  0.287]\n"
     ]
    }
   ],
   "source": [
    "print(np.quantile(SNP.loc[SNP['VCF caller']=='VARIANTS','FNrate'],[0.05,0.5,0.95]),\n",
    "         np.quantile(SNP.loc[SNP['VCF caller']=='bcftools Mul-ALT','FNrate'],[0.05,0.5,0.95]),\n",
    "     np.quantile(SNP.loc[SNP['VCF caller']=='bcftools indel','FNrate'],[0.05,0.5,0.95]))"
   ]
  },
  {
   "cell_type": "code",
   "execution_count": 403,
   "id": "a96afda0",
   "metadata": {},
   "outputs": [
    {
     "name": "stdout",
     "output_type": "stream",
     "text": [
      "[0.   0.01 0.06] [0. 0. 0.]\n"
     ]
    }
   ],
   "source": [
    "print(np.quantile(SNP.loc[(~SNP['total_refSNP'].isin(['3e-02','4e-02','5e-02']))&(SNP['VCF caller']=='VARIANTS'),'FNrate'],[0.05,0.5,0.95]),\n",
    "     np.quantile(SNP.loc[(~SNP['total_refSNP'].isin(['3e-02','4e-02','5e-02']))&(SNP['VCF caller']=='VARIANTS'),'FP'],[0.05,0.5,0.95]))\n"
   ]
  },
  {
   "cell_type": "code",
   "execution_count": 404,
   "id": "cfc3a291",
   "metadata": {},
   "outputs": [
    {
     "data": {
      "text/plain": [
       "array([22.])"
      ]
     },
     "execution_count": 404,
     "metadata": {},
     "output_type": "execute_result"
    }
   ],
   "source": [
    "np.quantile(SNP.loc[(~SNP['total_refSNP'].isin(['3e-02','4e-02','5e-02']))&(SNP['VCF caller']=='bcftools Mul-ALT'),'FNrate'],[0.5])/np.quantile(SNP.loc[\n",
    "    (~SNP['total_refSNP'].isin(['3e-02','4e-02','5e-02']))&(SNP['VCF caller']=='VARIANTS'),'FNrate'],[0.5])"
   ]
  },
  {
   "cell_type": "code",
   "execution_count": 473,
   "id": "9e213b06",
   "metadata": {},
   "outputs": [
    {
     "data": {
      "text/plain": [
       "array([2.5])"
      ]
     },
     "execution_count": 473,
     "metadata": {},
     "output_type": "execute_result"
    }
   ],
   "source": [
    "np.quantile(SNP.loc[(~SNP['total_refSNP'].isin(['3e-02','4e-02','5e-02']))&(SNP['VCF caller']=='bcftools indel'),'FNrate'],[0.5])/np.quantile(SNP.loc[\n",
    "    (~SNP['total_refSNP'].isin(['3e-02','4e-02','5e-02']))&(SNP['VCF caller']=='VARIANTS'),'FNrate'],[0.5])"
   ]
  },
  {
   "cell_type": "code",
   "execution_count": 405,
   "id": "a0883f5d",
   "metadata": {},
   "outputs": [
    {
     "data": {
      "text/plain": [
       "0.9850034083162917"
      ]
     },
     "execution_count": 405,
     "metadata": {},
     "output_type": "execute_result"
    }
   ],
   "source": [
    "1-sum(SNP.loc[(~SNP['total_refSNP'].isin(['3e-02','4e-02','5e-02']))&(SNP['VCF caller']=='VARIANTS'),'FP'])/sum(\n",
    "SNP.loc[:,'FP'])"
   ]
  },
  {
   "cell_type": "code",
   "execution_count": 487,
   "id": "336cb347",
   "metadata": {},
   "outputs": [
    {
     "name": "stdout",
     "output_type": "stream",
     "text": [
      "[ 3.   7.5 23.5] [ 4.5  9.5 56.5] [28.5 44.  66. ]\n"
     ]
    }
   ],
   "source": [
    "print(np.quantile(SNP.loc[(SNP['total_refSNP'].isin(['3e-02','4e-02','5e-02']))&(SNP['VCF caller']=='VARIANTS'),'FNrate'],[0.05,0.5,0.95])*100,\n",
    " np.quantile(SNP.loc[(SNP['total_refSNP'].isin(['3e-02','4e-02','5e-02']))&(SNP['VCF caller']=='bcftools indel'),'FNrate'],[0.05,0.5,0.95])*100,\n",
    "           np.quantile(SNP.loc[(SNP['total_refSNP'].isin(['3e-02','4e-02','5e-02']))&(SNP['VCF caller']=='bcftools Mul-ALT'),'FNrate'],[0.05,0.5,0.95])*100)"
   ]
  },
  {
   "cell_type": "code",
   "execution_count": 488,
   "id": "5cb2c2f6",
   "metadata": {},
   "outputs": [
    {
     "name": "stdout",
     "output_type": "stream",
     "text": [
      "[ 0.  0. 24.] [ 0.  4. 34.] [0. 0. 8.]\n"
     ]
    }
   ],
   "source": [
    "print(np.quantile(SNP.loc[(SNP['total_refSNP'].isin(['3e-02','4e-02','5e-02']))&(SNP['VCF caller']=='VARIANTS'),'FP'],[0.05,0.5,0.95]),\n",
    " np.quantile(SNP.loc[(SNP['total_refSNP'].isin(['3e-02','4e-02','5e-02']))&(SNP['VCF caller']=='bcftools indel'),'FP'],[0.05,0.5,0.95]),\n",
    "           np.quantile(SNP.loc[(SNP['total_refSNP'].isin(['3e-02','4e-02','5e-02']))&(SNP['VCF caller']=='bcftools Mul-ALT'),'FP'],[0.05,0.5,0.95]))"
   ]
  },
  {
   "cell_type": "code",
   "execution_count": 476,
   "id": "f794e39b",
   "metadata": {},
   "outputs": [
    {
     "name": "stdout",
     "output_type": "stream",
     "text": [
      "KstestResult(statistic=1.0, pvalue=4.11353352529823e-05)\n",
      "VARIANTS [0.5 1.  3.3] 1.4444444444444446 0.010122703976826998\n",
      "bcftools Mul-ALT [22.2 23.  27.9] 23.944444444444446 0.022291558497487637\n",
      "bcftools default [22.2 23.  27.1] 23.833333333333336 0.018856180831641256\n",
      "bcftools indel [2. 3. 4.] 3.0000000000000004 0.007071067811865475\n"
     ]
    }
   ],
   "source": [
    "SNPspecies = pd.DataFrame(SNP.groupby(['Genome','VCF caller'])['FNrate'].median())\n",
    "SNPspecies.reset_index(inplace=True)\n",
    "print(kstest(SNPspecies.loc[SNPspecies['VCF caller']=='VARIANTS','FNrate'],\n",
    "      SNPspecies.loc[SNPspecies['VCF caller']=='bcftools Mul-ALT','FNrate'])\n",
    ")\n",
    "for VCFcaller in SNPspecies['VCF caller'].unique():\n",
    "    SNPspeciessub = SNPspecies[SNPspecies['VCF caller']==VCFcaller]\n",
    "    print(VCFcaller,np.quantile(SNPspeciessub['FNrate'],[0.05,0.5,0.95])*100,\n",
    "          np.mean(SNPspeciessub['FNrate'])*100,\n",
    "          np.std(SNPspeciessub['FNrate']))\n",
    "    "
   ]
  },
  {
   "cell_type": "code",
   "execution_count": 408,
   "id": "2b4d8842",
   "metadata": {},
   "outputs": [
    {
     "data": {
      "text/plain": [
       "<AxesSubplot:xlabel='VCF caller', ylabel='FNrate'>"
      ]
     },
     "execution_count": 408,
     "metadata": {},
     "output_type": "execute_result"
    },
    {
     "data": {
      "image/png": "[encoded data removed]",
      "text/plain": [
       "<Figure size 432x288 with 1 Axes>"
      ]
     },
     "metadata": {
      "needs_background": "light"
     },
     "output_type": "display_data"
    }
   ],
   "source": [
    "sns.boxplot(x='VCF caller', y='FNrate',  data=SNPspecies,hue = 'VCF caller',palette=pallete_set)\n"
   ]
  },
  {
   "cell_type": "code",
   "execution_count": 490,
   "id": "1e42c870",
   "metadata": {},
   "outputs": [
    {
     "name": "stdout",
     "output_type": "stream",
     "text": [
      "KstestResult(statistic=0.13742690058479531, pvalue=0.026035802471532143)\n",
      "KstestResult(statistic=0.03508771929824561, pvalue=0.9999451670875277)\n",
      "KstestResult(statistic=0.10526315789473684, pvalue=0.15623395625078762)\n",
      "KstestResult(statistic=0.14035087719298245, pvalue=0.06880160004126318)\n",
      "KstestResult(statistic=0.09064327485380116, pvalue=0.3005252129339563)\n",
      "KstestResult(statistic=0.13450292397660818, pvalue=0.0906464511545769)\n"
     ]
    }
   ],
   "source": [
    "from scipy.stats import kstest\n",
    "print(kstest(SNP.loc[(SNP['Tool']=='bowtie2') & (SNP['VCF caller']=='bcftools indel'),'FP'],\n",
    "      SNP.loc[(SNP['Tool']!='bowtie2') & (SNP['VCF caller']=='bcftools indel'),'FP'])\n",
    ")\n",
    "print(kstest(SNP.loc[(SNP['Tool']=='bwa') & (SNP['VCF caller']=='bcftools indel'),'FP'],\n",
    "      SNP.loc[(SNP['Tool']=='minimap2') & (SNP['VCF caller']=='bcftools indel'),'FP'])\n",
    ")\n",
    "print(kstest(SNP.loc[(SNP['Tool']=='bowtie2') & (SNP['VCF caller']=='bcftools Mul-ALT'),'FP'],\n",
    "      SNP.loc[(SNP['Tool']!='bowtie2') & (SNP['VCF caller']=='bcftools Mul-ALT'),'FP'])\n",
    ")\n",
    "print(kstest(SNP.loc[(SNP['Tool']=='bwa') & (SNP['VCF caller']=='bcftools Mul-ALT'),'FP'],\n",
    "      SNP.loc[(SNP['Tool']=='minimap2') & (SNP['VCF caller']=='bcftools Mul-ALT'),'FP'])\n",
    ")\n",
    "from scipy.stats import kstest\n",
    "print(kstest(SNP.loc[(SNP['Tool']=='bowtie2') & (SNP['VCF caller']=='VARIANTS'),'FP'],\n",
    "      SNP.loc[(SNP['Tool']!='bowtie2') & (SNP['VCF caller']=='VARIANTS'),'FP'])\n",
    ")\n",
    "print(kstest(SNP.loc[(SNP['Tool']=='bwa') & (SNP['VCF caller']=='VARIANTS'),'FP'],\n",
    "      SNP.loc[(SNP['Tool']=='minimap2') & (SNP['VCF caller']=='VARIANTS'),'FP'])\n",
    ")\n"
   ]
  },
  {
   "cell_type": "code",
   "execution_count": 491,
   "id": "929be50f",
   "metadata": {},
   "outputs": [
    {
     "name": "stdout",
     "output_type": "stream",
     "text": [
      "KstestResult(statistic=0.9093567251461988, pvalue=1.1102230246251565e-15)\n",
      "KstestResult(statistic=0.023391812865497075, pvalue=0.9999999999798249)\n",
      "KstestResult(statistic=0.6637426900584795, pvalue=1.1102230246251565e-15)\n",
      "KstestResult(statistic=0.2982456140350877, pvalue=4.109391976248092e-07)\n",
      "KstestResult(statistic=0.45321637426900585, pvalue=1.1102230246251565e-15)\n",
      "KstestResult(statistic=0.029239766081871343, pvalue=0.9999996734018008)\n"
     ]
    }
   ],
   "source": [
    "from scipy.stats import kstest\n",
    "print(kstest(SNP.loc[(SNP['Tool']=='bowtie2') & (SNP['VCF caller']=='bcftools indel'),'FNrate'],\n",
    "      SNP.loc[(SNP['Tool']!='bowtie2') & (SNP['VCF caller']=='bcftools indel'),'FNrate'])\n",
    ")\n",
    "print(kstest(SNP.loc[(SNP['Tool']=='bwa') & (SNP['VCF caller']=='bcftools indel'),'FNrate'],\n",
    "      SNP.loc[(SNP['Tool']=='minimap2') & (SNP['VCF caller']=='bcftools indel'),'FNrate'])\n",
    ")\n",
    "print(kstest(SNP.loc[(SNP['Tool']=='bowtie2') & (SNP['VCF caller']=='bcftools Mul-ALT'),'FNrate'],\n",
    "      SNP.loc[(SNP['Tool']!='bowtie2') & (SNP['VCF caller']=='bcftools Mul-ALT'),'FNrate'])\n",
    ")\n",
    "print(kstest(SNP.loc[(SNP['Tool']=='bwa') & (SNP['VCF caller']=='bcftools Mul-ALT'),'FNrate'],\n",
    "      SNP.loc[(SNP['Tool']=='minimap2') & (SNP['VCF caller']=='bcftools Mul-ALT'),'FNrate'])\n",
    ")\n",
    "from scipy.stats import kstest\n",
    "print(kstest(SNP.loc[(SNP['Tool']=='bowtie2') & (SNP['VCF caller']=='VARIANTS'),'FNrate'],\n",
    "      SNP.loc[(SNP['Tool']!='bowtie2') & (SNP['VCF caller']=='VARIANTS'),'FNrate'])\n",
    ")\n",
    "print(kstest(SNP.loc[(SNP['Tool']=='bwa') & (SNP['VCF caller']=='VARIANTS'),'FNrate'],\n",
    "      SNP.loc[(SNP['Tool']=='minimap2') & (SNP['VCF caller']=='VARIANTS'),'FNrate'])\n",
    ")"
   ]
  },
  {
   "cell_type": "code",
   "execution_count": 468,
   "id": "f60622af",
   "metadata": {},
   "outputs": [
    {
     "name": "stdout",
     "output_type": "stream",
     "text": [
      "KstestResult(statistic=0.017543859649122806, pvalue=0.9999986537558455)\n",
      "KstestResult(statistic=0.884990253411306, pvalue=6.687223880337755e-211)\n",
      "KstestResult(statistic=0.07602339181286549, pvalue=0.10311979566794738)\n",
      "KstestResult(statistic=0.2884990253411306, pvalue=3.2377532429931436e-19)\n",
      "KstestResult(statistic=0.003898635477582846, pvalue=1.0)\n",
      "KstestResult(statistic=0.025341130604288498, pvalue=0.9966107799426185)\n",
      "KstestResult(statistic=0.01949317738791423, pvalue=0.9999757442557087)\n",
      "KstestResult(statistic=0.8791423001949318, pvalue=2.656464411446613e-207)\n"
     ]
    }
   ],
   "source": [
    "# MO\n",
    "print(kstest(SNP.loc[SNP['VCF caller']=='VARIANTS','FP'],\n",
    "      SNP.loc[SNP['VCF caller']=='bcftools Mul-ALT','FP'])\n",
    ")\n",
    "print(kstest(SNP.loc[SNP['VCF caller']=='VARIANTS','FNrate'],\n",
    "      SNP.loc[SNP['VCF caller']=='bcftools Mul-ALT','FNrate'])\n",
    ")\n",
    "print(kstest(SNP.loc[SNP['VCF caller']=='VARIANTS','FP'],\n",
    "      SNP.loc[SNP['VCF caller']=='bcftools indel','FP'])\n",
    ")\n",
    "print(kstest(SNP.loc[SNP['VCF caller']=='VARIANTS','FNrate'],\n",
    "      SNP.loc[SNP['VCF caller']=='bcftools indel','FNrate'])\n",
    ")\n",
    "print(kstest(SNP.loc[SNP['VCF caller']=='bcftools default','FP'],\n",
    "      SNP.loc[SNP['VCF caller']=='bcftools Mul-ALT','FP'])\n",
    ")\n",
    "print(kstest(SNP.loc[SNP['VCF caller']=='bcftools default','FNrate'],\n",
    "      SNP.loc[SNP['VCF caller']=='bcftools Mul-ALT','FNrate'])\n",
    ")\n",
    "print(kstest(SNP.loc[SNP['VCF caller']=='VARIANTS','FP'],\n",
    "      SNP.loc[SNP['VCF caller']=='bcftools default','FP'])\n",
    ")\n",
    "print(kstest(SNP.loc[SNP['VCF caller']=='VARIANTS','FNrate'],\n",
    "      SNP.loc[SNP['VCF caller']=='bcftools default','FNrate'])\n",
    ")"
   ]
  },
  {
   "cell_type": "code",
   "execution_count": 2,
   "id": "1be9da9c",
   "metadata": {},
   "outputs": [
    {
     "name": "stdout",
     "output_type": "stream",
     "text": [
      "['bowtie2' 'minimap2' 'bwa']\n",
      "['bowtie2' 'bwa' 'minimap2'] ['QuickVariants' 'QuickVariants total' 'bcftools' 'bcftools total']\n",
      "['BaXy' 'EsCo' 'AkMu' 'BaFr' 'PaDi' 'BaVu' 'BaFa' 'BiAd' 'BaOv']\n"
     ]
    },
    {
     "data": {
      "text/html": [
       "<div>\n",
       "<style scoped>\n",
       "    .dataframe tbody tr th:only-of-type {\n",
       "        vertical-align: middle;\n",
       "    }\n",
       "\n",
       "    .dataframe tbody tr th {\n",
       "        vertical-align: top;\n",
       "    }\n",
       "\n",
       "    .dataframe thead th {\n",
       "        text-align: right;\n",
       "    }\n",
       "</style>\n",
       "<table border=\"1\" class=\"dataframe\">\n",
       "  <thead>\n",
       "    <tr style=\"text-align: right;\">\n",
       "      <th></th>\n",
       "      <th>fasta</th>\n",
       "      <th>SNP</th>\n",
       "      <th>tool</th>\n",
       "      <th>VCF caller</th>\n",
       "      <th>Total time</th>\n",
       "      <th>Genome</th>\n",
       "      <th>Tool</th>\n",
       "      <th>Tool VCF caller</th>\n",
       "    </tr>\n",
       "  </thead>\n",
       "  <tbody>\n",
       "    <tr>\n",
       "      <th>781</th>\n",
       "      <td>am_AkMu_g0002</td>\n",
       "      <td>1e-06</td>\n",
       "      <td>bowtie2</td>\n",
       "      <td>QuickVariants</td>\n",
       "      <td>6.47</td>\n",
       "      <td>AkMu</td>\n",
       "      <td>bowtie2</td>\n",
       "      <td>bowtie2-QuickVariants</td>\n",
       "    </tr>\n",
       "    <tr>\n",
       "      <th>337</th>\n",
       "      <td>am_AkMu_g0002</td>\n",
       "      <td>2e-06</td>\n",
       "      <td>bowtie2</td>\n",
       "      <td>QuickVariants</td>\n",
       "      <td>6.49</td>\n",
       "      <td>AkMu</td>\n",
       "      <td>bowtie2</td>\n",
       "      <td>bowtie2-QuickVariants</td>\n",
       "    </tr>\n",
       "    <tr>\n",
       "      <th>613</th>\n",
       "      <td>am_AkMu_g0002</td>\n",
       "      <td>3e-06</td>\n",
       "      <td>bowtie2</td>\n",
       "      <td>QuickVariants</td>\n",
       "      <td>6.68</td>\n",
       "      <td>AkMu</td>\n",
       "      <td>bowtie2</td>\n",
       "      <td>bowtie2-QuickVariants</td>\n",
       "    </tr>\n",
       "    <tr>\n",
       "      <th>1681</th>\n",
       "      <td>am_AkMu_g0002</td>\n",
       "      <td>4e-06</td>\n",
       "      <td>bowtie2</td>\n",
       "      <td>QuickVariants</td>\n",
       "      <td>6.23</td>\n",
       "      <td>AkMu</td>\n",
       "      <td>bowtie2</td>\n",
       "      <td>bowtie2-QuickVariants</td>\n",
       "    </tr>\n",
       "    <tr>\n",
       "      <th>25</th>\n",
       "      <td>am_AkMu_g0002</td>\n",
       "      <td>5e-06</td>\n",
       "      <td>bowtie2</td>\n",
       "      <td>QuickVariants</td>\n",
       "      <td>6.46</td>\n",
       "      <td>AkMu</td>\n",
       "      <td>bowtie2</td>\n",
       "      <td>bowtie2-QuickVariants</td>\n",
       "    </tr>\n",
       "  </tbody>\n",
       "</table>\n",
       "</div>"
      ],
      "text/plain": [
       "              fasta    SNP     tool     VCF caller  Total time Genome  \\\n",
       "781   am_AkMu_g0002  1e-06  bowtie2  QuickVariants        6.47   AkMu   \n",
       "337   am_AkMu_g0002  2e-06  bowtie2  QuickVariants        6.49   AkMu   \n",
       "613   am_AkMu_g0002  3e-06  bowtie2  QuickVariants        6.68   AkMu   \n",
       "1681  am_AkMu_g0002  4e-06  bowtie2  QuickVariants        6.23   AkMu   \n",
       "25    am_AkMu_g0002  5e-06  bowtie2  QuickVariants        6.46   AkMu   \n",
       "\n",
       "         Tool        Tool VCF caller  \n",
       "781   bowtie2  bowtie2-QuickVariants  \n",
       "337   bowtie2  bowtie2-QuickVariants  \n",
       "613   bowtie2  bowtie2-QuickVariants  \n",
       "1681  bowtie2  bowtie2-QuickVariants  \n",
       "25    bowtie2  bowtie2-QuickVariants  "
      ]
     },
     "execution_count": 2,
     "metadata": {},
     "output_type": "execute_result"
    }
   ],
   "source": [
    "# Time\n",
    "folder = 'samtovcf/new/15thread/'\n",
    "pallete_set = {\n",
    "        'QuickVariants':'#ca0020','QuickVariants total':'#f4a582','bcftools total':'#e0e0e0','bcftools':'#878787'}\n",
    "\n",
    "Time=pd.read_csv('%s/alltimesum.txt'%(folder), sep='\\t')\n",
    "\n",
    "Time['Genome']=[x.split('.')[0] for x in Time['fasta']]\n",
    "\n",
    "genome_set = {'am_BA_g0003':'BiAd',\n",
    "                 'am_BaFr_g0050':'BaFr',\n",
    "                 'am_BaSa_g0015':'BaSa',\n",
    "             'am_AkMu_g0002':'AkMu','am_BaOv_g0001':'BaOv',\n",
    "              'am_BaVu_g0002':'BaVu','am_EsCo_g0005':'EsCo',\n",
    "             'am_PaDi_g0001':'PaDi','SRR2842672':'human',\n",
    "             'aa_BaFa_g0001':'BaFa-aa','bf_BaFa_g0001':'BaFa',\n",
    "              'bj_EsCo_g0001':'EsCo','cx_BaXy_g0001':'BaXy','SRR10971381':'SARS-COV-2'}\n",
    "Time['Genome'] = [genome_set[x] for x in Time['Genome']]\n",
    "allgenome = Time['Genome'].unique()\n",
    "Time['Tool'] = Time['tool']\n",
    "print(Time['Tool'].unique())\n",
    "Time['VCF caller']=[x.replace('VARIANTS','QuickVariants').replace('(',\n",
    "                                                                  '').replace(')',\n",
    "                                                                  '') for x in Time['VCF caller']]\n",
    "Time = Time.sort_values(['Genome','Tool','VCF caller','SNP'])\n",
    "print(Time['Tool'].unique(),Time['VCF caller'].unique())\n",
    "print(allgenome)\n",
    "Time['Tool VCF caller'] = Time['Tool'] + '-' + Time['VCF caller']\n",
    "Time['SNP']=['%.0e'%(x) for x in Time['SNP']]\n",
    "Time=Time[Time['VCF caller'].isin(['QuickVariants','bcftools'])]\n",
    "Time.head()\n"
   ]
  },
  {
   "cell_type": "code",
   "execution_count": 3,
   "id": "ce0e577d",
   "metadata": {},
   "outputs": [
    {
     "data": {
      "text/html": [
       "<div>\n",
       "<style scoped>\n",
       "    .dataframe tbody tr th:only-of-type {\n",
       "        vertical-align: middle;\n",
       "    }\n",
       "\n",
       "    .dataframe tbody tr th {\n",
       "        vertical-align: top;\n",
       "    }\n",
       "\n",
       "    .dataframe thead th {\n",
       "        text-align: right;\n",
       "    }\n",
       "</style>\n",
       "<table border=\"1\" class=\"dataframe\">\n",
       "  <thead>\n",
       "    <tr style=\"text-align: right;\">\n",
       "      <th></th>\n",
       "      <th>fasta</th>\n",
       "      <th>SNP</th>\n",
       "      <th>tool</th>\n",
       "      <th>VCF caller</th>\n",
       "      <th>Total time</th>\n",
       "      <th>Genome</th>\n",
       "      <th>Tool</th>\n",
       "      <th>Tool VCF caller</th>\n",
       "      <th>file</th>\n",
       "      <th>sam size</th>\n",
       "    </tr>\n",
       "  </thead>\n",
       "  <tbody>\n",
       "    <tr>\n",
       "      <th>0</th>\n",
       "      <td>am_AkMu_g0002</td>\n",
       "      <td>1e-06</td>\n",
       "      <td>bowtie2</td>\n",
       "      <td>QuickVariants</td>\n",
       "      <td>6.47</td>\n",
       "      <td>AkMu</td>\n",
       "      <td>bowtie2</td>\n",
       "      <td>bowtie2-QuickVariants</td>\n",
       "      <td>am_AkMu_g0002.1e-06.bowtie2</td>\n",
       "      <td>2827.039285</td>\n",
       "    </tr>\n",
       "    <tr>\n",
       "      <th>1</th>\n",
       "      <td>am_AkMu_g0002</td>\n",
       "      <td>2e-06</td>\n",
       "      <td>bowtie2</td>\n",
       "      <td>QuickVariants</td>\n",
       "      <td>6.49</td>\n",
       "      <td>AkMu</td>\n",
       "      <td>bowtie2</td>\n",
       "      <td>bowtie2-QuickVariants</td>\n",
       "      <td>am_AkMu_g0002.2e-06.bowtie2</td>\n",
       "      <td>2827.070182</td>\n",
       "    </tr>\n",
       "    <tr>\n",
       "      <th>2</th>\n",
       "      <td>am_AkMu_g0002</td>\n",
       "      <td>3e-06</td>\n",
       "      <td>bowtie2</td>\n",
       "      <td>QuickVariants</td>\n",
       "      <td>6.68</td>\n",
       "      <td>AkMu</td>\n",
       "      <td>bowtie2</td>\n",
       "      <td>bowtie2-QuickVariants</td>\n",
       "      <td>am_AkMu_g0002.3e-06.bowtie2</td>\n",
       "      <td>2827.009534</td>\n",
       "    </tr>\n",
       "    <tr>\n",
       "      <th>3</th>\n",
       "      <td>am_AkMu_g0002</td>\n",
       "      <td>4e-06</td>\n",
       "      <td>bowtie2</td>\n",
       "      <td>QuickVariants</td>\n",
       "      <td>6.23</td>\n",
       "      <td>AkMu</td>\n",
       "      <td>bowtie2</td>\n",
       "      <td>bowtie2-QuickVariants</td>\n",
       "      <td>am_AkMu_g0002.4e-06.bowtie2</td>\n",
       "      <td>2827.028066</td>\n",
       "    </tr>\n",
       "    <tr>\n",
       "      <th>4</th>\n",
       "      <td>am_AkMu_g0002</td>\n",
       "      <td>5e-06</td>\n",
       "      <td>bowtie2</td>\n",
       "      <td>QuickVariants</td>\n",
       "      <td>6.46</td>\n",
       "      <td>AkMu</td>\n",
       "      <td>bowtie2</td>\n",
       "      <td>bowtie2-QuickVariants</td>\n",
       "      <td>am_AkMu_g0002.5e-06.bowtie2</td>\n",
       "      <td>2827.060077</td>\n",
       "    </tr>\n",
       "  </tbody>\n",
       "</table>\n",
       "</div>"
      ],
      "text/plain": [
       "           fasta    SNP     tool     VCF caller  Total time Genome     Tool  \\\n",
       "0  am_AkMu_g0002  1e-06  bowtie2  QuickVariants        6.47   AkMu  bowtie2   \n",
       "1  am_AkMu_g0002  2e-06  bowtie2  QuickVariants        6.49   AkMu  bowtie2   \n",
       "2  am_AkMu_g0002  3e-06  bowtie2  QuickVariants        6.68   AkMu  bowtie2   \n",
       "3  am_AkMu_g0002  4e-06  bowtie2  QuickVariants        6.23   AkMu  bowtie2   \n",
       "4  am_AkMu_g0002  5e-06  bowtie2  QuickVariants        6.46   AkMu  bowtie2   \n",
       "\n",
       "         Tool VCF caller                         file     sam size  \n",
       "0  bowtie2-QuickVariants  am_AkMu_g0002.1e-06.bowtie2  2827.039285  \n",
       "1  bowtie2-QuickVariants  am_AkMu_g0002.2e-06.bowtie2  2827.070182  \n",
       "2  bowtie2-QuickVariants  am_AkMu_g0002.3e-06.bowtie2  2827.009534  \n",
       "3  bowtie2-QuickVariants  am_AkMu_g0002.4e-06.bowtie2  2827.028066  \n",
       "4  bowtie2-QuickVariants  am_AkMu_g0002.5e-06.bowtie2  2827.060077  "
      ]
     },
     "execution_count": 3,
     "metadata": {},
     "output_type": "execute_result"
    }
   ],
   "source": [
    "# samfile size\n",
    "filesize = pd.read_csv('%s/../samsize.txt'%(folder),sep='\\t',header=None)\n",
    "filesize.columns=['sam size','file']\n",
    "filesize['file']=[x.replace('.fasta','').replace('.SNP','').replace('.corrected','').replace('.sam','').replace('minimap','minimap2').replace('bowtie','bowtie2') for x in filesize['file']]\n",
    "Time['file']=Time['fasta'] + '.' + [str(x) for x in Time['SNP']] + '.' + Time['Tool']\n",
    "Time2=Time[Time['SNP']!='0e+00']\n",
    "Time2 = Time2.merge(filesize,left_on = 'file',right_on = 'file',how='left')\n",
    "Time2['sam size'] = [int(x)/1e6 for x in Time2['sam size']]\n",
    "Time2.head()\n"
   ]
  },
  {
   "cell_type": "code",
   "execution_count": 52,
   "id": "9f438884",
   "metadata": {},
   "outputs": [
    {
     "data": {
      "text/plain": [
       "array([21.5])"
      ]
     },
     "execution_count": 52,
     "metadata": {},
     "output_type": "execute_result"
    }
   ],
   "source": [
    "np.quantile(Time2.loc[(Time2['sam size']>=800)&(\n",
    "Time2['sam size']<=1500)&(Time2['VCF caller']=='bcftools'),'Total time'],[0.5])"
   ]
  },
  {
   "cell_type": "code",
   "execution_count": 53,
   "id": "8f56b0f4",
   "metadata": {},
   "outputs": [
    {
     "data": {
      "text/plain": [
       "array([55.57])"
      ]
     },
     "execution_count": 53,
     "metadata": {},
     "output_type": "execute_result"
    }
   ],
   "source": [
    "np.quantile(Time2.loc[(Time2['sam size']>=2000)&(\n",
    "Time2['sam size']<=3000)&(Time2['VCF caller']=='bcftools'),'Total time'],[0.5])"
   ]
  },
  {
   "cell_type": "code",
   "execution_count": 54,
   "id": "61ca5ed8",
   "metadata": {},
   "outputs": [
    {
     "data": {
      "text/plain": [
       "array([120.35])"
      ]
     },
     "execution_count": 54,
     "metadata": {},
     "output_type": "execute_result"
    }
   ],
   "source": [
    "np.quantile(Time2.loc[(Time2['sam size']>=4000)&(Time2['VCF caller']=='bcftools'),'Total time'],[0.5])"
   ]
  },
  {
   "cell_type": "code",
   "execution_count": 4,
   "id": "0688f9e6",
   "metadata": {},
   "outputs": [
    {
     "data": {
      "text/plain": [
       "array([3.205])"
      ]
     },
     "execution_count": 4,
     "metadata": {},
     "output_type": "execute_result"
    }
   ],
   "source": [
    "np.quantile(Time2.loc[(Time2['sam size']>=800)&(\n",
    "Time2['sam size']<=1500)&(Time2['VCF caller']=='QuickVariants'),'Total time'],[0.5])"
   ]
  },
  {
   "cell_type": "code",
   "execution_count": 5,
   "id": "050bdf96",
   "metadata": {},
   "outputs": [
    {
     "data": {
      "text/plain": [
       "array([5.88])"
      ]
     },
     "execution_count": 5,
     "metadata": {},
     "output_type": "execute_result"
    }
   ],
   "source": [
    "np.quantile(Time2.loc[(Time2['sam size']>=2000)&(\n",
    "Time2['sam size']<=3000)&(Time2['VCF caller']=='QuickVariants'),'Total time'],[0.5])"
   ]
  },
  {
   "cell_type": "code",
   "execution_count": 6,
   "id": "283ec055",
   "metadata": {},
   "outputs": [
    {
     "data": {
      "text/plain": [
       "array([10.43])"
      ]
     },
     "execution_count": 6,
     "metadata": {},
     "output_type": "execute_result"
    }
   ],
   "source": [
    "np.quantile(Time2.loc[(Time2['sam size']>=4000)&(Time2['VCF caller']=='QuickVariants'),'Total time'],[0.5])"
   ]
  },
  {
   "cell_type": "code",
   "execution_count": 4,
   "id": "9a9bc44f",
   "metadata": {},
   "outputs": [
    {
     "data": {
      "image/png": "[encoded data removed]",
      "text/plain": [
       "<Figure size 609.125x216 with 1 Axes>"
      ]
     },
     "metadata": {
      "needs_background": "light"
     },
     "output_type": "display_data"
    }
   ],
   "source": [
    "sns.lmplot(x='sam size', y='Total time', data=Time2,\n",
    "            hue = 'VCF caller',palette=pallete_set,height=3, aspect=7/3)\n",
    "plt.savefig('%s/Figure Sam.pdf'%(folder))\n"
   ]
  },
  {
   "cell_type": "code",
   "execution_count": 5,
   "id": "4bbbb2b9",
   "metadata": {},
   "outputs": [
    {
     "data": {
      "text/plain": [
       "<seaborn.axisgrid.FacetGrid at 0x7fe168550da0>"
      ]
     },
     "execution_count": 5,
     "metadata": {},
     "output_type": "execute_result"
    },
    {
     "data": {
      "image/png": "[encoded data removed]",
      "text/plain": [
       "<Figure size 609.125x216 with 1 Axes>"
      ]
     },
     "metadata": {
      "needs_background": "light"
     },
     "output_type": "display_data"
    }
   ],
   "source": [
    "sns.lmplot(x='sam size', y='Total time', data=Time2[Time2['VCF caller']=='QuickVariants'],\n",
    "            hue = 'VCF caller',palette=pallete_set,height=3, aspect=7/3)\n"
   ]
  },
  {
   "cell_type": "code",
   "execution_count": 6,
   "id": "b4fa4546",
   "metadata": {},
   "outputs": [
    {
     "data": {
      "image/png": "[encoded data removed]",
      "text/plain": [
       "<Figure size 504x648 with 3 Axes>"
      ]
     },
     "metadata": {
      "needs_background": "light"
     },
     "output_type": "display_data"
    },
    {
     "data": {
      "image/png": "[encoded data removed]",
      "text/plain": [
       "<Figure size 144x576 with 1 Axes>"
      ]
     },
     "metadata": {
      "needs_background": "light"
     },
     "output_type": "display_data"
    },
    {
     "data": {
      "image/png": "[encoded data removed]",
      "text/plain": [
       "<Figure size 216x432 with 1 Axes>"
      ]
     },
     "metadata": {
      "needs_background": "light"
     },
     "output_type": "display_data"
    }
   ],
   "source": [
    "fig, axs = plt.subplots(nrows=3,ncols = 1,figsize=(7, 9))\n",
    "plt.subplots_adjust(hspace=0.4)\n",
    "sns.pointplot(x='SNP', y='Total time', data=Time,ax=axs[0],hue = 'VCF caller',palette=pallete_set)\n",
    "axs[0].set_xlabel('Mutation rate') \n",
    "axs[0].set_ylabel('Total run time (sec)')\n",
    "axs[0].get_legend().remove()\n",
    "plt.sca(axs[0])\n",
    "plt.xticks(rotation=90)\n",
    "plt.legend(bbox_to_anchor=(1.0, 1.0))\n",
    "\n",
    "sns.boxplot(x='Genome', y='Total time', data=Time,ax=axs[1],hue = 'VCF caller',palette=pallete_set)\n",
    "axs[1].set_xlabel('Mutated genomes') \n",
    "axs[1].set_ylabel('Total run time (sec)')\n",
    "axs[1].get_legend().remove()\n",
    "\n",
    "sns.scatterplot(x='sam size', y='Total time', data=Time2,\n",
    "            ax=axs[2],hue = 'VCF caller',palette=pallete_set)\n",
    "axs[2].set_xlabel('Sam file size (Mb)') \n",
    "axs[2].set_ylabel('Total run time (sec)')\n",
    "axs[2].get_legend().remove()\n",
    "plt.savefig('%s/Figure 1a.pdf'%(folder))\n",
    "\n",
    "fig, axs = plt.subplots(nrows=1,ncols = 1,figsize=(2, 8))\n",
    "sns.boxplot(x='VCF caller', y='Total time',notch = True,  data=Time,ax=axs,hue = 'VCF caller',dodge=False,palette=pallete_set)\n",
    "axs.set_xlabel('Variant identifier') \n",
    "axs.set_ylabel('Total run time (sec)')\n",
    "axs.get_legend().remove()\n",
    "plt.xticks(rotation=90)\n",
    "plt.savefig('%s/Figure 1b.pdf'%(folder),bbox_inches='tight')\n",
    "\n",
    "fig, axs = plt.subplots(nrows=1,ncols = 1,figsize=(3, 6))\n",
    "sns.boxplot(x='Tool VCF caller', y='Total time', notch = True, data=Time,ax=axs,hue = 'VCF caller',dodge=False,palette = pallete_set)\n",
    "axs.set_xlabel('Tool-Variant identifier') \n",
    "axs.set_ylabel('Total run time (sec)')\n",
    "plt.xticks(rotation=90)\n",
    "axs.get_legend().remove()\n",
    "plt.savefig('%s/Figure S4.pdf'%(folder),bbox_inches='tight')\n"
   ]
  },
  {
   "cell_type": "code",
   "execution_count": 8,
   "id": "779b3d97",
   "metadata": {},
   "outputs": [
    {
     "data": {
      "text/plain": [
       "<AxesSubplot:xlabel='Total time', ylabel='Count'>"
      ]
     },
     "execution_count": 8,
     "metadata": {},
     "output_type": "execute_result"
    },
    {
     "data": {
      "image/png": "[encoded data removed]",
      "text/plain": [
       "<Figure size 432x288 with 1 Axes>"
      ]
     },
     "metadata": {
      "needs_background": "light"
     },
     "output_type": "display_data"
    }
   ],
   "source": [
    "sns.histplot(data = Time[Time['VCF caller']=='QuickVariants'],x = 'Total time')"
   ]
  },
  {
   "cell_type": "code",
   "execution_count": 12,
   "id": "cdcfff87",
   "metadata": {},
   "outputs": [
    {
     "data": {
      "text/plain": [
       "<AxesSubplot:xlabel='Total time', ylabel='Count'>"
      ]
     },
     "execution_count": 12,
     "metadata": {},
     "output_type": "execute_result"
    },
    {
     "data": {
      "image/png": "[encoded data removed]",
      "text/plain": [
       "<Figure size 432x288 with 1 Axes>"
      ]
     },
     "metadata": {
      "needs_background": "light"
     },
     "output_type": "display_data"
    }
   ],
   "source": [
    "sns.histplot(data = Time[Time['VCF caller']=='QuickVariants'],x = 'Total time')"
   ]
  },
  {
   "cell_type": "code",
   "execution_count": 27,
   "id": "29f70ee1",
   "metadata": {},
   "outputs": [
    {
     "name": "stdout",
     "output_type": "stream",
     "text": [
      "Time [ 2.866  5.66  10.46 ] [ 19.378  52.03  122.37 ]\n",
      "[9.19257951]\n"
     ]
    }
   ],
   "source": [
    "#15 thread\n",
    "print('Time',np.quantile(Time.loc[Time['VCF caller']=='QuickVariants','Total time'],[0.05,0.5,0.95]),\n",
    " np.quantile(Time.loc[Time['VCF caller']=='bcftools','Total time'],[0.05,0.5,0.95]),\n",
    "     \n",
    "     )\n",
    "print(np.quantile(Time.loc[Time['VCF caller']=='bcftools','Total time'],[0.5])/\n",
    "     np.quantile(Time.loc[Time['VCF caller']=='QuickVariants','Total time'],[0.5]))"
   ]
  },
  {
   "cell_type": "code",
   "execution_count": 28,
   "id": "9a4fbcd9",
   "metadata": {},
   "outputs": [
    {
     "name": "stdout",
     "output_type": "stream",
     "text": [
      "KstestResult(statistic=1.0, pvalue=1.116847523521345e-307)\n"
     ]
    }
   ],
   "source": [
    "# 15 thread\n",
    "print(kstest(Time.loc[Time['VCF caller']=='QuickVariants','Total time'],\n",
    "      Time.loc[Time['VCF caller']=='bcftools','Total time'])\n",
    ")\n"
   ]
  },
  {
   "cell_type": "code",
   "execution_count": 9,
   "id": "c8231102",
   "metadata": {},
   "outputs": [
    {
     "name": "stdout",
     "output_type": "stream",
     "text": [
      "Time [11.466 22.29  41.006] [ 19.444  51.68  120.066]\n",
      "[2.31852849]\n"
     ]
    }
   ],
   "source": [
    "#1 thread\n",
    "print('Time',np.quantile(Time.loc[Time['VCF caller']=='QuickVariants','Total time'],[0.05,0.5,0.95]),\n",
    " np.quantile(Time.loc[Time['VCF caller']=='bcftools','Total time'],[0.05,0.5,0.95]),\n",
    "     \n",
    "     )\n",
    "print(np.quantile(Time.loc[Time['VCF caller']=='bcftools','Total time'],[0.5])/\n",
    "     np.quantile(Time.loc[Time['VCF caller']=='QuickVariants','Total time'],[0.5]))"
   ]
  },
  {
   "cell_type": "code",
   "execution_count": 10,
   "id": "a9c5834d",
   "metadata": {},
   "outputs": [
    {
     "name": "stdout",
     "output_type": "stream",
     "text": [
      "KstestResult(statistic=0.6413255360623782, pvalue=1.4359521046707863e-99)\n"
     ]
    }
   ],
   "source": [
    "# 1 thread\n",
    "print(kstest(Time.loc[Time['VCF caller']=='QuickVariants','Total time'],\n",
    "      Time.loc[Time['VCF caller']=='bcftools','Total time'])\n",
    ")"
   ]
  },
  {
   "cell_type": "code",
   "execution_count": 170,
   "id": "ff85028d",
   "metadata": {},
   "outputs": [
    {
     "name": "stdout",
     "output_type": "stream",
     "text": [
      "Time [ 5.28 10.42 17.9 ] [ 19.31  51.44 126.82]\n",
      "[4.93666027]\n"
     ]
    }
   ],
   "source": [
    "#30 thread\n",
    "print('Time',np.quantile(Time.loc[Time['VCF caller']=='VARIANTS','Total time'],[0.05,0.5,0.95]),\n",
    " np.quantile(Time.loc[Time['VCF caller']=='bcftools','Total time'],[0.05,0.5,0.95]),\n",
    "     \n",
    "     )\n",
    "print(np.quantile(Time.loc[Time['VCF caller']=='bcftools','Total time'],[0.5])/\n",
    "     np.quantile(Time.loc[Time['VCF caller']=='VARIANTS','Total time'],[0.5]))"
   ]
  },
  {
   "cell_type": "code",
   "execution_count": 458,
   "id": "395fc99e",
   "metadata": {},
   "outputs": [
    {
     "name": "stdout",
     "output_type": "stream",
     "text": [
      "Time [ 3.74   7.86  13.783] [ 5.388 11.585 22.07 ] [ 20.0395  53.215  123.153 ] [ 21.839   57.47   131.7845]\n",
      "7.110038884252765 6.577539905186333\n",
      "[6.77035623] [4.96072508] [0.92596137] [0.67846353]\n"
     ]
    }
   ],
   "source": [
    "#30 thread\n",
    "print('Time',np.quantile(Time.loc[Time['VCF caller']=='VARIANTS','Total time'],[0.05,0.5,0.95]),\n",
    " np.quantile(Time.loc[Time['VCF caller']=='bcftools','Total time'],[0.05,0.5,0.95]),\n",
    "     \n",
    "     )\n",
    "\n",
    "print(np.quantile(Time.loc[Time['VCF caller']=='bcftools','Total time'],[0.5])/\n",
    "     np.quantile(Time.loc[Time['VCF caller']=='VARIANTS','Total time'],[0.5]))"
   ]
  },
  {
   "cell_type": "code",
   "execution_count": 160,
   "id": "61d1c931",
   "metadata": {},
   "outputs": [
    {
     "name": "stdout",
     "output_type": "stream",
     "text": [
      "KstestResult(statistic=0.9629629629629629, pvalue=1.2643802290367717e-267)\n"
     ]
    }
   ],
   "source": [
    "# 30 thread\n",
    "print(kstest(Time.loc[Time['VCF caller']=='VARIANTS','Total time'],\n",
    "      Time.loc[Time['VCF caller']=='bcftools','Total time'])\n",
    ")\n"
   ]
  },
  {
   "cell_type": "code",
   "execution_count": 167,
   "id": "9d65915c",
   "metadata": {},
   "outputs": [],
   "source": [
    "### indel example\n",
    "from Bio import SeqIO\n",
    "allalignment = []\n",
    "readID_in = []\n",
    "for record in SeqIO.parse('samtovcf/indelsvcfervsbcftools/examplereads.aligned.fasta', 'fasta'):\n",
    "    readID = str(record.id)\n",
    "    readseq = str(record.seq)\n",
    "    if '_' not in readID:\n",
    "        if 'ref' in readID or int(readID)%2 == 0:\n",
    "            allalignment.append('>%s\\n%s\\n'%(readID,readseq))\n",
    "            readID_in.append(readID)\n",
    "    elif readID.split('_')[0] in['50','104','16','180','2','208','86']:\n",
    "        allalignment.append('>%s\\n%s\\n'%(readID,readseq))\n",
    "        readID_in.append(readID.split('_')[0])\n",
    "f1 = open('samtovcf/indelsvcfervsbcftools/examplereads.alignedshort.fasta','w')\n",
    "f1.write(''.join(allalignment))\n",
    "f1.close()\n"
   ]
  },
  {
   "cell_type": "code",
   "execution_count": 199,
   "id": "9cf2b297",
   "metadata": {},
   "outputs": [
    {
     "data": {
      "text/html": [
       "<div>\n",
       "<style scoped>\n",
       "    .dataframe tbody tr th:only-of-type {\n",
       "        vertical-align: middle;\n",
       "    }\n",
       "\n",
       "    .dataframe tbody tr th {\n",
       "        vertical-align: top;\n",
       "    }\n",
       "\n",
       "    .dataframe thead th {\n",
       "        text-align: right;\n",
       "    }\n",
       "</style>\n",
       "<table border=\"1\" class=\"dataframe\">\n",
       "  <thead>\n",
       "    <tr style=\"text-align: right;\">\n",
       "      <th></th>\n",
       "      <th>Tool</th>\n",
       "      <th>Value</th>\n",
       "      <th>No. reads</th>\n",
       "      <th>No. reads corrected</th>\n",
       "    </tr>\n",
       "  </thead>\n",
       "  <tbody>\n",
       "    <tr>\n",
       "      <th>1</th>\n",
       "      <td>bcftools default</td>\n",
       "      <td>Unreported</td>\n",
       "      <td>176</td>\n",
       "      <td>176</td>\n",
       "    </tr>\n",
       "    <tr>\n",
       "      <th>3</th>\n",
       "      <td>bcftools indels</td>\n",
       "      <td>Unreported</td>\n",
       "      <td>142</td>\n",
       "      <td>176</td>\n",
       "    </tr>\n",
       "    <tr>\n",
       "      <th>5</th>\n",
       "      <td>bcftools mul-ALT</td>\n",
       "      <td>Unreported</td>\n",
       "      <td>142</td>\n",
       "      <td>176</td>\n",
       "    </tr>\n",
       "    <tr>\n",
       "      <th>0</th>\n",
       "      <td>VCFer</td>\n",
       "      <td>Reported</td>\n",
       "      <td>176</td>\n",
       "      <td>176</td>\n",
       "    </tr>\n",
       "    <tr>\n",
       "      <th>2</th>\n",
       "      <td>bcftools indels</td>\n",
       "      <td>Reported</td>\n",
       "      <td>34</td>\n",
       "      <td>34</td>\n",
       "    </tr>\n",
       "    <tr>\n",
       "      <th>4</th>\n",
       "      <td>bcftools mul-ALT</td>\n",
       "      <td>Reported</td>\n",
       "      <td>34</td>\n",
       "      <td>34</td>\n",
       "    </tr>\n",
       "  </tbody>\n",
       "</table>\n",
       "</div>"
      ],
      "text/plain": [
       "               Tool       Value  No. reads  No. reads corrected\n",
       "1  bcftools default  Unreported        176                  176\n",
       "3   bcftools indels  Unreported        142                  176\n",
       "5  bcftools mul-ALT  Unreported        142                  176\n",
       "0             VCFer    Reported        176                  176\n",
       "2   bcftools indels    Reported         34                   34\n",
       "4  bcftools mul-ALT    Reported         34                   34"
      ]
     },
     "execution_count": 199,
     "metadata": {},
     "output_type": "execute_result"
    }
   ],
   "source": [
    "examplemapping = pd.read_csv('samtovcf/indelsvcfervsbcftools/examplereads.mapping.txt',sep='\\t')\n",
    "examplemappingall = examplemapping.loc[:,['readID','VCFer']]\n",
    "examplemappingall['Tool']='VARIANTS'\n",
    "examplemappingall['Value'] = [str(x).replace('True','Reported').replace('False','Unreported') for x in examplemappingall['VCFer']]\n",
    "examplemappingall = examplemappingall.loc[:,['readID','Tool','Value']]\n",
    "\n",
    "examplemappingsub = examplemapping.loc[:,['readID','bcftools (multi-alleles)']]\n",
    "examplemappingsub['Tool']='bcftools mul-ALT'\n",
    "examplemappingsub['Value'] = [str(x).replace('True','Reported').replace('False','Unreported') for x in examplemappingsub['bcftools (multi-alleles)']]\n",
    "examplemappingsub = examplemappingsub.loc[:,['readID','Tool','Value']]\n",
    "examplemappingall = examplemappingall.append(examplemappingsub)\n",
    "\n",
    "examplemappingsub = examplemapping.loc[:,['readID','bcftools (default)']]\n",
    "examplemappingsub['Tool']='bcftools default'\n",
    "examplemappingsub['Value'] = [str(x).replace('True','Reported').replace('False','Unreported') for x in examplemappingsub['bcftools (default)']]\n",
    "examplemappingsub = examplemappingsub.loc[:,['readID','Tool','Value']]\n",
    "examplemappingall = examplemappingall.append(examplemappingsub)\n",
    "\n",
    "examplemappingsub = examplemapping.loc[:,['readID','bcftools (indels)']]\n",
    "examplemappingsub['Tool']='bcftools indel'\n",
    "examplemappingsub['Value'] = [str(x).replace('True','Reported').replace('False','Unreported') for x in examplemappingsub['bcftools (indels)']]\n",
    "examplemappingsub = examplemappingsub.loc[:,['readID','Tool','Value']]\n",
    "examplemappingall = examplemappingall.append(examplemappingsub)\n",
    "\n",
    "examplemappingall = examplemappingall.sort_values('readID',ascending=False)\n",
    "examplesum = pd.DataFrame(examplemappingall.groupby(['Tool','Value'])['Value'].count()\n",
    ")\n",
    "examplesum.columns=['No. reads']\n",
    "examplesum.reset_index(inplace = True)\n",
    "examplesum['No. reads corrected'] = examplesum['No. reads']\n",
    "examplesum.loc[examplesum['Value']=='Unreported','No. reads corrected']=176\n",
    "examplesum = examplesum.sort_values('Value',ascending=False)\n",
    "examplesum"
   ]
  },
  {
   "cell_type": "code",
   "execution_count": 200,
   "id": "a93e4306",
   "metadata": {},
   "outputs": [
    {
     "data": {
      "text/html": [
       "<div>\n",
       "<style scoped>\n",
       "    .dataframe tbody tr th:only-of-type {\n",
       "        vertical-align: middle;\n",
       "    }\n",
       "\n",
       "    .dataframe tbody tr th {\n",
       "        vertical-align: top;\n",
       "    }\n",
       "\n",
       "    .dataframe thead th {\n",
       "        text-align: right;\n",
       "    }\n",
       "</style>\n",
       "<table border=\"1\" class=\"dataframe\">\n",
       "  <thead>\n",
       "    <tr style=\"text-align: right;\">\n",
       "      <th></th>\n",
       "      <th></th>\n",
       "      <th></th>\n",
       "      <th></th>\n",
       "      <th>VCFer</th>\n",
       "    </tr>\n",
       "    <tr>\n",
       "      <th>VCFer</th>\n",
       "      <th>bcftools (multi-alleles)</th>\n",
       "      <th>bcftools (default)</th>\n",
       "      <th>bcftools (indels)</th>\n",
       "      <th></th>\n",
       "    </tr>\n",
       "  </thead>\n",
       "  <tbody>\n",
       "    <tr>\n",
       "      <th rowspan=\"4\" valign=\"top\">True</th>\n",
       "      <th rowspan=\"2\" valign=\"top\">False</th>\n",
       "      <th rowspan=\"2\" valign=\"top\">False</th>\n",
       "      <th>False</th>\n",
       "      <td>141</td>\n",
       "    </tr>\n",
       "    <tr>\n",
       "      <th>True</th>\n",
       "      <td>1</td>\n",
       "    </tr>\n",
       "    <tr>\n",
       "      <th rowspan=\"2\" valign=\"top\">True</th>\n",
       "      <th rowspan=\"2\" valign=\"top\">False</th>\n",
       "      <th>False</th>\n",
       "      <td>1</td>\n",
       "    </tr>\n",
       "    <tr>\n",
       "      <th>True</th>\n",
       "      <td>33</td>\n",
       "    </tr>\n",
       "  </tbody>\n",
       "</table>\n",
       "</div>"
      ],
      "text/plain": [
       "                                                                     VCFer\n",
       "VCFer bcftools (multi-alleles) bcftools (default) bcftools (indels)       \n",
       "True  False                    False              False                141\n",
       "                                                  True                   1\n",
       "      True                     False              False                  1\n",
       "                                                  True                  33"
      ]
     },
     "execution_count": 200,
     "metadata": {},
     "output_type": "execute_result"
    }
   ],
   "source": [
    "pd.DataFrame(examplemapping.groupby(['VARIANTS','bcftools mul-ALT','bcftools default','bcftools indel'])['VCFer'].count()\n",
    ")"
   ]
  },
  {
   "cell_type": "code",
   "execution_count": 148,
   "id": "02e3044e",
   "metadata": {},
   "outputs": [
    {
     "data": {
      "image/png": "[encoded data removed]",
      "text/plain": [
       "<Figure size 216x216 with 1 Axes>"
      ]
     },
     "metadata": {
      "needs_background": "light"
     },
     "output_type": "display_data"
    }
   ],
   "source": [
    "fig, axs = plt.subplots(nrows=1,ncols = 1,figsize=(3, 3))\n",
    "sns.barplot(data = examplesum,\n",
    "                y='No. reads corrected',x='Tool',hue = 'Value',dodge = False, ax=axs,\n",
    "           palette={\n",
    "'Reported':'#ca0020','Unreported':'#404040','Incorrectly reported':'#0571b0'})\n",
    "\n",
    "axs.set_ylabel('No. reads') \n",
    "axs.set_xlabel('VCF builder')\n",
    "plt.legend(bbox_to_anchor=(1.0, 1.0),title='VCFer results')  \n",
    "plt.xticks(rotation=90)\n",
    "plt.savefig('samtovcf/indelsvcfervsbcftools/Example.pdf')\n"
   ]
  },
  {
   "cell_type": "code",
   "execution_count": 175,
   "id": "f2a7b93c",
   "metadata": {},
   "outputs": [
    {
     "data": {
      "text/html": [
       "<div>\n",
       "<style scoped>\n",
       "    .dataframe tbody tr th:only-of-type {\n",
       "        vertical-align: middle;\n",
       "    }\n",
       "\n",
       "    .dataframe tbody tr th {\n",
       "        vertical-align: top;\n",
       "    }\n",
       "\n",
       "    .dataframe thead th {\n",
       "        text-align: right;\n",
       "    }\n",
       "</style>\n",
       "<table border=\"1\" class=\"dataframe\">\n",
       "  <thead>\n",
       "    <tr style=\"text-align: right;\">\n",
       "      <th></th>\n",
       "      <th>readID</th>\n",
       "      <th>VCFer</th>\n",
       "      <th>bcftools (multi-alleles)</th>\n",
       "      <th>bcftools (default)</th>\n",
       "      <th>bcftools (indels)</th>\n",
       "    </tr>\n",
       "  </thead>\n",
       "  <tbody>\n",
       "    <tr>\n",
       "      <th>174</th>\n",
       "      <td>all</td>\n",
       "      <td>True</td>\n",
       "      <td>False</td>\n",
       "      <td>False</td>\n",
       "      <td>False</td>\n",
       "    </tr>\n",
       "    <tr>\n",
       "      <th>172</th>\n",
       "      <td>98</td>\n",
       "      <td>True</td>\n",
       "      <td>False</td>\n",
       "      <td>False</td>\n",
       "      <td>False</td>\n",
       "    </tr>\n",
       "    <tr>\n",
       "      <th>170</th>\n",
       "      <td>96</td>\n",
       "      <td>True</td>\n",
       "      <td>False</td>\n",
       "      <td>False</td>\n",
       "      <td>False</td>\n",
       "    </tr>\n",
       "    <tr>\n",
       "      <th>168</th>\n",
       "      <td>94</td>\n",
       "      <td>True</td>\n",
       "      <td>False</td>\n",
       "      <td>False</td>\n",
       "      <td>False</td>\n",
       "    </tr>\n",
       "    <tr>\n",
       "      <th>166</th>\n",
       "      <td>92</td>\n",
       "      <td>True</td>\n",
       "      <td>False</td>\n",
       "      <td>False</td>\n",
       "      <td>False</td>\n",
       "    </tr>\n",
       "  </tbody>\n",
       "</table>\n",
       "</div>"
      ],
      "text/plain": [
       "    readID  VCFer  bcftools (multi-alleles)  bcftools (default)  \\\n",
       "174    all   True                     False               False   \n",
       "172     98   True                     False               False   \n",
       "170     96   True                     False               False   \n",
       "168     94   True                     False               False   \n",
       "166     92   True                     False               False   \n",
       "\n",
       "     bcftools (indels)  \n",
       "174              False  \n",
       "172              False  \n",
       "170              False  \n",
       "168              False  \n",
       "166              False  "
      ]
     },
     "execution_count": 175,
     "metadata": {},
     "output_type": "execute_result"
    }
   ],
   "source": [
    "examplemapping = pd.read_csv('samtovcf/indelsvcfervsbcftools/examplereads.mapping.txt',sep='\\t')\n",
    "examplemapping = examplemapping[examplemapping['readID'].isin(readID_in + ['all'])]\n",
    "examplemapping = examplemapping.sort_values('readID',ascending=False)\n",
    "examplemapping = examplemapping[~examplemapping['readID'].str.contains('_')]\n",
    "examplemappingsub = examplemapping[examplemapping['readID'].isin(\n",
    "    ['50','104','16',  '108',                                        \n",
    "     '180','2','208','86'])]\n",
    "examplemapping = examplemapping[~examplemapping['readID'].isin(\n",
    "    ['50','104','108','130','134','140','16','164',\n",
    "                                                                  \n",
    "     '180','198','2','202','208','46','50','52','86','88'])]\n",
    "\n",
    "examplemappingsub['readID'] = examplemappingsub['readID'] + '_' + '1'\n",
    "examplemapping = examplemapping.append(examplemappingsub)\n",
    "examplemappingsub['readID'] = [x.replace('_1','_2') for x in examplemappingsub['readID']]\n",
    "examplemapping = examplemapping.append(examplemappingsub)\n",
    "examplemapping.head()"
   ]
  },
  {
   "cell_type": "code",
   "execution_count": 178,
   "id": "1f35aafc",
   "metadata": {},
   "outputs": [
    {
     "data": {
      "text/html": [
       "<div>\n",
       "<style scoped>\n",
       "    .dataframe tbody tr th:only-of-type {\n",
       "        vertical-align: middle;\n",
       "    }\n",
       "\n",
       "    .dataframe tbody tr th {\n",
       "        vertical-align: top;\n",
       "    }\n",
       "\n",
       "    .dataframe thead th {\n",
       "        text-align: right;\n",
       "    }\n",
       "</style>\n",
       "<table border=\"1\" class=\"dataframe\">\n",
       "  <thead>\n",
       "    <tr style=\"text-align: right;\">\n",
       "      <th></th>\n",
       "      <th></th>\n",
       "      <th></th>\n",
       "      <th></th>\n",
       "      <th>VCFer</th>\n",
       "    </tr>\n",
       "    <tr>\n",
       "      <th>VCFer</th>\n",
       "      <th>bcftools (multi-alleles)</th>\n",
       "      <th>bcftools (default)</th>\n",
       "      <th>bcftools (indels)</th>\n",
       "      <th></th>\n",
       "    </tr>\n",
       "  </thead>\n",
       "  <tbody>\n",
       "    <tr>\n",
       "      <th rowspan=\"4\" valign=\"top\">True</th>\n",
       "      <th rowspan=\"2\" valign=\"top\">False</th>\n",
       "      <th rowspan=\"2\" valign=\"top\">False</th>\n",
       "      <th>False</th>\n",
       "      <td>73</td>\n",
       "    </tr>\n",
       "    <tr>\n",
       "      <th>True</th>\n",
       "      <td>2</td>\n",
       "    </tr>\n",
       "    <tr>\n",
       "      <th rowspan=\"2\" valign=\"top\">True</th>\n",
       "      <th rowspan=\"2\" valign=\"top\">False</th>\n",
       "      <th>False</th>\n",
       "      <td>2</td>\n",
       "    </tr>\n",
       "    <tr>\n",
       "      <th>True</th>\n",
       "      <td>8</td>\n",
       "    </tr>\n",
       "  </tbody>\n",
       "</table>\n",
       "</div>"
      ],
      "text/plain": [
       "                                                                     VCFer\n",
       "VCFer bcftools (multi-alleles) bcftools (default) bcftools (indels)       \n",
       "True  False                    False              False                 73\n",
       "                                                  True                   2\n",
       "      True                     False              False                  2\n",
       "                                                  True                   8"
      ]
     },
     "execution_count": 178,
     "metadata": {},
     "output_type": "execute_result"
    }
   ],
   "source": [
    "pd.DataFrame(examplemapping.groupby(['VARIANTS','bcftools mul-ALT','bcftools default','bcftools indel'])['VCFer'].count()\n",
    ")"
   ]
  },
  {
   "cell_type": "code",
   "execution_count": 179,
   "id": "33fa24f4",
   "metadata": {},
   "outputs": [
    {
     "data": {
      "text/html": [
       "<div>\n",
       "<style scoped>\n",
       "    .dataframe tbody tr th:only-of-type {\n",
       "        vertical-align: middle;\n",
       "    }\n",
       "\n",
       "    .dataframe tbody tr th {\n",
       "        vertical-align: top;\n",
       "    }\n",
       "\n",
       "    .dataframe thead th {\n",
       "        text-align: right;\n",
       "    }\n",
       "</style>\n",
       "<table border=\"1\" class=\"dataframe\">\n",
       "  <thead>\n",
       "    <tr style=\"text-align: right;\">\n",
       "      <th></th>\n",
       "      <th>readID</th>\n",
       "      <th>Tool</th>\n",
       "      <th>Value</th>\n",
       "    </tr>\n",
       "  </thead>\n",
       "  <tbody>\n",
       "    <tr>\n",
       "      <th>172</th>\n",
       "      <td>98</td>\n",
       "      <td>VCFer</td>\n",
       "      <td>Reported</td>\n",
       "    </tr>\n",
       "    <tr>\n",
       "      <th>174</th>\n",
       "      <td>all</td>\n",
       "      <td>bcftools default</td>\n",
       "      <td>Unreported</td>\n",
       "    </tr>\n",
       "    <tr>\n",
       "      <th>174</th>\n",
       "      <td>all</td>\n",
       "      <td>bcftools mul-ALT</td>\n",
       "      <td>Unreported</td>\n",
       "    </tr>\n",
       "    <tr>\n",
       "      <th>174</th>\n",
       "      <td>all</td>\n",
       "      <td>bcftools indels</td>\n",
       "      <td>Unreported</td>\n",
       "    </tr>\n",
       "    <tr>\n",
       "      <th>174</th>\n",
       "      <td>all</td>\n",
       "      <td>VCFer</td>\n",
       "      <td>Reported</td>\n",
       "    </tr>\n",
       "  </tbody>\n",
       "</table>\n",
       "</div>"
      ],
      "text/plain": [
       "    readID              Tool       Value\n",
       "172     98             VCFer    Reported\n",
       "174    all  bcftools default  Unreported\n",
       "174    all  bcftools mul-ALT  Unreported\n",
       "174    all   bcftools indels  Unreported\n",
       "174    all             VCFer    Reported"
      ]
     },
     "execution_count": 179,
     "metadata": {},
     "output_type": "execute_result"
    }
   ],
   "source": [
    "examplemappingall = examplemapping.loc[:,['readID','VCFer']]\n",
    "examplemappingall['Tool']='VAIRNATS'\n",
    "examplemappingall['Value'] = [str(x).replace('True','Reported').replace('False','Unreported') for x in examplemappingall['VCFer']]\n",
    "examplemappingall = examplemappingall.loc[:,['readID','Tool','Value']]\n",
    "\n",
    "examplemappingsub = examplemapping.loc[:,['readID','bcftools (multi-alleles)']]\n",
    "examplemappingsub['Tool']='bcftools mul-ALT'\n",
    "examplemappingsub['Value'] = [str(x).replace('True','Reported').replace('False','Unreported') for x in examplemappingsub['bcftools (multi-alleles)']]\n",
    "examplemappingsub = examplemappingsub.loc[:,['readID','Tool','Value']]\n",
    "examplemappingall = examplemappingall.append(examplemappingsub)\n",
    "\n",
    "examplemappingsub = examplemapping.loc[:,['readID','bcftools (default)']]\n",
    "examplemappingsub['Tool']='bcftools default'\n",
    "examplemappingsub['Value'] = [str(x).replace('True','Reported').replace('False','Unreported') for x in examplemappingsub['bcftools (default)']]\n",
    "examplemappingsub = examplemappingsub.loc[:,['readID','Tool','Value']]\n",
    "examplemappingall = examplemappingall.append(examplemappingsub)\n",
    "\n",
    "examplemappingsub = examplemapping.loc[:,['readID','bcftools (indels)']]\n",
    "examplemappingsub['Tool']='bcftools indel'\n",
    "examplemappingsub['Value'] = [str(x).replace('True','Reported').replace('False','Unreported') for x in examplemappingsub['bcftools (indels)']]\n",
    "examplemappingsub = examplemappingsub.loc[:,['readID','Tool','Value']]\n",
    "examplemappingall = examplemappingall.append(examplemappingsub)\n",
    "\n",
    "examplemappingall = examplemappingall.sort_values('readID',ascending=True)\n",
    "examplemappingall.tail()\n"
   ]
  },
  {
   "cell_type": "code",
   "execution_count": 184,
   "id": "5036bb9a",
   "metadata": {},
   "outputs": [
    {
     "data": {
      "image/png": "[encoded data removed]",
      "text/plain": [
       "<Figure size 36x1296 with 1 Axes>"
      ]
     },
     "metadata": {
      "needs_background": "light"
     },
     "output_type": "display_data"
    }
   ],
   "source": [
    "fig, axs = plt.subplots(nrows=1,ncols = 1,figsize=(0.5, 18))\n",
    "sns.scatterplot(x='Tool', y='readID', hue = 'Value',data=examplemappingall,ax = axs,\n",
    "               palette={'Reported':'#ca0020','Unreported':'#404040','Incorrectly reported':'#0571b0'},\n",
    "                style='Value', markers={'Reported':'s','Unreported': 's', 'Incorrectly reported': 's'},\n",
    "                size = 'Value',sizes={'Reported':50,'Unreported': 50, 'Incorrectly reported': 50})\n",
    "axs.set_xlabel('VCF builder') \n",
    "axs.set_ylabel('Read ID')\n",
    "plt.xticks(rotation=90)\n",
    "plt.legend(bbox_to_anchor=(1.1, 1.0),title = 'Indel reported')\n",
    "plt.savefig('samtovcf/indelsvcfervsbcftools/readID.pdf')\n"
   ]
  },
  {
   "cell_type": "code",
   "execution_count": 182,
   "id": "8ebc519a",
   "metadata": {},
   "outputs": [
    {
     "data": {
      "text/html": [
       "<div>\n",
       "<style scoped>\n",
       "    .dataframe tbody tr th:only-of-type {\n",
       "        vertical-align: middle;\n",
       "    }\n",
       "\n",
       "    .dataframe tbody tr th {\n",
       "        vertical-align: top;\n",
       "    }\n",
       "\n",
       "    .dataframe thead th {\n",
       "        text-align: right;\n",
       "    }\n",
       "</style>\n",
       "<table border=\"1\" class=\"dataframe\">\n",
       "  <thead>\n",
       "    <tr style=\"text-align: right;\">\n",
       "      <th></th>\n",
       "      <th></th>\n",
       "      <th>Value</th>\n",
       "    </tr>\n",
       "    <tr>\n",
       "      <th>Tool</th>\n",
       "      <th>Value</th>\n",
       "      <th></th>\n",
       "    </tr>\n",
       "  </thead>\n",
       "  <tbody>\n",
       "    <tr>\n",
       "      <th>VCFer</th>\n",
       "      <th>Reported</th>\n",
       "      <td>84</td>\n",
       "    </tr>\n",
       "    <tr>\n",
       "      <th>bcftools default</th>\n",
       "      <th>Unreported</th>\n",
       "      <td>84</td>\n",
       "    </tr>\n",
       "    <tr>\n",
       "      <th rowspan=\"2\" valign=\"top\">bcftools indels</th>\n",
       "      <th>Reported</th>\n",
       "      <td>10</td>\n",
       "    </tr>\n",
       "    <tr>\n",
       "      <th>Unreported</th>\n",
       "      <td>74</td>\n",
       "    </tr>\n",
       "    <tr>\n",
       "      <th rowspan=\"2\" valign=\"top\">bcftools mul-ALT</th>\n",
       "      <th>Reported</th>\n",
       "      <td>10</td>\n",
       "    </tr>\n",
       "    <tr>\n",
       "      <th>Unreported</th>\n",
       "      <td>74</td>\n",
       "    </tr>\n",
       "  </tbody>\n",
       "</table>\n",
       "</div>"
      ],
      "text/plain": [
       "                             Value\n",
       "Tool             Value            \n",
       "VCFer            Reported       84\n",
       "bcftools default Unreported     84\n",
       "bcftools indels  Reported       10\n",
       "                 Unreported     74\n",
       "bcftools mul-ALT Reported       10\n",
       "                 Unreported     74"
      ]
     },
     "execution_count": 182,
     "metadata": {},
     "output_type": "execute_result"
    }
   ],
   "source": [
    "examplemappingall3 = examplemappingall[examplemappingall['readID']!='all']\n",
    "pd.DataFrame(examplemappingall3.groupby(['Tool','Value'])['Value'].count())"
   ]
  },
  {
   "cell_type": "code",
   "execution_count": null,
   "id": "08f99a92",
   "metadata": {},
   "outputs": [],
   "source": []
  },
  {
   "cell_type": "code",
   "execution_count": 299,
   "id": "0763ddea",
   "metadata": {},
   "outputs": [],
   "source": [
    "# compare to read dis to insertion\n",
    "from Bio import SeqIO\n",
    "allalignment = {}\n",
    "allpairedread = []\n",
    "for record in SeqIO.parse('samtovcf/indelsvcfervsbcftools/examplereads.aligned.fasta', 'fasta'):\n",
    "    allalignment.setdefault(str(record.id),str(record.seq))\n",
    "    if '_' in str(record.id):\n",
    "        allpairedread.append(str(record.id).split('_')[0])\n"
   ]
  },
  {
   "cell_type": "code",
   "execution_count": 300,
   "id": "7b9acb6a",
   "metadata": {},
   "outputs": [
    {
     "data": {
      "text/html": [
       "<div>\n",
       "<style scoped>\n",
       "    .dataframe tbody tr th:only-of-type {\n",
       "        vertical-align: middle;\n",
       "    }\n",
       "\n",
       "    .dataframe tbody tr th {\n",
       "        vertical-align: top;\n",
       "    }\n",
       "\n",
       "    .dataframe thead th {\n",
       "        text-align: right;\n",
       "    }\n",
       "</style>\n",
       "<table border=\"1\" class=\"dataframe\">\n",
       "  <thead>\n",
       "    <tr style=\"text-align: right;\">\n",
       "      <th></th>\n",
       "      <th>readID</th>\n",
       "      <th>Tool</th>\n",
       "      <th>Value</th>\n",
       "    </tr>\n",
       "  </thead>\n",
       "  <tbody>\n",
       "    <tr>\n",
       "      <th>172</th>\n",
       "      <td>98</td>\n",
       "      <td>bcftools mul-ALT</td>\n",
       "      <td>Unreported</td>\n",
       "    </tr>\n",
       "    <tr>\n",
       "      <th>173</th>\n",
       "      <td>99</td>\n",
       "      <td>VCFer</td>\n",
       "      <td>Reported</td>\n",
       "    </tr>\n",
       "    <tr>\n",
       "      <th>173</th>\n",
       "      <td>99</td>\n",
       "      <td>bcftools indels</td>\n",
       "      <td>Unreported</td>\n",
       "    </tr>\n",
       "    <tr>\n",
       "      <th>173</th>\n",
       "      <td>99</td>\n",
       "      <td>bcftools mul-ALT</td>\n",
       "      <td>Unreported</td>\n",
       "    </tr>\n",
       "    <tr>\n",
       "      <th>173</th>\n",
       "      <td>99</td>\n",
       "      <td>bcftools default</td>\n",
       "      <td>Unreported</td>\n",
       "    </tr>\n",
       "  </tbody>\n",
       "</table>\n",
       "</div>"
      ],
      "text/plain": [
       "    readID              Tool       Value\n",
       "172     98  bcftools mul-ALT  Unreported\n",
       "173     99             VCFer    Reported\n",
       "173     99   bcftools indels  Unreported\n",
       "173     99  bcftools mul-ALT  Unreported\n",
       "173     99  bcftools default  Unreported"
      ]
     },
     "execution_count": 300,
     "metadata": {},
     "output_type": "execute_result"
    }
   ],
   "source": [
    "examplemapping = pd.read_csv('samtovcf/indelsvcfervsbcftools/examplereads.mapping.txt',sep='\\t')\n",
    "examplemapping = examplemapping[~examplemapping['readID'].isin(['all','allsub'])]\n",
    "examplemappingsub = examplemapping[examplemapping['readID'].isin(\n",
    "    allpairedread)]\n",
    "examplemapping = examplemapping[~examplemapping['readID'].isin(\n",
    "    allpairedread)]\n",
    "\n",
    "examplemappingsub['readID'] = examplemappingsub['readID'] + '_' + '1'\n",
    "examplemapping = examplemapping.append(examplemappingsub)\n",
    "examplemappingsub['readID'] = [x.replace('_1','_2') for x in examplemappingsub['readID']]\n",
    "examplemapping = examplemapping.append(examplemappingsub)\n",
    "examplemappingall = examplemapping.loc[:,['readID','VCFer']]\n",
    "examplemappingall['Tool']='VARIANTS'\n",
    "examplemappingall['Value'] = [str(x).replace('True','Reported').replace('False','Unreported') for x in examplemappingall['VCFer']]\n",
    "examplemappingall = examplemappingall.loc[:,['readID','Tool','Value']]\n",
    "\n",
    "examplemappingsub = examplemapping.loc[:,['readID','bcftools (multi-alleles)']]\n",
    "examplemappingsub['Tool']='bcftools mul-ALT'\n",
    "examplemappingsub['Value'] = [str(x).replace('True','Reported').replace('False','Unreported') for x in examplemappingsub['bcftools (multi-alleles)']]\n",
    "examplemappingsub = examplemappingsub.loc[:,['readID','Tool','Value']]\n",
    "examplemappingall = examplemappingall.append(examplemappingsub)\n",
    "\n",
    "examplemappingsub = examplemapping.loc[:,['readID','bcftools (default)']]\n",
    "examplemappingsub['Tool']='bcftools default'\n",
    "examplemappingsub['Value'] = [str(x).replace('True','Reported').replace('False','Unreported') for x in examplemappingsub['bcftools (default)']]\n",
    "examplemappingsub = examplemappingsub.loc[:,['readID','Tool','Value']]\n",
    "examplemappingall = examplemappingall.append(examplemappingsub)\n",
    "\n",
    "examplemappingsub = examplemapping.loc[:,['readID','bcftools (indels)']]\n",
    "examplemappingsub['Tool']='bcftools indel'\n",
    "examplemappingsub['Value'] = [str(x).replace('True','Reported').replace('False','Unreported') for x in examplemappingsub['bcftools (indels)']]\n",
    "examplemappingsub = examplemappingsub.loc[:,['readID','Tool','Value']]\n",
    "examplemappingall = examplemappingall.append(examplemappingsub)\n",
    "\n",
    "examplemappingall = examplemappingall.sort_values('readID',ascending=True)\n",
    "examplemappingall.tail()\n"
   ]
  },
  {
   "cell_type": "code",
   "execution_count": 301,
   "id": "0f48bf86",
   "metadata": {},
   "outputs": [
    {
     "data": {
      "text/html": [
       "<div>\n",
       "<style scoped>\n",
       "    .dataframe tbody tr th:only-of-type {\n",
       "        vertical-align: middle;\n",
       "    }\n",
       "\n",
       "    .dataframe tbody tr th {\n",
       "        vertical-align: top;\n",
       "    }\n",
       "\n",
       "    .dataframe thead th {\n",
       "        text-align: right;\n",
       "    }\n",
       "</style>\n",
       "<table border=\"1\" class=\"dataframe\">\n",
       "  <thead>\n",
       "    <tr style=\"text-align: right;\">\n",
       "      <th></th>\n",
       "      <th></th>\n",
       "      <th>Value</th>\n",
       "    </tr>\n",
       "    <tr>\n",
       "      <th>Tool</th>\n",
       "      <th>Value</th>\n",
       "      <th></th>\n",
       "    </tr>\n",
       "  </thead>\n",
       "  <tbody>\n",
       "    <tr>\n",
       "      <th>VCFer</th>\n",
       "      <th>Reported</th>\n",
       "      <td>215</td>\n",
       "    </tr>\n",
       "    <tr>\n",
       "      <th>bcftools default</th>\n",
       "      <th>Unreported</th>\n",
       "      <td>215</td>\n",
       "    </tr>\n",
       "    <tr>\n",
       "      <th rowspan=\"2\" valign=\"top\">bcftools indels</th>\n",
       "      <th>Reported</th>\n",
       "      <td>68</td>\n",
       "    </tr>\n",
       "    <tr>\n",
       "      <th>Unreported</th>\n",
       "      <td>147</td>\n",
       "    </tr>\n",
       "    <tr>\n",
       "      <th rowspan=\"2\" valign=\"top\">bcftools mul-ALT</th>\n",
       "      <th>Reported</th>\n",
       "      <td>68</td>\n",
       "    </tr>\n",
       "    <tr>\n",
       "      <th>Unreported</th>\n",
       "      <td>147</td>\n",
       "    </tr>\n",
       "  </tbody>\n",
       "</table>\n",
       "</div>"
      ],
      "text/plain": [
       "                             Value\n",
       "Tool             Value            \n",
       "VCFer            Reported      215\n",
       "bcftools default Unreported    215\n",
       "bcftools indels  Reported       68\n",
       "                 Unreported    147\n",
       "bcftools mul-ALT Reported       68\n",
       "                 Unreported    147"
      ]
     },
     "execution_count": 301,
     "metadata": {},
     "output_type": "execute_result"
    }
   ],
   "source": [
    "pd.DataFrame(examplemappingall.groupby(['Tool','Value'])['Value'].count())"
   ]
  },
  {
   "cell_type": "code",
   "execution_count": 302,
   "id": "af73865c",
   "metadata": {},
   "outputs": [
    {
     "data": {
      "text/html": [
       "<div>\n",
       "<style scoped>\n",
       "    .dataframe tbody tr th:only-of-type {\n",
       "        vertical-align: middle;\n",
       "    }\n",
       "\n",
       "    .dataframe tbody tr th {\n",
       "        vertical-align: top;\n",
       "    }\n",
       "\n",
       "    .dataframe thead th {\n",
       "        text-align: right;\n",
       "    }\n",
       "</style>\n",
       "<table border=\"1\" class=\"dataframe\">\n",
       "  <thead>\n",
       "    <tr style=\"text-align: right;\">\n",
       "      <th></th>\n",
       "      <th>readID</th>\n",
       "      <th>Dis_insertion</th>\n",
       "    </tr>\n",
       "  </thead>\n",
       "  <tbody>\n",
       "    <tr>\n",
       "      <th>1</th>\n",
       "      <td>0</td>\n",
       "      <td>115</td>\n",
       "    </tr>\n",
       "    <tr>\n",
       "      <th>2</th>\n",
       "      <td>1</td>\n",
       "      <td>28</td>\n",
       "    </tr>\n",
       "    <tr>\n",
       "      <th>3</th>\n",
       "      <td>100</td>\n",
       "      <td>100</td>\n",
       "    </tr>\n",
       "    <tr>\n",
       "      <th>4</th>\n",
       "      <td>101</td>\n",
       "      <td>100</td>\n",
       "    </tr>\n",
       "    <tr>\n",
       "      <th>5</th>\n",
       "      <td>102</td>\n",
       "      <td>100</td>\n",
       "    </tr>\n",
       "    <tr>\n",
       "      <th>...</th>\n",
       "      <td>...</td>\n",
       "      <td>...</td>\n",
       "    </tr>\n",
       "    <tr>\n",
       "      <th>212</th>\n",
       "      <td>96</td>\n",
       "      <td>103</td>\n",
       "    </tr>\n",
       "    <tr>\n",
       "      <th>213</th>\n",
       "      <td>97</td>\n",
       "      <td>100</td>\n",
       "    </tr>\n",
       "    <tr>\n",
       "      <th>214</th>\n",
       "      <td>98</td>\n",
       "      <td>100</td>\n",
       "    </tr>\n",
       "    <tr>\n",
       "      <th>215</th>\n",
       "      <td>99</td>\n",
       "      <td>100</td>\n",
       "    </tr>\n",
       "    <tr>\n",
       "      <th>0</th>\n",
       "      <td>ref</td>\n",
       "      <td>200</td>\n",
       "    </tr>\n",
       "  </tbody>\n",
       "</table>\n",
       "<p>216 rows × 2 columns</p>\n",
       "</div>"
      ],
      "text/plain": [
       "    readID  Dis_insertion\n",
       "1        0            115\n",
       "2        1             28\n",
       "3      100            100\n",
       "4      101            100\n",
       "5      102            100\n",
       "..     ...            ...\n",
       "212     96            103\n",
       "213     97            100\n",
       "214     98            100\n",
       "215     99            100\n",
       "0      ref            200\n",
       "\n",
       "[216 rows x 2 columns]"
      ]
     },
     "execution_count": 302,
     "metadata": {},
     "output_type": "execute_result"
    }
   ],
   "source": [
    "def seq_dis_insertion(readseq):\n",
    "    startpos = min(readseq.index('a'),\n",
    "                  readseq.index('t'),\n",
    "                  readseq.index('g'),\n",
    "                  readseq.index('c'))\n",
    "    return insertion_POS - startpos\n",
    "insertion_POS = allalignment['ref'].index('-')\n",
    "allalignmentinsertionplace = pd.DataFrame(\n",
    "{\n",
    "    'readID' : allalignment.keys(),\n",
    "    'Dis_insertion' : 0\n",
    "}\n",
    ")\n",
    "for i in allalignmentinsertionplace.index:\n",
    "    readID = allalignmentinsertionplace.loc[i,'readID']\n",
    "    readseq = allalignment[readID]\n",
    "    allalignmentinsertionplace.loc[i,'Dis_insertion'] = seq_dis_insertion(readseq)\n",
    "allalignmentinsertionplace['readID'] = [x.replace('_1','_2').replace('_0','_1') for\n",
    "                                        x in allalignmentinsertionplace['readID']]\n",
    "allalignmentinsertionplace.sort_values('readID')\n"
   ]
  },
  {
   "cell_type": "code",
   "execution_count": 303,
   "id": "10ccb228",
   "metadata": {},
   "outputs": [
    {
     "data": {
      "text/html": [
       "<div>\n",
       "<style scoped>\n",
       "    .dataframe tbody tr th:only-of-type {\n",
       "        vertical-align: middle;\n",
       "    }\n",
       "\n",
       "    .dataframe tbody tr th {\n",
       "        vertical-align: top;\n",
       "    }\n",
       "\n",
       "    .dataframe thead th {\n",
       "        text-align: right;\n",
       "    }\n",
       "</style>\n",
       "<table border=\"1\" class=\"dataframe\">\n",
       "  <thead>\n",
       "    <tr style=\"text-align: right;\">\n",
       "      <th></th>\n",
       "      <th>readID</th>\n",
       "      <th>Tool</th>\n",
       "      <th>Value</th>\n",
       "      <th>Dis_insertion</th>\n",
       "    </tr>\n",
       "  </thead>\n",
       "  <tbody>\n",
       "    <tr>\n",
       "      <th>0</th>\n",
       "      <td>0</td>\n",
       "      <td>VCFer</td>\n",
       "      <td>Reported</td>\n",
       "      <td>115</td>\n",
       "    </tr>\n",
       "    <tr>\n",
       "      <th>1</th>\n",
       "      <td>0</td>\n",
       "      <td>bcftools mul-ALT</td>\n",
       "      <td>Unreported</td>\n",
       "      <td>115</td>\n",
       "    </tr>\n",
       "    <tr>\n",
       "      <th>2</th>\n",
       "      <td>0</td>\n",
       "      <td>bcftools default</td>\n",
       "      <td>Unreported</td>\n",
       "      <td>115</td>\n",
       "    </tr>\n",
       "    <tr>\n",
       "      <th>3</th>\n",
       "      <td>0</td>\n",
       "      <td>bcftools indels</td>\n",
       "      <td>Unreported</td>\n",
       "      <td>115</td>\n",
       "    </tr>\n",
       "    <tr>\n",
       "      <th>4</th>\n",
       "      <td>1</td>\n",
       "      <td>bcftools indels</td>\n",
       "      <td>Unreported</td>\n",
       "      <td>28</td>\n",
       "    </tr>\n",
       "    <tr>\n",
       "      <th>5</th>\n",
       "      <td>1</td>\n",
       "      <td>bcftools default</td>\n",
       "      <td>Unreported</td>\n",
       "      <td>28</td>\n",
       "    </tr>\n",
       "    <tr>\n",
       "      <th>6</th>\n",
       "      <td>1</td>\n",
       "      <td>VCFer</td>\n",
       "      <td>Reported</td>\n",
       "      <td>28</td>\n",
       "    </tr>\n",
       "    <tr>\n",
       "      <th>7</th>\n",
       "      <td>1</td>\n",
       "      <td>bcftools mul-ALT</td>\n",
       "      <td>Unreported</td>\n",
       "      <td>28</td>\n",
       "    </tr>\n",
       "    <tr>\n",
       "      <th>8</th>\n",
       "      <td>100</td>\n",
       "      <td>bcftools default</td>\n",
       "      <td>Unreported</td>\n",
       "      <td>100</td>\n",
       "    </tr>\n",
       "    <tr>\n",
       "      <th>9</th>\n",
       "      <td>100</td>\n",
       "      <td>bcftools indels</td>\n",
       "      <td>Unreported</td>\n",
       "      <td>100</td>\n",
       "    </tr>\n",
       "    <tr>\n",
       "      <th>10</th>\n",
       "      <td>100</td>\n",
       "      <td>VCFer</td>\n",
       "      <td>Reported</td>\n",
       "      <td>100</td>\n",
       "    </tr>\n",
       "    <tr>\n",
       "      <th>11</th>\n",
       "      <td>100</td>\n",
       "      <td>bcftools mul-ALT</td>\n",
       "      <td>Unreported</td>\n",
       "      <td>100</td>\n",
       "    </tr>\n",
       "    <tr>\n",
       "      <th>12</th>\n",
       "      <td>101</td>\n",
       "      <td>VCFer</td>\n",
       "      <td>Reported</td>\n",
       "      <td>100</td>\n",
       "    </tr>\n",
       "    <tr>\n",
       "      <th>13</th>\n",
       "      <td>101</td>\n",
       "      <td>bcftools default</td>\n",
       "      <td>Unreported</td>\n",
       "      <td>100</td>\n",
       "    </tr>\n",
       "    <tr>\n",
       "      <th>14</th>\n",
       "      <td>101</td>\n",
       "      <td>bcftools mul-ALT</td>\n",
       "      <td>Unreported</td>\n",
       "      <td>100</td>\n",
       "    </tr>\n",
       "    <tr>\n",
       "      <th>15</th>\n",
       "      <td>101</td>\n",
       "      <td>bcftools indels</td>\n",
       "      <td>Unreported</td>\n",
       "      <td>100</td>\n",
       "    </tr>\n",
       "    <tr>\n",
       "      <th>16</th>\n",
       "      <td>102</td>\n",
       "      <td>bcftools mul-ALT</td>\n",
       "      <td>Unreported</td>\n",
       "      <td>100</td>\n",
       "    </tr>\n",
       "    <tr>\n",
       "      <th>17</th>\n",
       "      <td>102</td>\n",
       "      <td>bcftools indels</td>\n",
       "      <td>Unreported</td>\n",
       "      <td>100</td>\n",
       "    </tr>\n",
       "    <tr>\n",
       "      <th>18</th>\n",
       "      <td>102</td>\n",
       "      <td>bcftools default</td>\n",
       "      <td>Unreported</td>\n",
       "      <td>100</td>\n",
       "    </tr>\n",
       "    <tr>\n",
       "      <th>19</th>\n",
       "      <td>102</td>\n",
       "      <td>VCFer</td>\n",
       "      <td>Reported</td>\n",
       "      <td>100</td>\n",
       "    </tr>\n",
       "    <tr>\n",
       "      <th>20</th>\n",
       "      <td>103_1</td>\n",
       "      <td>bcftools mul-ALT</td>\n",
       "      <td>Reported</td>\n",
       "      <td>100</td>\n",
       "    </tr>\n",
       "    <tr>\n",
       "      <th>21</th>\n",
       "      <td>103_1</td>\n",
       "      <td>bcftools indels</td>\n",
       "      <td>Reported</td>\n",
       "      <td>100</td>\n",
       "    </tr>\n",
       "    <tr>\n",
       "      <th>22</th>\n",
       "      <td>103_1</td>\n",
       "      <td>VCFer</td>\n",
       "      <td>Reported</td>\n",
       "      <td>100</td>\n",
       "    </tr>\n",
       "    <tr>\n",
       "      <th>23</th>\n",
       "      <td>103_1</td>\n",
       "      <td>bcftools default</td>\n",
       "      <td>Unreported</td>\n",
       "      <td>100</td>\n",
       "    </tr>\n",
       "    <tr>\n",
       "      <th>24</th>\n",
       "      <td>103_2</td>\n",
       "      <td>bcftools mul-ALT</td>\n",
       "      <td>Reported</td>\n",
       "      <td>47</td>\n",
       "    </tr>\n",
       "    <tr>\n",
       "      <th>25</th>\n",
       "      <td>103_2</td>\n",
       "      <td>bcftools indels</td>\n",
       "      <td>Reported</td>\n",
       "      <td>47</td>\n",
       "    </tr>\n",
       "    <tr>\n",
       "      <th>26</th>\n",
       "      <td>103_2</td>\n",
       "      <td>VCFer</td>\n",
       "      <td>Reported</td>\n",
       "      <td>47</td>\n",
       "    </tr>\n",
       "    <tr>\n",
       "      <th>27</th>\n",
       "      <td>103_2</td>\n",
       "      <td>bcftools default</td>\n",
       "      <td>Unreported</td>\n",
       "      <td>47</td>\n",
       "    </tr>\n",
       "    <tr>\n",
       "      <th>28</th>\n",
       "      <td>104_1</td>\n",
       "      <td>bcftools default</td>\n",
       "      <td>Unreported</td>\n",
       "      <td>100</td>\n",
       "    </tr>\n",
       "    <tr>\n",
       "      <th>29</th>\n",
       "      <td>104_1</td>\n",
       "      <td>bcftools indels</td>\n",
       "      <td>Reported</td>\n",
       "      <td>100</td>\n",
       "    </tr>\n",
       "  </tbody>\n",
       "</table>\n",
       "</div>"
      ],
      "text/plain": [
       "   readID              Tool       Value  Dis_insertion\n",
       "0       0             VCFer    Reported            115\n",
       "1       0  bcftools mul-ALT  Unreported            115\n",
       "2       0  bcftools default  Unreported            115\n",
       "3       0   bcftools indels  Unreported            115\n",
       "4       1   bcftools indels  Unreported             28\n",
       "5       1  bcftools default  Unreported             28\n",
       "6       1             VCFer    Reported             28\n",
       "7       1  bcftools mul-ALT  Unreported             28\n",
       "8     100  bcftools default  Unreported            100\n",
       "9     100   bcftools indels  Unreported            100\n",
       "10    100             VCFer    Reported            100\n",
       "11    100  bcftools mul-ALT  Unreported            100\n",
       "12    101             VCFer    Reported            100\n",
       "13    101  bcftools default  Unreported            100\n",
       "14    101  bcftools mul-ALT  Unreported            100\n",
       "15    101   bcftools indels  Unreported            100\n",
       "16    102  bcftools mul-ALT  Unreported            100\n",
       "17    102   bcftools indels  Unreported            100\n",
       "18    102  bcftools default  Unreported            100\n",
       "19    102             VCFer    Reported            100\n",
       "20  103_1  bcftools mul-ALT    Reported            100\n",
       "21  103_1   bcftools indels    Reported            100\n",
       "22  103_1             VCFer    Reported            100\n",
       "23  103_1  bcftools default  Unreported            100\n",
       "24  103_2  bcftools mul-ALT    Reported             47\n",
       "25  103_2   bcftools indels    Reported             47\n",
       "26  103_2             VCFer    Reported             47\n",
       "27  103_2  bcftools default  Unreported             47\n",
       "28  104_1  bcftools default  Unreported            100\n",
       "29  104_1   bcftools indels    Reported            100"
      ]
     },
     "execution_count": 303,
     "metadata": {},
     "output_type": "execute_result"
    }
   ],
   "source": [
    "examplemappingall2 = examplemappingall.merge(allalignmentinsertionplace,left_on = 'readID',right_on = 'readID',\n",
    "                                           how = 'left')\n",
    "examplemappingall2 = examplemappingall2[examplemappingall2['readID']!='all'][examplemappingall2['readID']!='allsub']\n",
    "examplemappingall2.head(30)"
   ]
  },
  {
   "cell_type": "code",
   "execution_count": 304,
   "id": "fd1eefa1",
   "metadata": {},
   "outputs": [
    {
     "name": "stderr",
     "output_type": "stream",
     "text": [
      "No handles with labels found to put in legend.\n",
      "No handles with labels found to put in legend.\n",
      "No handles with labels found to put in legend.\n"
     ]
    },
    {
     "data": {
      "image/png": "[encoded data removed]",
      "text/plain": [
       "<Figure size 216x432 with 3 Axes>"
      ]
     },
     "metadata": {
      "needs_background": "light"
     },
     "output_type": "display_data"
    }
   ],
   "source": [
    "fig, axs = plt.subplots(nrows=3,ncols = 1,figsize=(3, 6),sharex='row')\n",
    "sns.histplot(x='Dis_insertion', hue = 'Value',binwidth=10,\n",
    "             data=examplemappingall2[examplemappingall2['Tool']==\n",
    "                                                                                   'bcftools mul-ALT'],ax = axs[0],\n",
    "               palette={'Reported':'#ca0020','Unreported':'#404040','Incorrectly reported':'#0571b0'},element=\"step\")\n",
    "axs[0].set_xlabel('Distance to insertion') \n",
    "axs[0].set_ylabel('No. reads') \n",
    "sns.histplot(x='Dis_insertion', hue = 'Value',binwidth=10,\n",
    "             data=examplemappingall2[examplemappingall2['Tool']==\n",
    "                                                                                   'bcftools indel'],ax = axs[1],\n",
    "               palette={'Reported':'#ca0020','Unreported':'#404040','Incorrectly reported':'#0571b0'},element=\"step\")\n",
    "axs[1].set_xlabel('Distance to insertion (bp)') \n",
    "axs[1].set_ylabel('No. reads') \n",
    "sns.histplot(x='Dis_insertion', hue = 'Value',binwidth=10,\n",
    "             data=examplemappingall2[examplemappingall2['Tool']==\n",
    "                                                                                   'VARIANTS'],ax = axs[2],\n",
    "               palette={'Reported':'#ca0020','Unreported':'#404040','Incorrectly reported':'#0571b0'},element=\"step\")\n",
    "axs[2].set_xlabel('Distance to insertion') \n",
    "axs[2].set_ylabel('No. reads') \n",
    "plt.sca(axs[0])\n",
    "plt.legend(bbox_to_anchor=(1, 1.0))\n",
    "\n",
    "plt.sca(axs[1])\n",
    "plt.legend(bbox_to_anchor=(1, 1.0))\n",
    "plt.sca(axs[2])\n",
    "plt.legend(bbox_to_anchor=(1, 1.0))\n",
    "plt.savefig('samtovcf/indelsvcfervsbcftools/readID3.pdf')\n"
   ]
  },
  {
   "cell_type": "code",
   "execution_count": 60,
   "id": "d9d9768e",
   "metadata": {},
   "outputs": [
    {
     "data": {
      "text/html": [
       "<div>\n",
       "<style scoped>\n",
       "    .dataframe tbody tr th:only-of-type {\n",
       "        vertical-align: middle;\n",
       "    }\n",
       "\n",
       "    .dataframe tbody tr th {\n",
       "        vertical-align: top;\n",
       "    }\n",
       "\n",
       "    .dataframe thead th {\n",
       "        text-align: right;\n",
       "    }\n",
       "</style>\n",
       "<table border=\"1\" class=\"dataframe\">\n",
       "  <thead>\n",
       "    <tr style=\"text-align: right;\">\n",
       "      <th></th>\n",
       "      <th>readID</th>\n",
       "      <th>Tool</th>\n",
       "      <th>Value</th>\n",
       "      <th>Dis_pairreads</th>\n",
       "    </tr>\n",
       "  </thead>\n",
       "  <tbody>\n",
       "    <tr>\n",
       "      <th>0</th>\n",
       "      <td>0_1</td>\n",
       "      <td>VARIANTS</td>\n",
       "      <td>Reported</td>\n",
       "      <td>46</td>\n",
       "    </tr>\n",
       "    <tr>\n",
       "      <th>0</th>\n",
       "      <td>0_1</td>\n",
       "      <td>bcftools default</td>\n",
       "      <td>Unreported</td>\n",
       "      <td>46</td>\n",
       "    </tr>\n",
       "    <tr>\n",
       "      <th>0</th>\n",
       "      <td>0_1</td>\n",
       "      <td>bcftools indel</td>\n",
       "      <td>Unreported</td>\n",
       "      <td>46</td>\n",
       "    </tr>\n",
       "    <tr>\n",
       "      <th>0</th>\n",
       "      <td>0_1</td>\n",
       "      <td>bcftools mul-ALT</td>\n",
       "      <td>Unreported</td>\n",
       "      <td>46</td>\n",
       "    </tr>\n",
       "    <tr>\n",
       "      <th>2</th>\n",
       "      <td>100_1</td>\n",
       "      <td>bcftools default</td>\n",
       "      <td>Unreported</td>\n",
       "      <td>28</td>\n",
       "    </tr>\n",
       "  </tbody>\n",
       "</table>\n",
       "</div>"
      ],
      "text/plain": [
       "  readID              Tool       Value  Dis_pairreads\n",
       "0    0_1          VARIANTS    Reported             46\n",
       "0    0_1  bcftools default  Unreported             46\n",
       "0    0_1    bcftools indel  Unreported             46\n",
       "0    0_1  bcftools mul-ALT  Unreported             46\n",
       "2  100_1  bcftools default  Unreported             28"
      ]
     },
     "execution_count": 60,
     "metadata": {},
     "output_type": "execute_result"
    }
   ],
   "source": [
    "# compute distance between 2 reads\n",
    "examplemapping = pd.read_csv('samtovcf/indelsvcfervsbcftools/examplereads.mapping.txt',sep='\\t')\n",
    "examplemapping = examplemapping[~examplemapping['readID'].isin(['all','allsub'])]\n",
    "examplemapping['readID'] = examplemapping['readID'] + '_' + '1'\n",
    "# examplemappingsub = examplemapping[examplemapping['readID'].isin(examplemapping['readID'])]\n",
    "# examplemappingsub['readID'] = [x.replace('_1','_2') for x in examplemappingsub['readID']]\n",
    "# examplemapping = examplemapping.append(examplemappingsub)\n",
    "examplemappingall = examplemapping.loc[:,['readID','VCFer']]\n",
    "examplemappingall['Tool']='VARIANTS'\n",
    "examplemappingall['Value'] = [str(x).replace('True','Reported').replace('False','Unreported') for x in examplemappingall['VCFer']]\n",
    "examplemappingall = examplemappingall.loc[:,['readID','Tool','Value']]\n",
    "\n",
    "examplemappingsub = examplemapping.loc[:,['readID','bcftools (multi-alleles)']]\n",
    "examplemappingsub['Tool']='bcftools mul-ALT'\n",
    "examplemappingsub['Value'] = [str(x).replace('True','Reported').replace('False','Unreported') for x in examplemappingsub['bcftools (multi-alleles)']]\n",
    "examplemappingsub = examplemappingsub.loc[:,['readID','Tool','Value']]\n",
    "examplemappingall = examplemappingall.append(examplemappingsub)\n",
    "\n",
    "examplemappingsub = examplemapping.loc[:,['readID','bcftools (default)']]\n",
    "examplemappingsub['Tool']='bcftools default'\n",
    "examplemappingsub['Value'] = [str(x).replace('True','Reported').replace('False','Unreported') for x in examplemappingsub['bcftools (default)']]\n",
    "examplemappingsub = examplemappingsub.loc[:,['readID','Tool','Value']]\n",
    "examplemappingall = examplemappingall.append(examplemappingsub)\n",
    "\n",
    "examplemappingsub = examplemapping.loc[:,['readID','bcftools (indels)']]\n",
    "examplemappingsub['Tool']='bcftools indel'\n",
    "examplemappingsub['Value'] = [str(x).replace('True','Reported').replace('False','Unreported') for x in examplemappingsub['bcftools (indels)']]\n",
    "examplemappingsub = examplemappingsub.loc[:,['readID','Tool','Value']]\n",
    "examplemappingall = examplemappingall.append(examplemappingsub)\n",
    "\n",
    "examplemappingall = examplemappingall.sort_values('readID',ascending=True)\n",
    "\n",
    "def compute_dis(CHR1,POS1,read1_len,CHR2,POS2):\n",
    "    POS1 = int(POS1)\n",
    "    POS2 = int(POS2)\n",
    "    if CHR1 == CHR2:\n",
    "        return POS2-(POS1+read1_len)\n",
    "    else:\n",
    "        length1 = int(CHR1.split('size')[1])\n",
    "        length2 = int(CHR2.split('size')[1])\n",
    "        POS1 = min(abs(length1 - POS1),POS1 - 0)\n",
    "        POS2 = min(abs(length2 - POS2),POS2 - 0)\n",
    "        return POS1 + POS2 - read1_len\n",
    "    \n",
    "def compute_dis_sam(samfile):\n",
    "    sam = pd.read_csv(samfile,sep='\\t',header=None,comment = '@',usecols=[0,1,2,3,5, 9])\n",
    "    dis_pairs = compute_dis(sam.loc[0,2],sam.loc[0,3],len(sam.loc[0,9]),sam.loc[1,2],sam.loc[1,3])\n",
    "    return dis_pairs\n",
    "\n",
    "examplemappingall['Dis_pairreads'] = 0\n",
    "allsamfiles = glob.glob('samtovcf/indelsvcfervsbcftools/samfiles/*.sam')\n",
    "for samfile in allsamfiles:\n",
    "    readID = os.path.basename(samfile).split('.sam')[0] + '_1'\n",
    "    examplemappingall.loc[examplemappingall['readID']==readID,'Dis_pairreads'] = compute_dis_sam(samfile)\n",
    "examplemappingall.head()\n"
   ]
  },
  {
   "cell_type": "code",
   "execution_count": 61,
   "id": "cdcb42df",
   "metadata": {},
   "outputs": [
    {
     "data": {
      "text/html": [
       "<div>\n",
       "<style scoped>\n",
       "    .dataframe tbody tr th:only-of-type {\n",
       "        vertical-align: middle;\n",
       "    }\n",
       "\n",
       "    .dataframe tbody tr th {\n",
       "        vertical-align: top;\n",
       "    }\n",
       "\n",
       "    .dataframe thead th {\n",
       "        text-align: right;\n",
       "    }\n",
       "</style>\n",
       "<table border=\"1\" class=\"dataframe\">\n",
       "  <thead>\n",
       "    <tr style=\"text-align: right;\">\n",
       "      <th></th>\n",
       "      <th>readID</th>\n",
       "      <th>Tool</th>\n",
       "      <th>Value</th>\n",
       "      <th>Dis_pairreads</th>\n",
       "    </tr>\n",
       "  </thead>\n",
       "  <tbody>\n",
       "    <tr>\n",
       "      <th>0</th>\n",
       "      <td>0_1</td>\n",
       "      <td>VARIANTS</td>\n",
       "      <td>Reported</td>\n",
       "      <td>46</td>\n",
       "    </tr>\n",
       "    <tr>\n",
       "      <th>0</th>\n",
       "      <td>0_1</td>\n",
       "      <td>bcftools default</td>\n",
       "      <td>Unreported</td>\n",
       "      <td>46</td>\n",
       "    </tr>\n",
       "    <tr>\n",
       "      <th>0</th>\n",
       "      <td>0_1</td>\n",
       "      <td>bcftools indel</td>\n",
       "      <td>Unreported</td>\n",
       "      <td>46</td>\n",
       "    </tr>\n",
       "    <tr>\n",
       "      <th>0</th>\n",
       "      <td>0_1</td>\n",
       "      <td>bcftools mul-ALT</td>\n",
       "      <td>Unreported</td>\n",
       "      <td>46</td>\n",
       "    </tr>\n",
       "    <tr>\n",
       "      <th>2</th>\n",
       "      <td>100_1</td>\n",
       "      <td>bcftools default</td>\n",
       "      <td>Unreported</td>\n",
       "      <td>28</td>\n",
       "    </tr>\n",
       "    <tr>\n",
       "      <th>2</th>\n",
       "      <td>100_1</td>\n",
       "      <td>bcftools indel</td>\n",
       "      <td>Unreported</td>\n",
       "      <td>28</td>\n",
       "    </tr>\n",
       "    <tr>\n",
       "      <th>2</th>\n",
       "      <td>100_1</td>\n",
       "      <td>bcftools mul-ALT</td>\n",
       "      <td>Unreported</td>\n",
       "      <td>28</td>\n",
       "    </tr>\n",
       "    <tr>\n",
       "      <th>2</th>\n",
       "      <td>100_1</td>\n",
       "      <td>VARIANTS</td>\n",
       "      <td>Reported</td>\n",
       "      <td>28</td>\n",
       "    </tr>\n",
       "    <tr>\n",
       "      <th>3</th>\n",
       "      <td>101_1</td>\n",
       "      <td>bcftools mul-ALT</td>\n",
       "      <td>Unreported</td>\n",
       "      <td>-60</td>\n",
       "    </tr>\n",
       "    <tr>\n",
       "      <th>3</th>\n",
       "      <td>101_1</td>\n",
       "      <td>bcftools default</td>\n",
       "      <td>Unreported</td>\n",
       "      <td>-60</td>\n",
       "    </tr>\n",
       "    <tr>\n",
       "      <th>3</th>\n",
       "      <td>101_1</td>\n",
       "      <td>VARIANTS</td>\n",
       "      <td>Reported</td>\n",
       "      <td>-60</td>\n",
       "    </tr>\n",
       "    <tr>\n",
       "      <th>3</th>\n",
       "      <td>101_1</td>\n",
       "      <td>bcftools indel</td>\n",
       "      <td>Unreported</td>\n",
       "      <td>-60</td>\n",
       "    </tr>\n",
       "    <tr>\n",
       "      <th>4</th>\n",
       "      <td>102_1</td>\n",
       "      <td>bcftools default</td>\n",
       "      <td>Unreported</td>\n",
       "      <td>76</td>\n",
       "    </tr>\n",
       "    <tr>\n",
       "      <th>4</th>\n",
       "      <td>102_1</td>\n",
       "      <td>bcftools mul-ALT</td>\n",
       "      <td>Unreported</td>\n",
       "      <td>76</td>\n",
       "    </tr>\n",
       "    <tr>\n",
       "      <th>4</th>\n",
       "      <td>102_1</td>\n",
       "      <td>VARIANTS</td>\n",
       "      <td>Reported</td>\n",
       "      <td>76</td>\n",
       "    </tr>\n",
       "    <tr>\n",
       "      <th>4</th>\n",
       "      <td>102_1</td>\n",
       "      <td>bcftools indel</td>\n",
       "      <td>Unreported</td>\n",
       "      <td>76</td>\n",
       "    </tr>\n",
       "    <tr>\n",
       "      <th>5</th>\n",
       "      <td>103_1</td>\n",
       "      <td>bcftools default</td>\n",
       "      <td>Unreported</td>\n",
       "      <td>-97</td>\n",
       "    </tr>\n",
       "    <tr>\n",
       "      <th>5</th>\n",
       "      <td>103_1</td>\n",
       "      <td>VARIANTS</td>\n",
       "      <td>Reported</td>\n",
       "      <td>-97</td>\n",
       "    </tr>\n",
       "    <tr>\n",
       "      <th>5</th>\n",
       "      <td>103_1</td>\n",
       "      <td>bcftools indel</td>\n",
       "      <td>Reported</td>\n",
       "      <td>-97</td>\n",
       "    </tr>\n",
       "    <tr>\n",
       "      <th>5</th>\n",
       "      <td>103_1</td>\n",
       "      <td>bcftools mul-ALT</td>\n",
       "      <td>Reported</td>\n",
       "      <td>-97</td>\n",
       "    </tr>\n",
       "    <tr>\n",
       "      <th>6</th>\n",
       "      <td>104_1</td>\n",
       "      <td>bcftools default</td>\n",
       "      <td>Unreported</td>\n",
       "      <td>-137</td>\n",
       "    </tr>\n",
       "    <tr>\n",
       "      <th>6</th>\n",
       "      <td>104_1</td>\n",
       "      <td>bcftools indel</td>\n",
       "      <td>Reported</td>\n",
       "      <td>-137</td>\n",
       "    </tr>\n",
       "    <tr>\n",
       "      <th>6</th>\n",
       "      <td>104_1</td>\n",
       "      <td>VARIANTS</td>\n",
       "      <td>Reported</td>\n",
       "      <td>-137</td>\n",
       "    </tr>\n",
       "    <tr>\n",
       "      <th>6</th>\n",
       "      <td>104_1</td>\n",
       "      <td>bcftools mul-ALT</td>\n",
       "      <td>Reported</td>\n",
       "      <td>-137</td>\n",
       "    </tr>\n",
       "    <tr>\n",
       "      <th>7</th>\n",
       "      <td>106_1</td>\n",
       "      <td>VARIANTS</td>\n",
       "      <td>Reported</td>\n",
       "      <td>-60</td>\n",
       "    </tr>\n",
       "    <tr>\n",
       "      <th>7</th>\n",
       "      <td>106_1</td>\n",
       "      <td>bcftools indel</td>\n",
       "      <td>Unreported</td>\n",
       "      <td>-60</td>\n",
       "    </tr>\n",
       "    <tr>\n",
       "      <th>7</th>\n",
       "      <td>106_1</td>\n",
       "      <td>bcftools default</td>\n",
       "      <td>Unreported</td>\n",
       "      <td>-60</td>\n",
       "    </tr>\n",
       "    <tr>\n",
       "      <th>7</th>\n",
       "      <td>106_1</td>\n",
       "      <td>bcftools mul-ALT</td>\n",
       "      <td>Unreported</td>\n",
       "      <td>-60</td>\n",
       "    </tr>\n",
       "    <tr>\n",
       "      <th>8</th>\n",
       "      <td>107_1</td>\n",
       "      <td>bcftools indel</td>\n",
       "      <td>Reported</td>\n",
       "      <td>-89</td>\n",
       "    </tr>\n",
       "    <tr>\n",
       "      <th>8</th>\n",
       "      <td>107_1</td>\n",
       "      <td>bcftools mul-ALT</td>\n",
       "      <td>Reported</td>\n",
       "      <td>-89</td>\n",
       "    </tr>\n",
       "  </tbody>\n",
       "</table>\n",
       "</div>"
      ],
      "text/plain": [
       "  readID              Tool       Value  Dis_pairreads\n",
       "0    0_1          VARIANTS    Reported             46\n",
       "0    0_1  bcftools default  Unreported             46\n",
       "0    0_1    bcftools indel  Unreported             46\n",
       "0    0_1  bcftools mul-ALT  Unreported             46\n",
       "2  100_1  bcftools default  Unreported             28\n",
       "2  100_1    bcftools indel  Unreported             28\n",
       "2  100_1  bcftools mul-ALT  Unreported             28\n",
       "2  100_1          VARIANTS    Reported             28\n",
       "3  101_1  bcftools mul-ALT  Unreported            -60\n",
       "3  101_1  bcftools default  Unreported            -60\n",
       "3  101_1          VARIANTS    Reported            -60\n",
       "3  101_1    bcftools indel  Unreported            -60\n",
       "4  102_1  bcftools default  Unreported             76\n",
       "4  102_1  bcftools mul-ALT  Unreported             76\n",
       "4  102_1          VARIANTS    Reported             76\n",
       "4  102_1    bcftools indel  Unreported             76\n",
       "5  103_1  bcftools default  Unreported            -97\n",
       "5  103_1          VARIANTS    Reported            -97\n",
       "5  103_1    bcftools indel    Reported            -97\n",
       "5  103_1  bcftools mul-ALT    Reported            -97\n",
       "6  104_1  bcftools default  Unreported           -137\n",
       "6  104_1    bcftools indel    Reported           -137\n",
       "6  104_1          VARIANTS    Reported           -137\n",
       "6  104_1  bcftools mul-ALT    Reported           -137\n",
       "7  106_1          VARIANTS    Reported            -60\n",
       "7  106_1    bcftools indel  Unreported            -60\n",
       "7  106_1  bcftools default  Unreported            -60\n",
       "7  106_1  bcftools mul-ALT  Unreported            -60\n",
       "8  107_1    bcftools indel    Reported            -89\n",
       "8  107_1  bcftools mul-ALT    Reported            -89"
      ]
     },
     "execution_count": 61,
     "metadata": {},
     "output_type": "execute_result"
    }
   ],
   "source": [
    "examplemappingall.head(30)"
   ]
  },
  {
   "cell_type": "code",
   "execution_count": 64,
   "id": "3a6fb98b",
   "metadata": {},
   "outputs": [
    {
     "name": "stderr",
     "output_type": "stream",
     "text": [
      "No handles with labels found to put in legend.\n",
      "No handles with labels found to put in legend.\n",
      "No handles with labels found to put in legend.\n"
     ]
    },
    {
     "data": {
      "image/png": "[encoded data removed]",
      "text/plain": [
       "<Figure size 576x288 with 3 Axes>"
      ]
     },
     "metadata": {
      "needs_background": "light"
     },
     "output_type": "display_data"
    }
   ],
   "source": [
    "fig, axs = plt.subplots(nrows=3,ncols = 1,figsize=(8, 4),sharex='col')\n",
    "sns.histplot(x='Dis_pairreads', hue = 'Value',binwidth=20,\n",
    "             data=examplemappingall[examplemappingall['Tool']==\n",
    "                                                                                   'bcftools mul-ALT'],ax = axs[0],\n",
    "               palette={'Reported':'#ca0020','Unreported':'#404040','Incorrectly reported':'#0571b0'},element=\"step\")\n",
    "axs[0].set_xlabel('Distance between pair-end reads') \n",
    "axs[0].set_ylabel('No. reads') \n",
    "sns.histplot(x='Dis_pairreads', hue = 'Value',binwidth=20,\n",
    "             data=examplemappingall[examplemappingall['Tool']==\n",
    "                                                                                   'bcftools indel'],ax = axs[1],\n",
    "               palette={'Reported':'#ca0020','Unreported':'#404040','Incorrectly reported':'#0571b0'},element=\"step\")\n",
    "axs[1].set_xlabel('Distance between pair-end reads') \n",
    "axs[1].set_ylabel('No. reads') \n",
    "sns.histplot(x='Dis_pairreads', hue = 'Value',binwidth=20,\n",
    "             data=examplemappingall[examplemappingall['Tool']==\n",
    "                                                                                   'VARIANTS'],ax = axs[2],\n",
    "               palette={'Reported':'#ca0020','Unreported':'#404040','Incorrectly reported':'#0571b0'},element=\"step\")\n",
    "axs[2].set_xlabel('Inner distance between paired-end reads') \n",
    "axs[2].set_ylabel('No. reads') \n",
    "plt.sca(axs[0])\n",
    "plt.legend(bbox_to_anchor=(1, 1.0))\n",
    "\n",
    "plt.sca(axs[1])\n",
    "plt.legend(bbox_to_anchor=(1, 1.0))\n",
    "plt.sca(axs[2])\n",
    "plt.legend(bbox_to_anchor=(1, 1.0))\n",
    "plt.savefig('samtovcf/indelsvcfervsbcftools/readID4.pdf')\n"
   ]
  },
  {
   "cell_type": "code",
   "execution_count": 4,
   "id": "4259fff1",
   "metadata": {},
   "outputs": [
    {
     "name": "stdout",
     "output_type": "stream",
     "text": [
      "samtovcf/examplecovid//samfiles/15.sam 139\n",
      "samtovcf/examplecovid//samfiles/29.sam 248\n",
      "samtovcf/examplecovid//samfiles/28.sam 243\n",
      "samtovcf/examplecovid//samfiles/14.sam 139\n",
      "samtovcf/examplecovid//samfiles/16.sam 71\n",
      "samtovcf/examplecovid//samfiles/17.sam 250\n",
      "samtovcf/examplecovid//samfiles/13.sam 139\n",
      "samtovcf/examplecovid//samfiles/12.sam 139\n",
      "samtovcf/examplecovid//samfiles/38.sam 166\n",
      "samtovcf/examplecovid//samfiles/10.sam 140\n",
      "samtovcf/examplecovid//samfiles/11.sam 254\n",
      "samtovcf/examplecovid//samfiles/39.sam 198\n",
      "samtovcf/examplecovid//samfiles/9.sam 287\n",
      "samtovcf/examplecovid//samfiles/8.sam 145\n",
      "samtovcf/examplecovid//samfiles/5.sam 25\n",
      "samtovcf/examplecovid//samfiles/4.sam 25\n",
      "samtovcf/examplecovid//samfiles/40.sam 423\n",
      "samtovcf/examplecovid//samfiles/6.sam 145\n",
      "samtovcf/examplecovid//samfiles/7.sam 145\n",
      "samtovcf/examplecovid//samfiles/3.sam 497\n",
      "samtovcf/examplecovid//samfiles/2.sam 53\n",
      "samtovcf/examplecovid//samfiles/0.sam 119\n",
      "samtovcf/examplecovid//samfiles/1.sam 119\n",
      "samtovcf/examplecovid//samfiles/34.sam 285\n",
      "samtovcf/examplecovid//samfiles/20.sam 226\n",
      "samtovcf/examplecovid//samfiles/21.sam 102\n",
      "samtovcf/examplecovid//samfiles/35.sam 136\n",
      "samtovcf/examplecovid//samfiles/23.sam 107\n",
      "samtovcf/examplecovid//samfiles/37.sam 282\n",
      "samtovcf/examplecovid//samfiles/36.sam 283\n",
      "samtovcf/examplecovid//samfiles/22.sam 249\n",
      "samtovcf/examplecovid//samfiles/26.sam 0\n",
      "samtovcf/examplecovid//samfiles/32.sam 208\n",
      "samtovcf/examplecovid//samfiles/33.sam 208\n",
      "samtovcf/examplecovid//samfiles/27.sam 243\n",
      "samtovcf/examplecovid//samfiles/19.sam 0\n",
      "samtovcf/examplecovid//samfiles/31.sam 248\n",
      "samtovcf/examplecovid//samfiles/25.sam 106\n",
      "samtovcf/examplecovid//samfiles/24.sam 107\n",
      "samtovcf/examplecovid//samfiles/30.sam 248\n",
      "samtovcf/examplecovid//samfiles/18.sam 3\n"
     ]
    }
   ],
   "source": [
    "# covid 9452\n",
    "def compute_dis(CHR1,POS1,CHR2,POS2):\n",
    "    POS1 = int(POS1)\n",
    "    POS2 = int(POS2)\n",
    "    if CHR1 == CHR2:\n",
    "        return abs(POS1 - POS2)\n",
    "    else:\n",
    "        length1 = int(CHR1.split('size')[1])\n",
    "        length2 = int(CHR2.split('size')[1])\n",
    "        POS1 = min(abs(length1 - POS1),POS1 - 0)\n",
    "        POS2 = min(abs(length2 - POS2),POS2 - 0)\n",
    "        return POS1 + POS2\n",
    "    \n",
    "def compute_dis_sam(samfile):\n",
    "    sam = pd.read_csv(samfile,sep='\\t',header=None,comment = '@',usecols=[0,1,2,3,5, 9])\n",
    "    dis_pairs = compute_dis(sam.loc[0,2],sam.loc[0,3],sam.loc[1,2],sam.loc[1,3])\n",
    "    return dis_pairs\n",
    "\n",
    "allsamfiles = glob.glob('samtovcf/examplecovid//samfiles/*.sam')\n",
    "for samfile in allsamfiles:\n",
    "    readID = os.path.basename(samfile).split('.sam')[0] + '_1'\n",
    "    print(samfile,compute_dis_sam(samfile))\n"
   ]
  },
  {
   "cell_type": "code",
   "execution_count": 27,
   "id": "69ac9d6f",
   "metadata": {},
   "outputs": [
    {
     "data": {
      "text/html": [
       "<div>\n",
       "<style scoped>\n",
       "    .dataframe tbody tr th:only-of-type {\n",
       "        vertical-align: middle;\n",
       "    }\n",
       "\n",
       "    .dataframe tbody tr th {\n",
       "        vertical-align: top;\n",
       "    }\n",
       "\n",
       "    .dataframe thead th {\n",
       "        text-align: right;\n",
       "    }\n",
       "</style>\n",
       "<table border=\"1\" class=\"dataframe\">\n",
       "  <thead>\n",
       "    <tr style=\"text-align: right;\">\n",
       "      <th></th>\n",
       "      <th>POS</th>\n",
       "      <th>DP</th>\n",
       "    </tr>\n",
       "  </thead>\n",
       "  <tbody>\n",
       "    <tr>\n",
       "      <th>0</th>\n",
       "      <td>36202</td>\n",
       "      <td>100</td>\n",
       "    </tr>\n",
       "    <tr>\n",
       "      <th>1</th>\n",
       "      <td>36203</td>\n",
       "      <td>102</td>\n",
       "    </tr>\n",
       "    <tr>\n",
       "      <th>2</th>\n",
       "      <td>36204</td>\n",
       "      <td>107</td>\n",
       "    </tr>\n",
       "    <tr>\n",
       "      <th>3</th>\n",
       "      <td>36205</td>\n",
       "      <td>107</td>\n",
       "    </tr>\n",
       "    <tr>\n",
       "      <th>4</th>\n",
       "      <td>36206</td>\n",
       "      <td>107</td>\n",
       "    </tr>\n",
       "  </tbody>\n",
       "</table>\n",
       "</div>"
      ],
      "text/plain": [
       "     POS   DP\n",
       "0  36202  100\n",
       "1  36203  102\n",
       "2  36204  107\n",
       "3  36205  107\n",
       "4  36206  107"
      ]
     },
     "execution_count": 27,
     "metadata": {},
     "output_type": "execute_result"
    }
   ],
   "source": [
    "# exampleSNP depth\n",
    "targetPOS = 36222\n",
    "DP_indel = pd.read_csv('samtovcf/exampleSNP/DP_indel.txt',sep='\\t',\n",
    "                      comment = '#')\n",
    "DP_default = pd.read_csv('samtovcf/exampleSNP/DP_default.txt',sep='\\t',\n",
    "                      comment = '#')\n",
    "DP_bcf = pd.read_csv('samtovcf/exampleSNP/DP_bcf.txt',sep='\\t',\n",
    "                      comment = '#')\n",
    "DP_indel.head()"
   ]
  },
  {
   "cell_type": "code",
   "execution_count": 28,
   "id": "7210a250",
   "metadata": {},
   "outputs": [
    {
     "data": {
      "text/html": [
       "<div>\n",
       "<style scoped>\n",
       "    .dataframe tbody tr th:only-of-type {\n",
       "        vertical-align: middle;\n",
       "    }\n",
       "\n",
       "    .dataframe tbody tr th {\n",
       "        vertical-align: top;\n",
       "    }\n",
       "\n",
       "    .dataframe thead th {\n",
       "        text-align: right;\n",
       "    }\n",
       "</style>\n",
       "<table border=\"1\" class=\"dataframe\">\n",
       "  <thead>\n",
       "    <tr style=\"text-align: right;\">\n",
       "      <th></th>\n",
       "      <th>CHR</th>\n",
       "      <th>POS</th>\n",
       "      <th>REF</th>\n",
       "      <th>ALT</th>\n",
       "      <th>DP</th>\n",
       "      <th>DETAILS-MIDDLE</th>\n",
       "      <th>DETAILS-ENDS</th>\n",
       "      <th>SUPPORT</th>\n",
       "    </tr>\n",
       "  </thead>\n",
       "  <tbody>\n",
       "    <tr>\n",
       "      <th>498</th>\n",
       "      <td>NODE_12_length_206813_cov_40.160886</td>\n",
       "      <td>36202</td>\n",
       "      <td>A</td>\n",
       "      <td>NaN</td>\n",
       "      <td>100</td>\n",
       "      <td>63,24.5</td>\n",
       "      <td>6.5,6</td>\n",
       "      <td>NaN</td>\n",
       "    </tr>\n",
       "    <tr>\n",
       "      <th>499</th>\n",
       "      <td>NODE_12_length_206813_cov_40.160886</td>\n",
       "      <td>36203</td>\n",
       "      <td>T</td>\n",
       "      <td>NaN</td>\n",
       "      <td>102</td>\n",
       "      <td>63,24.5</td>\n",
       "      <td>8,6.5</td>\n",
       "      <td>NaN</td>\n",
       "    </tr>\n",
       "    <tr>\n",
       "      <th>500</th>\n",
       "      <td>NODE_12_length_206813_cov_40.160886</td>\n",
       "      <td>36204</td>\n",
       "      <td>A</td>\n",
       "      <td>NaN</td>\n",
       "      <td>107</td>\n",
       "      <td>61.5,24.5</td>\n",
       "      <td>8,13</td>\n",
       "      <td>NaN</td>\n",
       "    </tr>\n",
       "    <tr>\n",
       "      <th>501</th>\n",
       "      <td>NODE_12_length_206813_cov_40.160886</td>\n",
       "      <td>36205</td>\n",
       "      <td>G</td>\n",
       "      <td>C</td>\n",
       "      <td>107</td>\n",
       "      <td>60.5,24.5;1,0</td>\n",
       "      <td>8,13;0,0</td>\n",
       "      <td>ATGCAGTACCTCAAGGAAGAATGTATTACACCTGTGTTCTCTAAAG...</td>\n",
       "    </tr>\n",
       "    <tr>\n",
       "      <th>502</th>\n",
       "      <td>NODE_12_length_206813_cov_40.160886</td>\n",
       "      <td>36206</td>\n",
       "      <td>A</td>\n",
       "      <td>NaN</td>\n",
       "      <td>107</td>\n",
       "      <td>61,24.5</td>\n",
       "      <td>8,13.5</td>\n",
       "      <td>NaN</td>\n",
       "    </tr>\n",
       "  </tbody>\n",
       "</table>\n",
       "</div>"
      ],
      "text/plain": [
       "                                     CHR    POS REF  ALT   DP DETAILS-MIDDLE  \\\n",
       "498  NODE_12_length_206813_cov_40.160886  36202   A  NaN  100        63,24.5   \n",
       "499  NODE_12_length_206813_cov_40.160886  36203   T  NaN  102        63,24.5   \n",
       "500  NODE_12_length_206813_cov_40.160886  36204   A  NaN  107      61.5,24.5   \n",
       "501  NODE_12_length_206813_cov_40.160886  36205   G    C  107  60.5,24.5;1,0   \n",
       "502  NODE_12_length_206813_cov_40.160886  36206   A  NaN  107        61,24.5   \n",
       "\n",
       "    DETAILS-ENDS                                            SUPPORT  \n",
       "498        6.5,6                                                NaN  \n",
       "499        8,6.5                                                NaN  \n",
       "500         8,13                                                NaN  \n",
       "501     8,13;0,0  ATGCAGTACCTCAAGGAAGAATGTATTACACCTGTGTTCTCTAAAG...  \n",
       "502       8,13.5                                                NaN  "
      ]
     },
     "execution_count": 28,
     "metadata": {},
     "output_type": "execute_result"
    }
   ],
   "source": [
    "DP_variants = pd.read_csv('samtovcf/exampleSNP/allsub.vcfer.vcf',sep='\\t',\n",
    "                      comment = '#')\n",
    "DP_variants = DP_variants[DP_variants['POS']<=targetPOS + 20][DP_variants['POS']>=targetPOS - 20]\n",
    "newPOS = 193\n",
    "DP_indel['POS']=DP_indel['POS']-targetPOS + newPOS\n",
    "DP_default['POS']=DP_default['POS']-targetPOS + newPOS\n",
    "DP_bcf['POS']=DP_bcf['POS']-targetPOS + newPOS\n",
    "DP_variants['POS']=DP_variants['POS']-targetPOS + newPOS\n",
    "DP_variants.head()"
   ]
  },
  {
   "cell_type": "code",
   "execution_count": 115,
   "id": "a231f824",
   "metadata": {},
   "outputs": [
    {
     "data": {
      "image/png": "[encoded data removed]",
      "text/plain": [
       "<Figure size 288x144 with 1 Axes>"
      ]
     },
     "metadata": {
      "needs_background": "light"
     },
     "output_type": "display_data"
    }
   ],
   "source": [
    "fig, axs = plt.subplots(nrows=1,ncols = 1,figsize=(4, 2))\n",
    "sns.lineplot(x='POS', y = 'DP',\n",
    "             data=DP_indel,ax = axs,color = '#878787')\n",
    "sns.lineplot(x='POS', y = 'DP',\n",
    "             data=DP_default,ax = axs,color = '#e0e0e0')\n",
    "sns.lineplot(x='POS', y = 'DP',\n",
    "             data=DP_bcf,ax = axs,color = '#4d4d4d')\n",
    "sns.lineplot(x='POS', y = 'DP',\n",
    "             data=DP_variants,ax = axs,color = '#ca0020')\n",
    "axs.set_xlabel('Reference position') \n",
    "axs.set_ylabel('Read depth') \n",
    "# plt.sca(axs)\n",
    "# plt.legend(bbox_to_anchor=(1, 1.0))\n",
    "axs.set_ylim([0,150])\n",
    "plt.scatter( newPOS, 10, color='blue')\n",
    "plt.savefig('samtovcf/exampleSNP/DP.pdf')\n"
   ]
  },
  {
   "cell_type": "code",
   "execution_count": 126,
   "id": "56684a64",
   "metadata": {},
   "outputs": [
    {
     "data": {
      "text/html": [
       "<div>\n",
       "<style scoped>\n",
       "    .dataframe tbody tr th:only-of-type {\n",
       "        vertical-align: middle;\n",
       "    }\n",
       "\n",
       "    .dataframe tbody tr th {\n",
       "        vertical-align: top;\n",
       "    }\n",
       "\n",
       "    .dataframe thead th {\n",
       "        text-align: right;\n",
       "    }\n",
       "</style>\n",
       "<table border=\"1\" class=\"dataframe\">\n",
       "  <thead>\n",
       "    <tr style=\"text-align: right;\">\n",
       "      <th></th>\n",
       "      <th>MAF</th>\n",
       "      <th>Sample</th>\n",
       "      <th>Tool</th>\n",
       "      <th>FN</th>\n",
       "      <th>TP</th>\n",
       "      <th>FP_samePOS</th>\n",
       "      <th>FP_diffPOS</th>\n",
       "      <th>VCF caller</th>\n",
       "    </tr>\n",
       "  </thead>\n",
       "  <tbody>\n",
       "    <tr>\n",
       "      <th>5</th>\n",
       "      <td>0.05</td>\n",
       "      <td>am_AkMu_g0002.fasta.corrected.4e-02.SNP.fasta</td>\n",
       "      <td>bowtie2</td>\n",
       "      <td>53</td>\n",
       "      <td>159</td>\n",
       "      <td>30</td>\n",
       "      <td>55</td>\n",
       "      <td>bcftools Mul-ALT</td>\n",
       "    </tr>\n",
       "    <tr>\n",
       "      <th>6</th>\n",
       "      <td>0.05</td>\n",
       "      <td>am_AkMu_g0002.fasta.corrected.4e-02.SNP.fasta</td>\n",
       "      <td>bowtie2</td>\n",
       "      <td>15</td>\n",
       "      <td>196</td>\n",
       "      <td>28</td>\n",
       "      <td>26</td>\n",
       "      <td>VARIANTS</td>\n",
       "    </tr>\n",
       "    <tr>\n",
       "      <th>7</th>\n",
       "      <td>0.05</td>\n",
       "      <td>am_AkMu_g0002.fasta.corrected.4e-02.SNP.fasta</td>\n",
       "      <td>bowtie2</td>\n",
       "      <td>87</td>\n",
       "      <td>114</td>\n",
       "      <td>16</td>\n",
       "      <td>10</td>\n",
       "      <td>bcftools default</td>\n",
       "    </tr>\n",
       "    <tr>\n",
       "      <th>8</th>\n",
       "      <td>0.05</td>\n",
       "      <td>am_AkMu_g0002.fasta.corrected.4e-02.SNP.fasta</td>\n",
       "      <td>bowtie2</td>\n",
       "      <td>54</td>\n",
       "      <td>154</td>\n",
       "      <td>19</td>\n",
       "      <td>49</td>\n",
       "      <td>bcftools indel</td>\n",
       "    </tr>\n",
       "    <tr>\n",
       "      <th>9</th>\n",
       "      <td>0.05</td>\n",
       "      <td>am_AkMu_g0002.fasta.corrected.4e-02.SNP.fasta</td>\n",
       "      <td>minimap2</td>\n",
       "      <td>54</td>\n",
       "      <td>154</td>\n",
       "      <td>19</td>\n",
       "      <td>49</td>\n",
       "      <td>bcftools indel</td>\n",
       "    </tr>\n",
       "  </tbody>\n",
       "</table>\n",
       "</div>"
      ],
      "text/plain": [
       "    MAF                                         Sample      Tool  FN   TP  \\\n",
       "5  0.05  am_AkMu_g0002.fasta.corrected.4e-02.SNP.fasta   bowtie2  53  159   \n",
       "6  0.05  am_AkMu_g0002.fasta.corrected.4e-02.SNP.fasta   bowtie2  15  196   \n",
       "7  0.05  am_AkMu_g0002.fasta.corrected.4e-02.SNP.fasta   bowtie2  87  114   \n",
       "8  0.05  am_AkMu_g0002.fasta.corrected.4e-02.SNP.fasta   bowtie2  54  154   \n",
       "9  0.05  am_AkMu_g0002.fasta.corrected.4e-02.SNP.fasta  minimap2  54  154   \n",
       "\n",
       "   FP_samePOS  FP_diffPOS        VCF caller  \n",
       "5          30          55  bcftools Mul-ALT  \n",
       "6          28          26          VARIANTS  \n",
       "7          16          10  bcftools default  \n",
       "8          19          49    bcftools indel  \n",
       "9          19          49    bcftools indel  "
      ]
     },
     "execution_count": 126,
     "metadata": {},
     "output_type": "execute_result"
    }
   ],
   "source": [
    "#INDEL MAF\n",
    "indelmaf = pd.read_csv('samtovcf/indelsvcfervsbcftools//modelindelsumall.txt',sep='\\t')\n",
    "indelmaf['VCF caller'] = ''\n",
    "indelmaf['VCF caller']=[x.replace('bowtie2 VARIANTS','VARIANTS'\n",
    "                            ).replace('minimap2 VARIANTS','VARIANTS'\n",
    "                                     ).replace('bwa VARIANTS','VARIANTS'\n",
    "                                              ).replace('bowtie2 indel','bcftools indel'\n",
    "                            ).replace('minimap2 indel','bcftools indel'\n",
    "                                     ).replace('bwa indel','bcftools indel'\n",
    "                                              ).replace('bowtie2 bcfdefault','bcftools default'\n",
    "                            ).replace('minimap2 bcfdefault','bcftools default'\n",
    "                                     ).replace('bwa bcfdefault','bcftools default'\n",
    "                                              ).replace('bowtie2','bcftools Mul-ALT'\n",
    "                            ).replace('minimap2','bcftools Mul-ALT'\n",
    "                                     ).replace('bwa','bcftools Mul-ALT'\n",
    "                                              ) for x in indelmaf['Tool']]\n",
    "indelmaf['Tool'] = [x.split(' ')[0] for x in indelmaf['Tool']]\n",
    "indelmaf=indelmaf[indelmaf['Sample']!='am_AkMu_g0002.fasta.corrected.0.SNP.fasta']\n",
    "indelmaf=indelmaf[indelmaf['Sample']!='am_BaOv_g0001.fasta.corrected.0.SNP.fasta']\n",
    "\n",
    "indelmaf.head()"
   ]
  },
  {
   "cell_type": "code",
   "execution_count": 128,
   "id": "a96f6e1d",
   "metadata": {},
   "outputs": [
    {
     "data": {
      "text/html": [
       "<div>\n",
       "<style scoped>\n",
       "    .dataframe tbody tr th:only-of-type {\n",
       "        vertical-align: middle;\n",
       "    }\n",
       "\n",
       "    .dataframe tbody tr th {\n",
       "        vertical-align: top;\n",
       "    }\n",
       "\n",
       "    .dataframe thead th {\n",
       "        text-align: right;\n",
       "    }\n",
       "</style>\n",
       "<table border=\"1\" class=\"dataframe\">\n",
       "  <thead>\n",
       "    <tr style=\"text-align: right;\">\n",
       "      <th></th>\n",
       "      <th>MAF</th>\n",
       "      <th>Sample</th>\n",
       "      <th>Tool</th>\n",
       "      <th>FN</th>\n",
       "      <th>TP</th>\n",
       "      <th>FP_samePOS</th>\n",
       "      <th>FP_diffPOS</th>\n",
       "      <th>VCF caller</th>\n",
       "    </tr>\n",
       "  </thead>\n",
       "  <tbody>\n",
       "    <tr>\n",
       "      <th>195</th>\n",
       "      <td>1.0</td>\n",
       "      <td>am_AkMu_g0002.fasta.corrected.4e-02.SNP.fasta</td>\n",
       "      <td>bowtie2</td>\n",
       "      <td>200</td>\n",
       "      <td>0</td>\n",
       "      <td>0</td>\n",
       "      <td>0</td>\n",
       "      <td>bcftools Mul-ALT</td>\n",
       "    </tr>\n",
       "    <tr>\n",
       "      <th>196</th>\n",
       "      <td>1.0</td>\n",
       "      <td>am_AkMu_g0002.fasta.corrected.4e-02.SNP.fasta</td>\n",
       "      <td>bowtie2</td>\n",
       "      <td>111</td>\n",
       "      <td>89</td>\n",
       "      <td>10</td>\n",
       "      <td>4</td>\n",
       "      <td>VARIANTS</td>\n",
       "    </tr>\n",
       "    <tr>\n",
       "      <th>197</th>\n",
       "      <td>1.0</td>\n",
       "      <td>am_AkMu_g0002.fasta.corrected.4e-02.SNP.fasta</td>\n",
       "      <td>bowtie2</td>\n",
       "      <td>200</td>\n",
       "      <td>0</td>\n",
       "      <td>0</td>\n",
       "      <td>0</td>\n",
       "      <td>bcftools default</td>\n",
       "    </tr>\n",
       "    <tr>\n",
       "      <th>198</th>\n",
       "      <td>1.0</td>\n",
       "      <td>am_AkMu_g0002.fasta.corrected.4e-02.SNP.fasta</td>\n",
       "      <td>bowtie2</td>\n",
       "      <td>179</td>\n",
       "      <td>21</td>\n",
       "      <td>2</td>\n",
       "      <td>8</td>\n",
       "      <td>bcftools indel</td>\n",
       "    </tr>\n",
       "    <tr>\n",
       "      <th>199</th>\n",
       "      <td>1.0</td>\n",
       "      <td>am_AkMu_g0002.fasta.corrected.4e-02.SNP.fasta</td>\n",
       "      <td>minimap2</td>\n",
       "      <td>179</td>\n",
       "      <td>21</td>\n",
       "      <td>2</td>\n",
       "      <td>8</td>\n",
       "      <td>bcftools indel</td>\n",
       "    </tr>\n",
       "  </tbody>\n",
       "</table>\n",
       "</div>"
      ],
      "text/plain": [
       "     MAF                                         Sample      Tool   FN  TP  \\\n",
       "195  1.0  am_AkMu_g0002.fasta.corrected.4e-02.SNP.fasta   bowtie2  200   0   \n",
       "196  1.0  am_AkMu_g0002.fasta.corrected.4e-02.SNP.fasta   bowtie2  111  89   \n",
       "197  1.0  am_AkMu_g0002.fasta.corrected.4e-02.SNP.fasta   bowtie2  200   0   \n",
       "198  1.0  am_AkMu_g0002.fasta.corrected.4e-02.SNP.fasta   bowtie2  179  21   \n",
       "199  1.0  am_AkMu_g0002.fasta.corrected.4e-02.SNP.fasta  minimap2  179  21   \n",
       "\n",
       "     FP_samePOS  FP_diffPOS        VCF caller  \n",
       "195           0           0  bcftools Mul-ALT  \n",
       "196          10           4          VARIANTS  \n",
       "197           0           0  bcftools default  \n",
       "198           2           8    bcftools indel  \n",
       "199           2           8    bcftools indel  "
      ]
     },
     "execution_count": 128,
     "metadata": {},
     "output_type": "execute_result"
    }
   ],
   "source": [
    "indelmaf.tail()"
   ]
  },
  {
   "cell_type": "code",
   "execution_count": 129,
   "id": "679c7a4c",
   "metadata": {},
   "outputs": [
    {
     "name": "stdout",
     "output_type": "stream",
     "text": [
      "5.8 3.6 1.8018018018018018 1.6126126126126126\n"
     ]
    }
   ],
   "source": [
    "print(87/15,54/15,200/111,179/111)"
   ]
  },
  {
   "cell_type": "code",
   "execution_count": 130,
   "id": "bab95dbb",
   "metadata": {},
   "outputs": [
    {
     "name": "stdout",
     "output_type": "stream",
     "text": [
      "1.8846153846153846 2.0\n"
     ]
    }
   ],
   "source": [
    "print(49/26,8/4)"
   ]
  },
  {
   "cell_type": "code",
   "execution_count": 127,
   "id": "0ef67a4a",
   "metadata": {},
   "outputs": [
    {
     "data": {
      "image/png": "[encoded data removed]",
      "text/plain": [
       "<Figure size 576x288 with 2 Axes>"
      ]
     },
     "metadata": {
      "needs_background": "light"
     },
     "output_type": "display_data"
    }
   ],
   "source": [
    "pallete_set = {\n",
    "        'VARIANTS':'#ca0020','bcftools Mul-ALT':'#4d4d4d','bcftools default':'#e0e0e0','bcftools indel':'#878787'}\n",
    "\n",
    "fig, axs = plt.subplots(nrows=2,ncols = 1,figsize=(8, 4),sharex='col')\n",
    "sns.pointplot(data = indelmaf,\n",
    "                y='FN',x='MAF',hue = 'VCF caller', ax=axs[0],\n",
    "           palette=pallete_set)\n",
    "axs[0].axvline(x=8)\n",
    "\n",
    "axs[0].set_ylabel('FN indels') \n",
    "axs[0].set_xlabel('')\n",
    "axs[0].set_ylim([0,200])\n",
    "plt.sca(axs[0])\n",
    "plt.legend(bbox_to_anchor=(1.0, 1.0),title='VCFer builder')  \n",
    "plt.xticks(rotation=90)\n",
    "sns.pointplot(data = indelmaf,\n",
    "                y='FP_diffPOS',x='MAF',hue = 'VCF caller', ax=axs[1],\n",
    "           palette=pallete_set)\n",
    "axs[1].axvline(x=8)\n",
    "\n",
    "axs[1].set_ylabel('FP indels') \n",
    "axs[1].set_xlabel('Major allele frequency cutoff')\n",
    "plt.sca(axs[1])\n",
    "plt.legend(bbox_to_anchor=(1.0, 1.0),title='VCFer builder')  \n",
    "plt.xticks(rotation=90)\n",
    "\n",
    "plt.savefig('samtovcf/indelsvcfervsbcftools/MAF.pdf')\n"
   ]
  },
  {
   "cell_type": "code",
   "execution_count": 36,
   "id": "a944a11d",
   "metadata": {},
   "outputs": [
    {
     "data": {
      "text/html": [
       "<div>\n",
       "<style scoped>\n",
       "    .dataframe tbody tr th:only-of-type {\n",
       "        vertical-align: middle;\n",
       "    }\n",
       "\n",
       "    .dataframe tbody tr th {\n",
       "        vertical-align: top;\n",
       "    }\n",
       "\n",
       "    .dataframe thead th {\n",
       "        text-align: right;\n",
       "    }\n",
       "</style>\n",
       "<table border=\"1\" class=\"dataframe\">\n",
       "  <thead>\n",
       "    <tr style=\"text-align: right;\">\n",
       "      <th></th>\n",
       "      <th>MAF</th>\n",
       "      <th>Sample</th>\n",
       "      <th>Tool</th>\n",
       "      <th>FN</th>\n",
       "      <th>TP</th>\n",
       "      <th>FP_samePOS</th>\n",
       "      <th>FP_diffPOS</th>\n",
       "      <th>VCF caller</th>\n",
       "    </tr>\n",
       "  </thead>\n",
       "  <tbody>\n",
       "    <tr>\n",
       "      <th>0</th>\n",
       "      <td>0.05</td>\n",
       "      <td>SRR10971381.fasta.200.SNP1.fasta</td>\n",
       "      <td>minimap2</td>\n",
       "      <td>0</td>\n",
       "      <td>20</td>\n",
       "      <td>0</td>\n",
       "      <td>1</td>\n",
       "      <td>bcftools Mul-ALT</td>\n",
       "    </tr>\n",
       "    <tr>\n",
       "      <th>1</th>\n",
       "      <td>0.05</td>\n",
       "      <td>SRR10971381.fasta.200.SNP1.fasta</td>\n",
       "      <td>minimap2</td>\n",
       "      <td>2</td>\n",
       "      <td>18</td>\n",
       "      <td>2</td>\n",
       "      <td>1</td>\n",
       "      <td>VARIANTS</td>\n",
       "    </tr>\n",
       "    <tr>\n",
       "      <th>2</th>\n",
       "      <td>0.05</td>\n",
       "      <td>SRR10971381.fasta.200.SNP1.fasta</td>\n",
       "      <td>minimap2</td>\n",
       "      <td>0</td>\n",
       "      <td>20</td>\n",
       "      <td>0</td>\n",
       "      <td>0</td>\n",
       "      <td>bcftools default</td>\n",
       "    </tr>\n",
       "    <tr>\n",
       "      <th>3</th>\n",
       "      <td>0.05</td>\n",
       "      <td>SRR10971381.fasta.200.SNP1.fasta</td>\n",
       "      <td>minimap2</td>\n",
       "      <td>0</td>\n",
       "      <td>20</td>\n",
       "      <td>0</td>\n",
       "      <td>1</td>\n",
       "      <td>bcftools indel</td>\n",
       "    </tr>\n",
       "    <tr>\n",
       "      <th>4</th>\n",
       "      <td>0.10</td>\n",
       "      <td>SRR10971381.fasta.200.SNP1.fasta</td>\n",
       "      <td>minimap2</td>\n",
       "      <td>0</td>\n",
       "      <td>20</td>\n",
       "      <td>0</td>\n",
       "      <td>0</td>\n",
       "      <td>bcftools Mul-ALT</td>\n",
       "    </tr>\n",
       "  </tbody>\n",
       "</table>\n",
       "</div>"
      ],
      "text/plain": [
       "    MAF                            Sample      Tool  FN  TP  FP_samePOS  \\\n",
       "0  0.05  SRR10971381.fasta.200.SNP1.fasta  minimap2   0  20           0   \n",
       "1  0.05  SRR10971381.fasta.200.SNP1.fasta  minimap2   2  18           2   \n",
       "2  0.05  SRR10971381.fasta.200.SNP1.fasta  minimap2   0  20           0   \n",
       "3  0.05  SRR10971381.fasta.200.SNP1.fasta  minimap2   0  20           0   \n",
       "4  0.10  SRR10971381.fasta.200.SNP1.fasta  minimap2   0  20           0   \n",
       "\n",
       "   FP_diffPOS        VCF caller  \n",
       "0           1  bcftools Mul-ALT  \n",
       "1           1          VARIANTS  \n",
       "2           0  bcftools default  \n",
       "3           1    bcftools indel  \n",
       "4           0  bcftools Mul-ALT  "
      ]
     },
     "execution_count": 36,
     "metadata": {},
     "output_type": "execute_result"
    }
   ],
   "source": [
    "#INDEL MAF COVID\n",
    "indelmaf = pd.read_csv('samtovcf/examplecovid//modelindelsumall.txt',sep='\\t')\n",
    "indelmaf['VCF caller'] = ''\n",
    "indelmaf['VCF caller']=[x.replace('bowtie2 VARIANTS','VARIANTS'\n",
    "                            ).replace('minimap2 VARIANTS','VARIANTS'\n",
    "                                     ).replace('bwa VARIANTS','VARIANTS'\n",
    "                                              ).replace('bowtie2 indel','bcftools indel'\n",
    "                            ).replace('minimap2 indel','bcftools indel'\n",
    "                                     ).replace('bwa indel','bcftools indel'\n",
    "                                              ).replace('bowtie2 bcfdefault','bcftools default'\n",
    "                            ).replace('minimap2 bcfdefault','bcftools default'\n",
    "                                     ).replace('bwa bcfdefault','bcftools default'\n",
    "                                              ).replace('bowtie2','bcftools Mul-ALT'\n",
    "                            ).replace('minimap2','bcftools Mul-ALT'\n",
    "                                     ).replace('bwa','bcftools Mul-ALT'\n",
    "                                              ) for x in indelmaf['Tool']]\n",
    "indelmaf['Tool'] = [x.split(' ')[0] for x in indelmaf['Tool']]\n",
    "indelmaf=indelmaf[indelmaf['Sample']!='am_AkMu_g0002.fasta.corrected.0.SNP.fasta']\n",
    "indelmaf.head()"
   ]
  },
  {
   "cell_type": "code",
   "execution_count": 37,
   "id": "1c9a697b",
   "metadata": {},
   "outputs": [
    {
     "data": {
      "image/png": "[encoded data removed]",
      "text/plain": [
       "<Figure size 288x288 with 2 Axes>"
      ]
     },
     "metadata": {
      "needs_background": "light"
     },
     "output_type": "display_data"
    }
   ],
   "source": [
    "pallete_set = {\n",
    "        'VARIANTS':'#ca0020','bcftools Mul-ALT':'#4d4d4d','bcftools default':'#e0e0e0','bcftools indel':'#878787'}\n",
    "\n",
    "fig, axs = plt.subplots(nrows=2,ncols = 1,figsize=(4, 4),sharex='col')\n",
    "sns.pointplot(data = indelmaf,\n",
    "                y='FN',x='MAF',hue = 'VCF caller', ax=axs[0],\n",
    "           palette=pallete_set)\n",
    "axs[0].axvline(x=8)\n",
    "\n",
    "axs[0].set_ylabel('FN indels') \n",
    "axs[0].set_xlabel('')\n",
    "axs[0].set_ylim([0,20])\n",
    "plt.sca(axs[0])\n",
    "plt.legend(bbox_to_anchor=(1.0, 1.0),title='VCFer builder')  \n",
    "plt.xticks(rotation=90)\n",
    "sns.pointplot(data = indelmaf,\n",
    "                y='FP_diffPOS',x='MAF',hue = 'VCF caller', ax=axs[1],\n",
    "           palette=pallete_set)\n",
    "axs[1].axvline(x=8)\n",
    "\n",
    "axs[1].set_ylabel('FP indels') \n",
    "axs[1].set_xlabel('Major allele frequency cutoff')\n",
    "plt.sca(axs[1])\n",
    "plt.legend(bbox_to_anchor=(1.5, 1.0),title='VCFer builder')  \n",
    "plt.xticks(rotation=90)\n",
    "\n",
    "plt.savefig('samtovcf/examplecovid//MAF.pdf')\n"
   ]
  },
  {
   "cell_type": "code",
   "execution_count": 41,
   "id": "f88e8179",
   "metadata": {},
   "outputs": [
    {
     "data": {
      "image/png": "[encoded data removed]",
      "text/plain": [
       "<Figure size 288x288 with 1 Axes>"
      ]
     },
     "metadata": {
      "needs_background": "light"
     },
     "output_type": "display_data"
    }
   ],
   "source": [
    "pallete_set = {\n",
    "        'QuickVariants':'#ca0020','bcftools Mul-ALT':'#4d4d4d','bcftools default':'#e0e0e0','bcftools indel':'#878787'}\n",
    "indelmaf['VCF caller'] = [x.replace('VARIANTS','QuickVariants') for x in indelmaf['VCF caller']]\n",
    "fig, axs = plt.subplots(nrows=1,ncols = 1,figsize=(4, 4),sharex='col')\n",
    "sns.barplot(data = indelmaf[indelmaf['MAF']==0.8],\n",
    "                y='FN',x='VCF caller',hue = 'VCF caller', ax=axs,dodge=False,\n",
    "           palette=pallete_set)\n",
    "\n",
    "axs.set_ylabel('FN indels') \n",
    "axs.set_xlabel('Variant identifier')\n",
    "axs.set_ylim([0,20])\n",
    "plt.xticks(rotation=90)\n",
    "plt.legend(bbox_to_anchor=(1.5, 1.0))  \n",
    "plt.savefig('samtovcf/examplecovid//COVID.pdf')\n"
   ]
  },
  {
   "cell_type": "code",
   "execution_count": null,
   "id": "d4d75b61",
   "metadata": {},
   "outputs": [],
   "source": []
  }
 ],
 "metadata": {
  "kernelspec": {
   "display_name": "Python 3",
   "language": "python",
   "name": "python3"
  },
  "language_info": {
   "codemirror_mode": {
    "name": "ipython",
    "version": 3
   },
   "file_extension": ".py",
   "mimetype": "text/x-python",
   "name": "python",
   "nbconvert_exporter": "python",
   "pygments_lexer": "ipython3",
   "version": "3.6.10"
  }
 },
 "nbformat": 4,
 "nbformat_minor": 5
}
